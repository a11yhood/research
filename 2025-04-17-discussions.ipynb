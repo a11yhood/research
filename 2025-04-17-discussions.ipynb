{
 "cells": [
  {
   "cell_type": "markdown",
   "id": "3a99a787-2678-45c3-9bef-d077cdabcda4",
   "metadata": {},
   "source": [
    "# gathering information about github discussion"
   ]
  },
  {
   "cell_type": "code",
   "execution_count": 8,
   "id": "5f9c96a5-50e5-4ee0-9763-393c55fa3ab8",
   "metadata": {},
   "outputs": [],
   "source": [
    "    import os, midgy\n",
    "    from pandas import *\n",
    "    from toolz.curried import *\n",
    "    __import__(\"dotenv\").load_dotenv()\n",
    "    client = __import__(\"python_graphql_client\").GraphqlClient(\n",
    "        \"https://api.github.com/graphql\", dict(Authorization=F\"token {os.environ['GITHUB_TOKEN']}\")\n",
    "    )\n",
    "    import bs4\n",
    "    Soup = partial(bs4.BeautifulSoup, features=\"html.parser\")"
   ]
  },
  {
   "cell_type": "code",
   "execution_count": 9,
   "id": "38baf8a3-be13-4ec1-9111-026cb0756b0f",
   "metadata": {},
   "outputs": [
    {
     "data": {
      "text/html": [
       "<pre><code>frame = DataFrame(\n",
       "    await client.execute_async(query :=\n",
       "</code></pre>\n",
       "<pre><code class=\"graphql\"><div class=\"highlight\"><pre><span></span><span class=\"k\">query</span><span class=\"w\"> </span><span class=\"p\">{</span>\n",
       "<span class=\"w\">  </span><span class=\"n\">repository</span><span class=\"p\">(</span><span class=\"n\">owner</span><span class=\"p\">:</span><span class=\"w\"> </span><span class=\"s\">&quot;a11yhood&quot;</span><span class=\"p\">,</span><span class=\"w\"> </span><span class=\"n\">name</span><span class=\"p\">:</span><span class=\"w\"> </span><span class=\"s\">&quot;community&quot;</span><span class=\"p\">)</span><span class=\"w\"> </span><span class=\"p\">{</span>\n",
       "<span class=\"w\">    </span><span class=\"n\">discussion</span><span class=\"p\">(</span><span class=\"n\">number</span><span class=\"p\">:</span><span class=\"w\"> </span><span class=\"mi\">1</span><span class=\"p\">)</span><span class=\"w\"> </span><span class=\"p\">{</span>\n",
       "<span class=\"w\">      </span><span class=\"n\">comments</span><span class=\"p\">(</span><span class=\"n\">first</span><span class=\"p\">:</span><span class=\"w\"> </span><span class=\"mi\">100</span><span class=\"p\">)</span><span class=\"w\"> </span><span class=\"p\">{</span>\n",
       "<span class=\"w\">        </span><span class=\"n\">nodes</span><span class=\"w\"> </span><span class=\"p\">{</span>\n",
       "<span class=\"w\">          </span><span class=\"n\">id</span>\n",
       "<span class=\"w\">          </span><span class=\"n\">bodyHTML</span>\n",
       "<span class=\"w\">        \t</span><span class=\"n\">reactions</span><span class=\"p\">(</span><span class=\"n\">first</span><span class=\"p\">:</span><span class=\"w\"> </span><span class=\"mi\">100</span><span class=\"p\">)</span><span class=\"w\"> </span><span class=\"p\">{</span>\n",
       "<span class=\"w\">            </span><span class=\"n\">nodes</span><span class=\"w\"> </span><span class=\"p\">{</span>\n",
       "<span class=\"w\">              </span><span class=\"n\">user</span><span class=\"w\"> </span><span class=\"p\">{</span>\n",
       "<span class=\"w\">                </span><span class=\"n\">login</span>\n",
       "<span class=\"w\">              </span><span class=\"p\">}</span>\n",
       "<span class=\"w\">              </span><span class=\"n\">content</span>\n",
       "<span class=\"w\">            </span><span class=\"p\">}</span>\n",
       "<span class=\"w\">          </span><span class=\"p\">}</span>\n",
       "<span class=\"w\">          </span><span class=\"n\">author</span><span class=\"w\"> </span><span class=\"p\">{</span>\n",
       "<span class=\"w\">            </span><span class=\"n\">login</span>\n",
       "<span class=\"w\">          </span><span class=\"p\">}</span>\n",
       "<span class=\"w\">        </span><span class=\"p\">}</span>\n",
       "<span class=\"w\">      </span><span class=\"p\">}</span>\n",
       "<span class=\"w\">    </span><span class=\"p\">}</span>\n",
       "<span class=\"w\">  </span><span class=\"p\">}</span>\n",
       "<span class=\"p\">}</span>\n",
       "</pre></div>\n",
       "</code></pre>\n",
       "<pre><code>))</code></pre>"
      ],
      "text/x-python": [
       "\n",
       "frame = DataFrame(\n",
       "    await client.execute_async(query :=\n",
       "    ( # ```graphql\n",
       "\"\"\"query {\n",
       "  repository(owner: \\\"a11yhood\\\", name: \\\"community\\\") {\n",
       "    discussion(number: 1) {\n",
       "      comments(first: 100) {\n",
       "        nodes {\n",
       "          id\n",
       "          bodyHTML\n",
       "        \treactions(first: 100) {\n",
       "            nodes {\n",
       "              user {\n",
       "                login\n",
       "              }\n",
       "              content\n",
       "            }\n",
       "          }\n",
       "          author {\n",
       "            login\n",
       "          }\n",
       "        }\n",
       "      }\n",
       "    }\n",
       "  }\n",
       "}\n",
       "\"\"\") # ```\n",
       "))\n"
      ]
     },
     "metadata": {},
     "output_type": "display_data"
    }
   ],
   "source": [
    "%%\n",
    "    frame = DataFrame(\n",
    "        await client.execute_async(query :=\n",
    "```graphql\n",
    "query {\n",
    "  repository(owner: \"a11yhood\", name: \"community\") {\n",
    "    discussion(number: 1) {\n",
    "      comments(first: 100) {\n",
    "        nodes {\n",
    "          id\n",
    "          bodyHTML\n",
    "        \treactions(first: 100) {\n",
    "            nodes {\n",
    "              user {\n",
    "                login\n",
    "              }\n",
    "              content\n",
    "            }\n",
    "          }\n",
    "          author {\n",
    "            login\n",
    "          }\n",
    "        }\n",
    "      }\n",
    "    }\n",
    "  }\n",
    "}\n",
    "```\n",
    "    ))"
   ]
  },
  {
   "cell_type": "code",
   "execution_count": 10,
   "id": "0932658f-87a6-4748-aa2c-f64912fc5654",
   "metadata": {},
   "outputs": [],
   "source": [
    "(\n",
    "    df :=    \n",
    "     frame.data\n",
    "    .apply(Series)\n",
    "    .discussion\n",
    "    .apply(Series)\n",
    "    .comments\n",
    "    .apply(Series)\n",
    "    .nodes\n",
    "    .explode()\n",
    "    .apply(Series)\n",
    "    .set_index(\"id\")\n",
    ")\n",
    "\n",
    "reactions = df.reactions.apply(Series).nodes.explode().dropna().apply(Series)\n",
    "\n",
    "df = df.drop(columns=\"reactions\")\n",
    "\n",
    "df.author = df.author.apply(get(\"login\"))\n",
    "\n",
    "(\n",
    "    links:= df.bodyHTML\n",
    "    .apply(Soup)\n",
    "    .apply(operator.methodcaller(\"select\", \"a\"))\n",
    "    .explode()\n",
    "    .dropna()\n",
    ")\n",
    "\n",
    "a = links.iloc[0]\n",
    "\n",
    "parts = juxt(operator.methodcaller(\"get_text\"), compose_left(\n",
    "    operator.attrgetter(\"attrs\"), get(\"href\")\n",
    "))\n",
    "\n",
    "df = links.apply(\n",
    "    compose_left(parts, partial(zip, \"title href\".split()), dict, Series)\n",
    ").join(df)"
   ]
  },
  {
   "cell_type": "code",
   "execution_count": 11,
   "id": "90e437e1-edef-42e0-b456-b0b12745a93c",
   "metadata": {},
   "outputs": [],
   "source": [
    "links = df[\"author title href\".split()].set_index(\"href\")"
   ]
  },
  {
   "cell_type": "code",
   "execution_count": 12,
   "id": "5538b908-8607-4071-86c0-443a90814573",
   "metadata": {},
   "outputs": [],
   "source": [
    "import urllib"
   ]
  },
  {
   "cell_type": "code",
   "execution_count": 13,
   "id": "d5c310c6-a5e9-4d53-9f7c-f43b68712145",
   "metadata": {},
   "outputs": [
    {
     "data": {
      "text/plain": [
       "href\n",
       "github.com           3\n",
       "opendesign.guide     1\n",
       "see3d.org            1\n",
       "vis.csail.mit.edu    1\n",
       "arxiv.org            1\n",
       "dl.acm.org           1\n",
       "www.youtube.com      1\n",
       "Name: count, dtype: int64"
      ]
     },
     "execution_count": 13,
     "metadata": {},
     "output_type": "execute_result"
    }
   ],
   "source": [
    "links.index.to_series().apply(\n",
    "    compose_left(urllib.parse.urlparse, operator.attrgetter(\"netloc\"))\n",
    ").value_counts()"
   ]
  }
 ],
 "metadata": {
  "kernelspec": {
   "display_name": "a11yhood-research",
   "language": "python",
   "name": "a11yhood-research"
  },
  "language_info": {
   "codemirror_mode": {
    "name": "ipython",
    "version": 3
   },
   "file_extension": ".py",
   "mimetype": "text/x-python",
   "name": "python",
   "nbconvert_exporter": "python",
   "pygments_lexer": "ipython3",
   "version": "3.13.3"
  }
 },
 "nbformat": 4,
 "nbformat_minor": 5
}
