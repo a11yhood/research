{
 "cells": [
  {
   "cell_type": "markdown",
   "id": "2bbc8f71-a9e2-4bff-81b2-1eb66017a298",
   "metadata": {},
   "source": [
    "# publishing datasette to vercel\n",
    "\n",
    "release a datasette interface on vercel for our assistive technology dataset.\n",
    "\n",
    "the activities of this notebook require [`pixi`](https://pixi.sh) to be installed."
   ]
  },
  {
   "cell_type": "code",
   "execution_count": 1,
   "id": "76ed9cb6-4f2b-4a82-a608-033f874e133d",
   "metadata": {},
   "outputs": [],
   "source": [
    "    import os, json, sys; from pathlib import Path"
   ]
  },
  {
   "cell_type": "code",
   "execution_count": 2,
   "id": "a61b7e60-1e91-468d-aae6-919db3eeb165",
   "metadata": {},
   "outputs": [],
   "source": [
    "    BIN = (PY := Path(sys.executable)).parent\n",
    "    VERCEL = (TARGET := Path(\"vercel-app\")) / \"vercel.json\""
   ]
  },
  {
   "cell_type": "markdown",
   "id": "623ad8b7-f015-4894-b61e-e45fa046872a",
   "metadata": {},
   "source": [
    "## build the publishable vercel assets\n",
    "\n",
    "use the datasette command line to generate the vercel assets. this requires https://github.com/simonw/datasette-publish-vercel/."
   ]
  },
  {
   "cell_type": "code",
   "execution_count": 3,
   "id": "251ac0ef-38df-4baa-a4e9-e6f83f2cf7dd",
   "metadata": {},
   "outputs": [
    {
     "name": "stdout",
     "output_type": "stream",
     "text": [
      "\u001b[2KYour generated application files have been written to:                                   \n",
      "    /Users/tonyfast/research/vercel-app\n",
      "\n",
      "To deploy using Vercel, run the following:\n",
      "    cd /Users/tonyfast/research/vercel-app\n",
      "    vercel --prod\n",
      "at.sqlite        index.py         requirements.txt vercel.json\n",
      "{\n",
      "    \"name\": \"a11yhood\",\n",
      "    \"version\": 2,\n",
      "    \"builds\": [\n",
      "        {\n",
      "            \"src\": \"index.py\",\n",
      "            \"use\": \"@vercel/python@3.0.7\"\n",
      "        }\n",
      "    ],\n",
      "    \"routes\": [\n",
      "        {\n",
      "            \"src\": \"(.*)\",\n",
      "            \"dest\": \"index.py\"\n",
      "        }\n",
      "    ]\n",
      "}"
     ]
    }
   ],
   "source": [
    "    !rm -rf $TARGET\n",
    "    !pixi r python -m datasette publish vercel at.sqlite --project=a11yhood --generate-dir $TARGET && ls $TARGET\n",
    "    !cat $VERCEL"
   ]
  },
  {
   "cell_type": "markdown",
   "id": "c95c9d13-cc63-4eeb-803e-0ea41f1399e1",
   "metadata": {},
   "source": [
    "we get errors when using the default settings like `\"use\": \"@vercel/python@3.0.7\"` so we patch it with a newer version \"use\": \"@vercel/python@4.7.2\""
   ]
  },
  {
   "cell_type": "code",
   "execution_count": 4,
   "id": "a46aa8f2-c99e-430a-8906-bccd1c962f90",
   "metadata": {},
   "outputs": [
    {
     "data": {
      "text/plain": [
       "209"
      ]
     },
     "execution_count": 4,
     "metadata": {},
     "output_type": "execute_result"
    }
   ],
   "source": [
    "    vercel = json.loads(VERCEL.read_text())\n",
    "    for build in vercel[\"builds\"]:\n",
    "        if build[\"use\"].startswith(\"@vercel/python\"):\n",
    "            build[\"use\"] = \"@vercel/python@4.7.2\"\n",
    "    VERCEL.write_text(json.dumps(vercel, indent=2))"
   ]
  },
  {
   "cell_type": "markdown",
   "id": "b488d4d6-3fe9-411c-8227-face535dd5c6",
   "metadata": {},
   "source": [
    "## deploy the vercel app"
   ]
  },
  {
   "cell_type": "code",
   "execution_count": 5,
   "id": "3ccc1bc0-5589-4ac0-8ce3-06f5188e4237",
   "metadata": {},
   "outputs": [],
   "source": [
    "    if CI := (os.environ.get(\"CI\")):\n",
    "        !pixi r vercel $TARGET --prod --yes"
   ]
  }
 ],
 "metadata": {
  "kernelspec": {
   "display_name": "a11yhood-research",
   "language": "python",
   "name": "a11yhood-research"
  },
  "language_info": {
   "codemirror_mode": {
    "name": "ipython",
    "version": 3
   },
   "file_extension": ".py",
   "mimetype": "text/x-python",
   "name": "python",
   "nbconvert_exporter": "python",
   "pygments_lexer": "ipython3",
   "version": "3.13.3"
  }
 },
 "nbformat": 4,
 "nbformat_minor": 5
}
