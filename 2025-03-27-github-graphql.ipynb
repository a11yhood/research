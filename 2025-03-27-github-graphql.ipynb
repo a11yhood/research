{
 "cells": [
  {
   "cell_type": "markdown",
   "id": "3ca51978-ebd2-4db8-8746-274e9ff2eb8d",
   "metadata": {},
   "source": [
    "# gathering metadata on assistive technology\n",
    "\n",
    "using github graphql api to gather metadata about\n",
    "projects tagged with assistive technology."
   ]
  },
  {
   "cell_type": "markdown",
   "id": "8290d7d0-7b24-4266-a4a6-97799aa8257a",
   "metadata": {},
   "source": [
    "this exploration looks specifically at assistive technology tags.\n",
    "this might be a good _training_ set for a more open general search\n",
    "that tries to differentiate between assistive tech presenting and the real deal."
   ]
  },
  {
   "cell_type": "code",
   "execution_count": 1,
   "id": "14c51b4d-67c4-42bc-84a5-4b128b770d75",
   "metadata": {},
   "outputs": [],
   "source": [
    "    import os, pandas\n",
    "    from toolz.curried import *\n",
    "    from pandas import DataFrame, Series, Index\n",
    "    __import__(\"dotenv\").load_dotenv()\n",
    "    client = __import__(\"python_graphql_client\").GraphqlClient(\n",
    "        \"https://api.github.com/graphql\", dict(Authorization=F\"token {os.environ['GITHUB_TOKEN']}\")\n",
    "    )\n"
   ]
  },
  {
   "cell_type": "code",
   "execution_count": 2,
   "id": "1688257d-10a9-4e9c-9a63-5c16dc80f121",
   "metadata": {},
   "outputs": [],
   "source": [
    "search_blob = \"\"\"{\n",
    "      search(query: \"%s\", type: REPOSITORY, first: 50, after: %s) {\n",
    "        repositoryCount\n",
    "    wikiCount\n",
    "    pageInfo {\n",
    "      hasNextPage\n",
    "      endCursor\n",
    "    }\n",
    "    edges {\n",
    "      node {\n",
    "        ... on Repository {\n",
    "          url\n",
    "          id\n",
    "          stargazerCount\n",
    "          forkCount\n",
    "          description\n",
    "          issues {\n",
    "            totalCount\n",
    "          }\n",
    "          languages(first: 20) {\n",
    "            nodes {\n",
    "              name\n",
    "            }\n",
    "          }\n",
    "          licenseInfo {\n",
    "            name\n",
    "          }\n",
    "          fundingLinks {\n",
    "            platform\n",
    "            url\n",
    "          }      \n",
    "          pullRequests {\n",
    "            totalCount\n",
    "          }\n",
    "          updatedAt\n",
    "          object(expression: \"HEAD:README.md\") {\n",
    "            ... on Blob {\n",
    "              text\n",
    "            }\n",
    "          }\n",
    "          repositoryTopics(first: 20) {\n",
    "            edges {\n",
    "              node {\n",
    "                topic {\n",
    "                  name\n",
    "                }\n",
    "              }\n",
    "            }\n",
    "          }\n",
    "        }\n",
    "      }\n",
    "    }\n",
    "      }\n",
    "}\"\"\""
   ]
  },
  {
   "cell_type": "code",
   "execution_count": 3,
   "id": "7f0b97d7-07df-43f7-b26c-d7e8c9190018",
   "metadata": {},
   "outputs": [],
   "source": [
    "    async def search_one(query, after=None):\n",
    "        search_cache.parent.mkdir(exist_ok=True, parents=True)\n",
    "        with __import__(\"shelve\").open(search_cache) as cache:\n",
    "            id = F\"{query}-{after}\"\n",
    "            cache[id] = await client.execute_async(\n",
    "                search_blob % (query, str(after and F'\"{after}\"' or \"null\")))\n",
    "            return cache[id]\n"
   ]
  },
  {
   "cell_type": "code",
   "execution_count": 4,
   "id": "59f3c74e-48ca-4ce0-8373-740610ca4cab",
   "metadata": {},
   "outputs": [],
   "source": [
    "    import platformdirs\n",
    "    from pathlib import Path\n",
    "    cache = platformdirs.user_cache_path(\"a11yhood\") / \"github\"\n",
    "    cache = Path(\"data/github\")\n",
    "    search_cache = cache / \"search_responses.pkl\""
   ]
  },
  {
   "cell_type": "code",
   "execution_count": 5,
   "id": "411f0cda-5640-46b2-8ded-1c4499b82736",
   "metadata": {},
   "outputs": [],
   "source": [
    "    async def search(query, stop=20):       \n",
    "        queries = [await search_one(query)]\n",
    "        ct = 0\n",
    "        while queries[-1][\"data\"][\"search\"]:\n",
    "            if info := queries[-1][\"data\"][\"search\"].get(\"pageInfo\"):\n",
    "                if info[\"hasNextPage\"]:\n",
    "                    print(queries[-1][\"data\"][\"search\"][\"pageInfo\"][\"endCursor\"])\n",
    "                    queries.append(await search_one(query, queries[-1][\"data\"][\"search\"][\"pageInfo\"][\"endCursor\"]))\n",
    "                    print(F\"done {ct}\")\n",
    "                    ct += 1\n",
    "                    if ct == stop: break\n",
    "                    continue\n",
    "            break\n",
    "        return queries"
   ]
  },
  {
   "cell_type": "code",
   "execution_count": null,
   "id": "14419182-f624-4646-83ec-7881e62a29cf",
   "metadata": {},
   "outputs": [
    {
     "name": "stdout",
     "output_type": "stream",
     "text": [
      "Y3Vyc29yOjUw\n",
      "done 0\n",
      "Y3Vyc29yOjUw\n"
     ]
    },
    {
     "name": "stdout",
     "output_type": "stream",
     "text": [
      "done 0\n"
     ]
    },
    {
     "name": "stdout",
     "output_type": "stream",
     "text": [
      "Y3Vyc29yOjUw\n"
     ]
    },
    {
     "name": "stdout",
     "output_type": "stream",
     "text": [
      "done 0\n"
     ]
    }
   ],
   "source": [
    "df = pandas.concat([\n",
    "    DataFrame(results := await search(\"topic:assistive-technology\", os.environ.get(\"PAGES\", 1))),\n",
    "    DataFrame(results := await search(\"topic:screen-reader\", os.environ.get(\"PAGES\", 1)))])"
   ]
  },
  {
   "cell_type": "code",
   "execution_count": null,
   "id": "84c63b4b-2aab-41d7-9d1d-12d6240bca45",
   "metadata": {},
   "outputs": [],
   "source": [
    "    with __import__(\"shelve\").open(search_cache) as db:\n",
    "        data = {k: v for k, v in db.items()}"
   ]
  },
  {
   "cell_type": "code",
   "execution_count": null,
   "id": "84715b7a-523a-4071-b758-f4988761c14b",
   "metadata": {},
   "outputs": [],
   "source": [
    "    Series(data).apply(compose(get(\"edges\"), get(\"search\"), get(\"data\"))).explode(\n",
    "        \n",
    "    ).apply(compose(Series, get(\"node\")))"
   ]
  },
  {
   "cell_type": "markdown",
   "id": "739fbc91-1a75-4e78-a884-bf44156867ca",
   "metadata": {},
   "source": [
    "https://github.com/a11yhood/research/blob/main/2025-01-14-graphql.ipynb"
   ]
  },
  {
   "cell_type": "code",
   "execution_count": null,
   "id": "ab574ea6-1a4c-460c-a251-7a05ff21ac86",
   "metadata": {},
   "outputs": [],
   "source": [
    "data = df[\"data\"].apply(Series\n",
    ")[\"search\"].apply(Series\n",
    ")[\"edges\"].explode(\n",
    ").apply(Series)[\"node\"].apply(Series).set_index(\"id\")\n",
    "data.pullRequests = data.pullRequests.apply(operator.itemgetter(\"totalCount\"))\n",
    "data.issues = data.issues.apply(operator.itemgetter(\"totalCount\"))\n",
    "data[\"README\"] = data.pop(\"object\").apply(lambda x: x and operator.itemgetter(\"text\") or \"\")\n",
    "\n",
    "data = data.join(\n",
    "    data.pop(\"repositoryTopics\").apply(Series)[\"edges\"]\n",
    "    .explode().apply(operator.itemgetter(\"node\")).apply(operator.itemgetter(\"topic\")).apply(operator.itemgetter(\"name\"))\n",
    "    .groupby(level=0).agg(list).rename(\"topics\")\n",
    ")"
   ]
  },
  {
   "cell_type": "code",
   "execution_count": null,
   "id": "0403f655-6d77-4987-8db2-eff3d5abd4e6",
   "metadata": {},
   "outputs": [],
   "source": [
    "data.topics.explode().value_counts().to_frame(\"count\").T.style.set_caption(\n",
    "    \"the column titles are the tags of the returned search results and their counts are in the cells below\"\n",
    ")"
   ]
  },
  {
   "cell_type": "code",
   "execution_count": null,
   "id": "114f382d-4ab6-44b2-a80d-e9926f923a28",
   "metadata": {},
   "outputs": [],
   "source": []
  }
 ],
 "metadata": {
  "kernelspec": {
   "display_name": "Python 3 (ipykernel)",
   "language": "python",
   "name": "python3"
  },
  "language_info": {
   "codemirror_mode": {
    "name": "ipython",
    "version": 3
   },
   "file_extension": ".py",
   "mimetype": "text/x-python",
   "name": "python",
   "nbconvert_exporter": "python",
   "pygments_lexer": "ipython3",
   "version": "3.13.0"
  },
  "widgets": {
   "application/vnd.jupyter.widget-state+json": {
    "state": {},
    "version_major": 2,
    "version_minor": 0
   }
  }
 },
 "nbformat": 4,
 "nbformat_minor": 5
}
