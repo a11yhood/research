{
 "cells": [
  {
   "cell_type": "markdown",
   "id": "cd2d00c4-c6e6-427d-a0f5-458b525d11a5",
   "metadata": {},
   "source": [
    "# extracting line, paragraph, and page level ocr data\n",
    "\n",
    "https://en.wikipedia.org/wiki/HOCR"
   ]
  },
  {
   "cell_type": "code",
   "execution_count": 1,
   "id": "8cb6515e-4c4c-4d16-b815-860bb9367b9b",
   "metadata": {},
   "outputs": [],
   "source": [
    "import bs4\n",
    "soup = bs4.BeautifulSoup(Path(\"/Users/tonyfast/Downloads/fashions-handee_hocr.html\").read_text(), features=\"html.parser\")"
   ]
  },
  {
   "cell_type": "markdown",
   "id": "eb22a6f9-02f1-421e-b92a-7c61031b1feb",
   "metadata": {},
   "source": [
    "load ocr data as an array"
   ]
  },
  {
   "cell_type": "code",
   "execution_count": 2,
   "id": "2515e6cc-7f6d-4af0-81f8-278c53fe1d3b",
   "metadata": {},
   "outputs": [],
   "source": [
    "elements = Series(soup.body.find_all(), name=\"element\")"
   ]
  },
  {
   "cell_type": "markdown",
   "id": "1440d420-78e2-4680-a8d6-52a080d79e47",
   "metadata": {},
   "source": [
    "tidy the data"
   ]
  },
  {
   "cell_type": "code",
   "execution_count": 3,
   "id": "59f68372-6ce3-4928-9ab9-530ae0511e48",
   "metadata": {},
   "outputs": [],
   "source": [
    "df = elements.apply(\n",
    "    compose_left(operator.attrgetter(\"attrs\"), Series)\n",
    ").join(elements)\n",
    "\n",
    "classes = (\n",
    "    df[\"class\"]\n",
    "    .dropna()\n",
    "    .explode()\n",
    "    .str.removeprefix(\"ocr_\")\n",
    "    .str.removeprefix(\"ocrx_\")\n",
    ")\n",
    "\n",
    "assert len(classes.index.unique()) == len(classes)\n",
    "\n",
    "df = df.drop(columns=\"class\").join(classes.rename(\"klass\"))\n",
    "df = df.assign(\n",
    "    page=df.klass.eq(\"page\").cumsum(),\n",
    "    par=df.klass.eq(\"par\").cumsum(),\n",
    "    word=df.klass.eq(\"word\").cumsum(),\n",
    "    line=df.klass.eq(\"line\").cumsum()\n",
    ")\n",
    "page_line = pl = df.groupby(\"page\").line.apply(lambda s: s - s.min())\n",
    "df = df.assign(page_line = Series(pl.values, pl.index.get_level_values(1), name=\"page_line\"))\n",
    "df = df.join(df[(df.klass == \"word\")].element.apply(bs4.Tag.get_text).rename(\"letters\"))"
   ]
  },
  {
   "cell_type": "markdown",
   "id": "acb562f1-6a20-464e-aead-4ea10a958a7b",
   "metadata": {},
   "source": [
    "combine the words on each line"
   ]
  },
  {
   "cell_type": "code",
   "execution_count": 4,
   "id": "edbaba38-4165-4d5d-9943-fa9a04f9da77",
   "metadata": {},
   "outputs": [],
   "source": [
    "lines = df.groupby(\"page par page_line\".split()).letters.agg(\n",
    "    compose(lambda x: x or None, \" \".join, Series.dropna)\n",
    ").dropna()"
   ]
  },
  {
   "cell_type": "markdown",
   "id": "0fb1012c-3a0c-4fb6-b998-664023925c27",
   "metadata": {},
   "source": [
    "aggregate the page content"
   ]
  },
  {
   "cell_type": "code",
   "execution_count": 5,
   "id": "ad2f37ca-5667-4dd1-bfa2-bbe1358047da",
   "metadata": {},
   "outputs": [
    {
     "data": {
      "text/markdown": [
       "### Page 1"
      ],
      "text/plain": [
       "'### Page 1'"
      ]
     },
     "metadata": {},
     "output_type": "display_data"
    },
    {
     "name": "stdout",
     "output_type": "stream",
     "text": [
      "FASHIONS FOR THE HANDICAPPED\n",
      "\n",
      "CUSTOM MADE GARMENTS\n",
      "or\n",
      "SEW—IT—YOURSELF KITS\n",
      "\n",
      "WOMEN’S WASH & WEAR, REASONABLY PRICED\n",
      "DESIGNED FOR COMFORT AND CONVENIENCE\n",
      "OF THE HANDICAPPED\n",
      "\n",
      "C.O. Smith\n",
      "7674 Park Ave.\n",
      "Lowville, N.Y. 13367\n",
      "\n",
      "Telephone (315) 376-7020\n"
     ]
    },
    {
     "data": {
      "text/markdown": [
       "### Page 2"
      ],
      "text/plain": [
       "'### Page 2'"
      ]
     },
     "metadata": {},
     "output_type": "display_data"
    },
    {
     "name": "stdout",
     "output_type": "stream",
     "text": [
      "PICK A POCKET\n",
      "\n",
      "Walker Pocket + 61\n",
      "\n",
      "Two sturdy pockets that fasten securely to\n",
      "walker bar with 3 Velcro tabs. Provides lots of\n",
      "carrying space. Sturdy construction and hold\n",
      "fast stitching. :\n",
      "\n",
      "onesize 12x15\" $4.50\n",
      "\n",
      "Also available with expansion pockets, more\n",
      "carrying space.\n",
      "\n",
      "#61X $5.00\n",
      "\n",
      "Double Walker Pockets + 65\n",
      "\n",
      "Twice the pockets of # 61. Two pockets hang\n",
      "on front and back of walker bar, secured by\n",
      "straps with Velcro.\n",
      "\n",
      "$7.00\n",
      "\n",
      "Saddlebag + 62\n",
      "\n",
      "This crutch pocket fastens to the hand bar of\n",
      "crutches with two sets of ties. Tab on back\n",
      "keeps pocket from swinging out. Slip on from\n",
      "bottom. May also work on some canes.\n",
      "\n",
      "Regular size, 8’ x 11”\n",
      "$3.00\n",
      "\n",
      "Large size, 10%\" x 12”\n",
      "$3.50\n",
      "\n",
      "Catheter Pocket + 66 (not shown)\n",
      "\n",
      "An envelope type pocket to hide drainage\n",
      "bag. This can be ordered to match any\n",
      "garment in the HANDEE line. No charge with\n",
      "order. This is complimentary to anyone who\n",
      "needs it. Size 12” x 14”\n",
      "\n",
      "Side Saddle Bag # 69\n",
      "\n",
      "Two expansion type pockets tie on the arm of\n",
      "a wheelchair. Sturdy construction.\n",
      "\n",
      "$4.50\n",
      "\n",
      "8%\" x 14”\n",
      "\n",
      "All Pockets are available in these print fabrics:\n",
      "\n",
      "Jacquard, Tapestry, Drapery Denim,\n",
      "Kettle Cloth, Sailcloth\n",
      "Color choice\n"
     ]
    },
    {
     "data": {
      "text/markdown": [
       "### Page 3"
      ],
      "text/plain": [
       "'### Page 3'"
      ]
     },
     "metadata": {},
     "output_type": "display_data"
    },
    {
     "name": "stdout",
     "output_type": "stream",
     "text": [
      "TOPS AND APRONS\n",
      "\n",
      "Poncho # 10\n",
      "\n",
      "This easy-on top is smashing in striped small, medium, large\n",
      "cotton-poly or cotton dacron or arnel. Side #10 ,\n",
      "ties can be fastened by Velcro if desired.\n",
      "\n",
      "Light weight fabrics are lined. Heavier $12.00\n",
      "\n",
      "unlined. Patch Pocket. #10 Kit\n",
      "\n",
      "$ 6.00\n",
      "\n",
      "Bib Top # 19\n",
      "\n",
      "This bib top has a self tie that can be attached\n",
      "by a Velcro band to flared skirt + 36 to make\n",
      "a boutique jumper. Order with # 36 skirt.\n",
      "One size only.\n",
      "\n",
      "#19\n",
      "\n",
      "# 19 # 19 Kit\n",
      "Tabard # 11 $5.00 $3.00\n",
      "\n",
      "This versatile top resembles the old favorite\n",
      "cobbler apron with a divided pocket across\n",
      "the bottom. In two lengths: shorter for\n",
      "wheelchair sitting comes to tailbone, The\n",
      "longer mid-thigh length is for ambulatory\n",
      "persons and has a half-belt rather than side\n",
      "tabs, secured by Velcro.\n",
      "\n",
      "Hoop Apron # 63\n",
      "\n",
      "This apron can be put on with one hand since\n",
      "it is gathered onto a plastic hoop that\n",
      "stretches to hug waist. Hoop removable for\n",
      "washing. Three roomy pockets. One size.\n",
      "\n",
      "One size\n",
      "\n",
      "cotton ticking,\n",
      "\n",
      "acrylic plaids : ;\n",
      "calico and percale prints\n",
      "#11 #63 # 63 Kit\n",
      "Short tabard $12.00\n",
      "\n",
      "Long tabard $14.00\n",
      "\n",
      "\"mm ay t\n",
      "=ailT ih MIC a\n",
      "wr ‘ona nh\n",
      "\n",
      "ig eT fa Simi, :\n",
      "ee Pints\n",
      "\n",
      "‘#17 Kit\n",
      "Short tabard $ 6.00\n",
      "Long tabard $ 7.00 he\n",
      "\n",
      "#11 |\n",
      "\n",
      "# 63\n",
      "\n",
      "[4]\n"
     ]
    },
    {
     "data": {
      "text/markdown": [
       "### Page 4"
      ],
      "text/plain": [
       "'### Page 4'"
      ]
     },
     "metadata": {},
     "output_type": "display_data"
    },
    {
     "name": "stdout",
     "output_type": "stream",
     "text": [
      "Wrap # 40\n",
      "\n",
      "This style offers the comfort of large sleeves\n",
      "with ample overlap in front, bound in\n",
      "contrasting colors. Velcro holds the front\n",
      "closed. Patch pocket.\n",
      "\n",
      "Sizes 10 - 20\n",
      "seersucker\n",
      "\n",
      "dacron-cotton brushed nylon\n",
      "\n",
      "#40 # 40 Kit\n",
      "$26.00 $13.00\n",
      "\n",
      "velour —\n",
      "$32.00 $16.00\n",
      "\n",
      "Brunch Coat + 41\n",
      "{not shown)\n",
      "\n",
      "Same style as above only with short sleeves,\n",
      "knee length. Also sleeveless.\n",
      "\n",
      "dacron-cotton brushed nylon seersucker\n",
      "#41 # 41 Kit\n",
      "$24.00 $12.00\n",
      "S\n",
      "i\n",
      "\\ # 42\n",
      "\n",
      "Mandarin # 42\n",
      "\n",
      "Raglan sleeves and a stand-up collar make this\n",
      "style ever popular. Front opening fastened\n",
      "halfway with Velcro. Covered buttons on top\n",
      "side, in-seam pocket. Two lengths.\n",
      "\n",
      "Sizes 8 - 20\n",
      "dacron-cotton brushed nylon — seersucker\n",
      "+ 42 # 42 Kit\n",
      "short $24.00 $12.00\n",
      "long $26.00 $13.00\n",
      "velour—\n",
      "short $28.00 $14.00\n",
      "long $32.00 $16.00\n"
     ]
    },
    {
     "data": {
      "text/markdown": [
       "### Page 5"
      ],
      "text/plain": [
       "'### Page 5'"
      ]
     },
     "metadata": {},
     "output_type": "display_data"
    },
    {
     "name": "stdout",
     "output_type": "stream",
     "text": [
      "tae naepeeremonsvae\n",
      "\n",
      "Poncho # 10\n",
      "\n",
      "This easy-on top is smashing in striped\n",
      "cotton-poly or cotton dacron or arnel. Side\n",
      "ties can be fastened by Velcro if desired.\n",
      "Light weight fabrics are lined. Heavier\n",
      "unlined. Patch Pocket.\n",
      "\n",
      "# 19\n",
      "\n",
      "Tabard + 11\n",
      "\n",
      "This versatile top resembles the old favorite\n",
      "cobbler apron with a divided pocket across\n",
      "the bottom. In two lengths: shorter for\n",
      "wheelchair sitting comes to tailbone. The\n",
      "longer mid-thigh length is for ambulatory\n",
      "persons and has a half-belt rather than side\n",
      "tabs, secured by Velcro.\n",
      "\n",
      "One size\n",
      "\n",
      "cotton ticking,\n",
      "acrylic plaids\n",
      "\n",
      "#11\n",
      "Short tabard $12.00\n",
      "Longtabard $14.00\n",
      "\n",
      "#11 Kit\n",
      "Short tabard $ 6.00\n",
      "Long tabard $ 7.00\n",
      "\n",
      "ura ia\n",
      "\n",
      "jms s\n",
      "\n",
      "per |\n",
      "\n",
      "#11\n",
      "\n",
      "TOPS AND APRONS\n",
      "\n",
      "small, medium, large\n",
      "# 10\n",
      "$12.00\n",
      "\n",
      "# 10 Kit\n",
      "$ 6.00\n",
      "\n",
      "# 10\n",
      "\n",
      "Bib Top # 19\n",
      "\n",
      "This bib top has a self tie that can be attached\n",
      "by a Velcro band to flared skirt # 36 to make\n",
      "a boutique jumper. Order with # 36 skirt.\n",
      "One size only.\n",
      "\n",
      "# 19 # 19 Kit\n",
      "$5.00 $3.00\n",
      "\n",
      "Hoop Apron # 63\n",
      "\n",
      "This apron can be put on with one hand since\n",
      "it is gathered onto a plastic hoop that\n",
      "stretches to hug waist. Hoop removable for\n",
      "\n",
      "washing. Three roomy pockets. One size.\n",
      "\n",
      "calico and percale prints\n"
     ]
    },
    {
     "data": {
      "text/markdown": [
       "### Page 6"
      ],
      "text/plain": [
       "'### Page 6'"
      ]
     },
     "metadata": {},
     "output_type": "display_data"
    },
    {
     "name": "stdout",
     "output_type": "stream",
     "text": [
      "ff\n",
      "\n",
      "Dropped Shoulder Caftan + 46\n",
      "\n",
      ": Roomy shoulders and full skirt. Front neck\n",
      "' opens with tie or may be opened down the\n",
      "i back with Velcro closures to waist. Bracelet\n",
      "| sleeves. In-seam pocket.\n",
      "\n",
      ")\n",
      "\n",
      "Sizes 12-18\n",
      "\n",
      "nylon jersey polyester prints\n",
      "\n",
      "# 46 # 46 Kit\n",
      "$26.00 $13.00\n",
      "\n",
      "# 47\n",
      "\n",
      "x ¢\n",
      "\n",
      "(ra Recast ecresecpetanetinc manner\n",
      "\n",
      ">\n",
      "\n",
      "CAFTANS\n",
      "\n",
      "Cape Sleeve Caftan # 47\n",
      "\n",
      "This has a tie front opening but may be\n",
      "ordered as a full back opening with Velcro\n",
      "closures to the waist, roomy skirt.\n",
      "\n",
      "Sizes 8- 18\n",
      "\n",
      "nylon jersey polyester prints\n",
      "dacron-cotton —seersucker\n",
      "\n",
      "# 47 # 47 Kit\n",
      "$26.00 $13.00\n",
      "\n",
      "ANY CAFTAN MAY BE OPENED WITHA FRONT ZIPPER TO FACILITATE DRESSING. (Zipper $2.00 extra)\n"
     ]
    },
    {
     "data": {
      "text/markdown": [
       "### Page 7"
      ],
      "text/plain": [
       "'### Page 7'"
      ]
     },
     "metadata": {},
     "output_type": "display_data"
    },
    {
     "name": "stdout",
     "output_type": "stream",
     "text": [
      "SLEEP SHIRTS\n",
      "\n",
      "Open Front Shirt + 43\n",
      "\n",
      "Sleep easy in this brunch coat sleeper. Closed\n",
      "about % down with hidden Velcro tabs. Patch\n",
      "pocket. Above-knee length. Attractive\n",
      "cover-up by day as well. In two styles:\n",
      "\n",
      "(1) Tailered look with stand-up collar, long\n",
      "sleeves with cuff, buttons on front band.\n",
      "\n",
      "(2) Pretty shirt with trim down the front,\n",
      "round collar band, roll-up sleeves. Both\n",
      "above-knee length.\n",
      "\n",
      "Open Back Shirt = 44\n",
      "\n",
      "This shirt is similar to styles (1) or (2) above\n",
      "only it opens in the back with generous\n",
      "overlap fastened with two Velcro tabs at\n",
      "neck. Round front neck band on this style.\n",
      "\n",
      "Sizes 8 - 18\n",
      "\n",
      "seersucker brushed nylon broadcloth\n",
      "dacron-cotton prints\n",
      "\n",
      "# 43,444 # 43 Kit, = 44 Kit\n",
      "$18.00 $9.00\n",
      "\n",
      "Add $2.00 for a longer shirt.\n",
      "\n",
      "Also sleeveless.\n",
      "\n",
      "Back View\n",
      "- # 44\n"
     ]
    },
    {
     "data": {
      "text/markdown": [
       "### Page 8"
      ],
      "text/plain": [
       "'### Page 8'"
      ]
     },
     "metadata": {},
     "output_type": "display_data"
    },
    {
     "name": "stdout",
     "output_type": "stream",
     "text": [
      "ia : 5\n",
      "\n",
      "Lap Robe # 12\n",
      "\n",
      "This robe has an envelope at the bottom to\n",
      "tuck feet in and secure robe from the breeze.\n",
      "Bottom contoured to fit a wheelchair. Ample\n",
      "tuck-in at top. Patch Pocket. Robe fringed.\n",
      "\n",
      "one size about 30” x 46”\n",
      "\n",
      "#12 # 12 Kit\n",
      "acrylic plaid $16.00 $ 8.00\n",
      "wool plaid $22.00 $11.00\n",
      "Capelet # 16\n",
      "\n",
      "This over-the-shoulder cape is a dress-up\n",
      "quickie for bed patients when visitors come.\n",
      "Throw it over your shoulders and you are\n",
      "instantly dressed up. Ties at neck. Pretty trim\n",
      "all around. Great gift.\n",
      "\n",
      "one size about 36” wide\n",
      "flocked dacron gauze\n",
      "# 16 # 16 Kit\n",
      ". $6.00\n",
      "\n",
      "Shoulder Warmer + 17\n",
      "\n",
      "Same style and size as capelet but in a heavier\n",
      "fabric to warm up those cold shoulders.\n",
      "Untrimmed.\n",
      "\n",
      "velour fleece\n",
      "\n",
      "#17 #17 Kit\n",
      "$12.00 $6.00\n",
      "\n",
      "CAPELETS, CAPES and LAP ROBES\n",
      "\n",
      "Full Cape + 18\n",
      "\n",
      "This warm cape is designed to be easily put on\n",
      "while sitting in a wheelchair. Neck opening\n",
      "has ribbed stretch band for warmth. Cape is\n",
      "cut shorter in back. Long front comes down\n",
      "over the knees. Arm slits. Fringed.\n",
      "\n",
      "one size 48”’ wide\n",
      "\n",
      "warm acrylic plaid or wool plaid\n",
      "rust Orange or blue green\n",
      "\n",
      "#18\n",
      "acrylic $20.00\n",
      "wool $26.00\n",
      "\n",
      "# 18 Kit\n",
      "acrylic $10.00\n",
      "wool $13.00\n"
     ]
    },
    {
     "data": {
      "text/markdown": [
       "### Page 9"
      ],
      "text/plain": [
       "'### Page 9'"
      ]
     },
     "metadata": {},
     "output_type": "display_data"
    },
    {
     "name": "stdout",
     "output_type": "stream",
     "text": [
      "JACKETS AND SKIRTS\n",
      "\n",
      "Bolero # 50 Long Line # 51\n",
      "\n",
      "# 50\n",
      "\n",
      "Either of these jackets will take you through\n",
      "the year. Finished in matching braid. Navy,\n",
      "pastel green, brown or multicolored jacquard.\n",
      "\n",
      "cotton polyester cotton suede jacquard = ribbed knit\n",
      "Bolero # 50 # 50 Kit Long Line sizes10-22 #51 # 51 Kit\n",
      "\n",
      "small, medium, large $8.00 $4.00 sleeveless $10.00 $5.00\n",
      "with sleeves $14.00 $7.00\n",
      "\n",
      "Flared Wrap Skirt # 36\n",
      "\n",
      "A flattering half circle skirt with a large\n",
      "overlap adjustable with self tie. Big patch\n",
      "pocket. See Bib Top # 19 to make this into a\n",
      "\n",
      "jumper.\n",
      "small medium — large\n",
      "denim cotton suede poly knit # 36\n",
      "sailcloth Calcutta cloth\n",
      "# 36 # 36 Kit\n",
      "$20.00 $10.00\n",
      "flannel blend quilted cotton\n",
      "$22.00 $11.00\n",
      "\n",
      "Hoop Skirt # 34\n",
      "\n",
      "This straight skirt is gathered onto a plastic\n",
      "hoop, one size fits all. It can be put on with\n",
      "one hand. Covers from waist down to ankle.\n",
      "Back % is open. Makes an_ excellent\n",
      "wheelchair style. Two patch pockets.\n",
      "\n",
      "denim woven polyester print seersucker\n",
      "calico Calcutta cloth\n",
      "# 34 # 34 Kit\n",
      "$14.00 $7.00\n",
      "\n",
      "quilted cotton\n",
      "$18.00 $9.00\n",
      "\n",
      "Matching triangular shoulder scarf # 19\n",
      "$4.00 $2.00\n",
      "w/trim $5.00 $3.00\n",
      "\n",
      "[9]\n"
     ]
    },
    {
     "data": {
      "text/markdown": [
       "### Page 10"
      ],
      "text/plain": [
       "'### Page 10'"
      ]
     },
     "metadata": {},
     "output_type": "display_data"
    },
    {
     "name": "stdout",
     "output_type": "stream",
     "text": [
      "i\n",
      "\n",
      "SLACKS\n",
      "\n",
      "Wrap Pants + 81\n",
      "\n",
      "These are both pants and a full skirt. Seams\n",
      "are open on the sides to wrap over. Front to\n",
      "back wrap is on elastic secured by Velcro.\n",
      "Back to front wrap ties in front, This garment\n",
      "can be put on lying flat in bed on top of the\n",
      "garment. Convenient camouflage for leg brace\n",
      "or leg cast.\n",
      "\n",
      "# 81 small medium large\n",
      "\n",
      "nylon border print, denim, sailcloth\n",
      "polyester, Calcutta cloth\n",
      "\n",
      "# 81 # 81 Kit\n",
      "$18.00 $9.00\n",
      "\n",
      "Natural Creation Slacks « 82\n",
      "\n",
      "Designed by Kay Cadde! these slacks have a\n",
      "drop seat. The front portion hooks together\n",
      "in back with an elastic strip while the back\n",
      "can be lowered and raised. Front tie.\n",
      "\n",
      "Sizes 8 - 18\n",
      "\n",
      "denim, flannel, polyester double knit\n",
      "Calcutta cloth\n",
      "\n",
      "# 82 # 82 Kit $18.00 $9.00\n",
      "\n",
      "Sitz Slacks # 83\n",
      "\n",
      "These slacks are designed to fit the seated\n",
      "figure. The back has extra room to allow for\n",
      "stretching and reaching without binding.\n",
      "Front is shaped to eliminate folds. Accurate\n",
      "sitting measurements required. Elastic waist.\n",
      "\n",
      "Sizes 8- 18\n",
      "\n",
      "Extra\n",
      "/nsert\n",
      "\n",
      "# 83 denim, flannel, polyester double knit\n",
      "\n",
      "Calcutta cloth\n",
      "\n",
      "# 83 # 83 Kit\n",
      "$18.00 $9.00\n",
      "\n",
      "Slacks # 81 and # 82 may be opened the entire outer seam length with Velcro strips for\n",
      "$4.00 extra.\n",
      "[10]\n"
     ]
    },
    {
     "data": {
      "text/markdown": [
       "### Page 11"
      ],
      "text/plain": [
       "'### Page 11'"
      ]
     },
     "metadata": {},
     "output_type": "display_data"
    },
    {
     "name": "stdout",
     "output_type": "stream",
     "text": [
      "DRESSES\n",
      "\n",
      "Three Armhole Dress = 22\n",
      "\n",
      "Even a person with the most difficult dressing\n",
      "problems can manage this wrap dress. The\n",
      "third armhole anchors the dress, no closures\n",
      "are necessary. Large armholes, with or\n",
      "without sleeves. Patch pocket. Finished in\n",
      "contrasting fold-over braid.\n",
      "\n",
      "Shirred Bodice Back Wrap = 27\n",
      "\n",
      "This deep V back wrap is sleeveless. Self tie\n",
      "belt, in-seam pocket. This stunning dress,\n",
      "finished in contrasting braid, will take you\n",
      "through all seasons with the addition of a\n",
      "bolero or long-line jacket with sleeves.\n",
      "\n",
      "Sizes 10-18 18% - 22%\n",
      "\n",
      "Knit or woven polyester seersucker\n",
      "\n",
      "#27 # 27 Kit\n",
      "\n",
      "sleeveless $28.00 $14.00\n",
      "with sleeves $32.00 $16.00\n",
      "ensemble with jacket $38.00 $19.00\n",
      "\n",
      "small medium large\n",
      "\n",
      "knit or woven polyester prints\n",
      "* cotton-dacron-poly prints\n",
      "\n",
      "# 22 # 22 Kit\n",
      "$24.00 $12.00\n",
      "$28.00 $16.00\n",
      "\n",
      "sleeveless\n",
      "with sleeves\n"
     ]
    },
    {
     "data": {
      "text/markdown": [
       "### Page 12"
      ],
      "text/plain": [
       "'### Page 12'"
      ]
     },
     "metadata": {},
     "output_type": "display_data"
    },
    {
     "name": "stdout",
     "output_type": "stream",
     "text": [
      "Split Second Dress # 25\n",
      "\n",
      "‘ This carefree, easy-on style with front zipper\n",
      "\n",
      ": is styled after the Yoked Caftan # -45 The\n",
      "same roomy sleeves and shoulders, with two\n",
      "choices:\n",
      "\n",
      "(1) Closed back.\n",
      "\n",
      "(2) Split skirt back. The back opens from\n",
      "yoke to hem with ample overlap. No\n",
      "closures to sit on.\n",
      "\n",
      "Choice of neckline, round or V, with lace.\n",
      "In-seam pocket.\n",
      "\n",
      "small medium large\n",
      "\n",
      "polyester knit, velour\n",
      "\n",
      "# 25 Kit $14.00\n",
      "\n",
      "# 25\n",
      "$28.00\n",
      "\n",
      "# 45\n",
      "\n",
      "fate\n",
      "\n",
      "ae RS\n",
      "\n",
      "—\n",
      "\n",
      "icing inne oc\n",
      "\n",
      "DRESS — CAFTAN\n",
      "\n",
      "Back and Front # 25\n",
      "\n",
      "Yoked Caftan # 45\n",
      "\n",
      "Styled also as Split-Second Dress # 25. Split\n",
      "skirt on side or not. Front opens at yoke with\n",
      "Velcro tab, in-seam pocket. Bracelet sleeves.\n",
      "See above.\n",
      "small\n",
      "\n",
      "medium large\n",
      "\n",
      "nylon jersey polyester prints\n",
      "\n",
      "seersucker\n",
      "# 45 # 45 Kit\n",
      "$26.00 $13.00\n",
      "velour —\n",
      "$30.00 $15.00\n",
      "\n",
      "[12]\n"
     ]
    },
    {
     "data": {
      "text/markdown": [
       "### Page 13"
      ],
      "text/plain": [
       "'### Page 13'"
      ]
     },
     "metadata": {},
     "output_type": "display_data"
    },
    {
     "name": "stdout",
     "output_type": "stream",
     "text": [
      "JUMPERS\n",
      "\n",
      "Flared Skirt Jumper # 56\n",
      "\n",
      "A roomy style with bias skirt. In-seam pocket.\n",
      "\n",
      "Sizes 8 - 18\n",
      "= ‘\n",
      "Polyester knit in green, pink i\n",
      "\n",
      "blue or yellow solids or prints |\n",
      "\n",
      "Calcutta cloth |\n",
      "\n",
      "#56 # 56 Kit\n",
      "$28.00 $14.00\n",
      "\n",
      "Front Wrap Jumper # 57\n",
      "\n",
      "This is a popular front wrap style secured by\n",
      "Velcro on overlap. Generous armholes,\n",
      "pocket, self-tie belt.\n",
      "\n",
      "Sizes 8- 18 #57\n",
      "\n",
      "denim, velour, polyester knits\n",
      "kettle cloth, Calcutta cloth\n",
      "\n",
      "#57 # 57 Kit\n",
      "$28.00 $14.00\n",
      "\n",
      "Princess Jumper # 59 |\n",
      "\n",
      "Our open back jumper has a choice of two\n",
      "closures: :\n",
      "\n",
      "(1) zipped for easier dressing\n",
      "(2) full back opening to hem with Velcro tabs\n",
      "closing to waist.\n",
      "\n",
      "Sizes 8- 18\n",
      "\n",
      "# 59 denim polyester knit kettle cloth\n",
      "Calcutta cloth\n",
      "\n",
      "# 59 # 59 Kit\n",
      "$28.00 $14.00\n"
     ]
    }
   ],
   "source": [
    "    (\n",
    "        pages := lines\n",
    "            .groupby(\"page par\".split())\n",
    "            .agg(\"\\n\".join)\n",
    "            .groupby(\"page\")\n",
    "            .agg(\"\\n\\n\".join)\n",
    "    )\n",
    "    for page, text in pages.items(): display(Markdown(F\"### Page {page}\")), print(text)"
   ]
  },
  {
   "cell_type": "code",
   "execution_count": null,
   "id": "8b9416a5-8568-4a98-835c-ec0da7499cc3",
   "metadata": {},
   "outputs": [],
   "source": []
  }
 ],
 "metadata": {
  "kernelspec": {
   "display_name": "allYourBase",
   "language": "python",
   "name": "based"
  },
  "language_info": {
   "codemirror_mode": {
    "name": "ipython",
    "version": 3
   },
   "file_extension": ".py",
   "mimetype": "text/x-python",
   "name": "python",
   "nbconvert_exporter": "python",
   "pygments_lexer": "ipython3",
   "version": "3.13.3"
  }
 },
 "nbformat": 4,
 "nbformat_minor": 5
}
