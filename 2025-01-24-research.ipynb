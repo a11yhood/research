{
 "cells": [
  {
   "cell_type": "raw",
   "id": "778adbdf-e7fa-4b62-918c-76ac4e89e9d0",
   "metadata": {},
   "source": [
    "# accessibility schema: <q>how are AI and AT organized?</q>\n",
    "\n",
    "this document explores different sources of information for assistive technology\n",
    "and the schema/vocabularies we can use to enrich their metadata."
   ]
  },
  {
   "cell_type": "code",
   "execution_count": null,
   "id": "df1a3dca-512f-4d12-aca9-e83cc29d3552",
   "metadata": {},
   "outputs": [],
   "source": [
    "%%\n",
    "<iframe width=\"923\" height=\"661\" src=\"https://www.youtube.com/embed/w11F8TJggFM\" title=\"a11yhood progress 2025-01-27\" frameborder=\"0\" allow=\"accelerometer; autoplay; clipboard-write; encrypted-media; gyroscope; picture-in-picture; web-share\" referrerpolicy=\"strict-origin-when-cross-origin\" allowfullscreen></iframe>"
   ]
  },
  {
   "cell_type": "code",
   "execution_count": null,
   "id": "0b3bb1fa-7326-4ca2-ade2-16dbde9f39a7",
   "metadata": {},
   "outputs": [],
   "source": [
    "%%\n",
    "## cursory searches for assistive tech\n",
    "\n",
    "[github]\n",
    ": graphql search reveals about 1.2K responses to <samp>assistive tech</samp> and <samp>screen reader</samp> each.\n",
    ": already implemented: need to define this search daily/weekly\n",
    ": [makersmakingchange](https://github.com/makersmakingchange)\n",
    "  : 150 repositories with cad models and documentation\n",
    "  : [makers making change schema](https://github.com/makersmakingchange/OpenAT-Template)\n",
    ": find other orgs focused on AT\n",
    "\n",
    "\n",
    "[ravelry]\n",
    ": _what are searches that might discover assistive tech patterns?_\n",
    ": [ravelry developer](https://www.ravelry.com/pro/developer) requires token\n",
    "\n",
    "\n",
    "[thingiverse]\n",
    ": found <50 things searching for <samp>assistive technology</samp>\n",
    ": [thingiverse developer docs](https://www.thingiverse.com/developers/getting-started)\n",
    ": [thingiverse openapi schema](https://www.thingiverse.com/swagger/docs/openapi.yaml)\n",
    "\n",
    "\n",
    "[reddit](https://www.reddit.com/r/AssistiveTechnology/)\n",
    ": ~2.5K users with daily posts\n",
    "\n",
    "\n",
    "[youtube]\n",
    ":   <details>\n",
    "    <summary>>1,000,000 videos</summary>\n",
    "    \n",
    "    ```json\n",
    "    {\n",
    "      \"kind\": \"youtube#searchListResponse\",\n",
    "      \"etag\": \"ZSMkgzz2fvMB0KqmuGKmDrBuVCc\",\n",
    "      \"nextPageToken\": \"CAUQAA\",\n",
    "      \"regionCode\": \"US\",\n",
    "      \"pageInfo\": {\n",
    "        \"totalResults\": 1000000,\n",
    "        \"resultsPerPage\": 5\n",
    "      },\n",
    "      \"items\": [\n",
    "        {\n",
    "          \"kind\": \"youtube#searchResult\",\n",
    "          \"etag\": \"DZbTTQ6DjKQUcadRShmNH30WruE\",\n",
    "          \"id\": {\n",
    "            \"kind\": \"youtube#video\",\n",
    "            \"videoId\": \"omjVM1lwkII\"\n",
    "          }\n",
    "        },\n",
    "        {\n",
    "          \"kind\": \"youtube#searchResult\",\n",
    "          \"etag\": \"ksZz9yJJHjAq7E7srh8K6a6QyhY\",\n",
    "          \"id\": {\n",
    "            \"kind\": \"youtube#video\",\n",
    "            \"videoId\": \"dZVj__8t7Vw\"\n",
    "          }\n",
    "        },\n",
    "        {\n",
    "          \"kind\": \"youtube#searchResult\",\n",
    "          \"etag\": \"WqD-A1toPNtcfvzr5kQ6S_9dna0\",\n",
    "          \"id\": {\n",
    "            \"kind\": \"youtube#video\",\n",
    "            \"videoId\": \"Bhj5vs9P5cw\"\n",
    "          }\n",
    "        },\n",
    "        {\n",
    "          \"kind\": \"youtube#searchResult\",\n",
    "          \"etag\": \"AN6UT5Ngwn6sKyXUqR8Ibdw-i6I\",\n",
    "          \"id\": {\n",
    "            \"kind\": \"youtube#video\",\n",
    "            \"videoId\": \"B7n2bGoYLLw\"\n",
    "          }\n",
    "        },\n",
    "        {\n",
    "          \"kind\": \"youtube#searchResult\",\n",
    "          \"etag\": \"6_TOdGFJyAvPSiQCswnHjAOQCmE\",\n",
    "          \"id\": {\n",
    "            \"kind\": \"youtube#video\",\n",
    "            \"videoId\": \"jYmfrrY4Hfk\"\n",
    "          }\n",
    "        }\n",
    "      ]\n",
    "    }\n",
    "    ```\n",
    "    \n",
    "    </details>\n",
    "[wiki]\n",
    ": todo"
   ]
  },
  {
   "cell_type": "markdown",
   "id": "28baf28e-6eb0-4b73-a642-1b733cd7a32f",
   "metadata": {},
   "source": [
    "## the semantic web lives!\n",
    "the department of commerce announced guidelines for discoverable AI in [Generative Artificial Intelligence and Open Data: Guidelines and Best Practices](https://www.commerce.gov/news/blog/2025/01/generative-artificial-intelligence-and-open-data-guidelines-and-best-practices) which supports the need for semantic RDF markup.\n",
    "\n",
    "a list of open metadata standards for discovering information.\n",
    "\n",
    "\n",
    "* [Schema.org Accessibility Properties for Discoverability Vocabulary](https://www.w3.org/community/reports/a11y-discov-vocab/CG-FINAL-vocabulary-20241209/)\n",
    "    * supercedes [1EdTech AccessForAll® (AfA) Information Model Data Element Specification](https://www.imsglobal.org/accessibility/afav3p0pd/AfA3p0_DESinfoModel_v1p0pd.html)\n",
    "* [EPUB Accessibility 1.1\n",
    "Conformance and Discoverability Requirements for EPUB publications](https://www.w3.org/TR/epub-a11y-11/)\n",
    "* [Data Catalog Vocabulary (DCAT) - Version 3](https://www.w3.org/TR/vocab-dcat-3/)\n",
    "* [<q>Croissant 🥐 is a high-level format for machine learning datasets that combines metadata, resource file descriptions, data structure, and default ML semantics into a single file; it works with existing datasets to make them easier to find, use, and support with tools</q>](https://github.com/mlcommons/croissant)\n",
    "* [<q>This document crosswalks the accessibility metadata for Schema.org, EPUB, and ONIX.</q>](https://w3c.github.io/a11y-discov-vocab/crosswalk/)"
   ]
  },
  {
   "cell_type": "markdown",
   "id": "dfd98b82-6776-4f6b-a718-ca69d961ecff",
   "metadata": {},
   "source": [
    "## prior art for categorizing and searching AT\n",
    "\n",
    "* [ISO 9999: Assistive products — Classification\n",
    "and terminology](https://cdn.standards.iteh.ai/samples/72464/3f3608ed0bff4545bd53c02373f8cdbb/ISO-9999-2022.pdf)\n",
    "* [Advancing data collection on Assistive Technology](https://www.who.int/tools/ata-toolkit)\n",
    "  <details><summary>The ATA toolkit consists of four data collection tools</summary>\n",
    "  \n",
    "  * What are the met and unmet population needs in terms of access to assistive technology?\n",
    "  * What is the country’s capacity to meet the identified unmet need? \n",
    "  * What is the impact of assistive technology on the people who use it?\n",
    "  * What progress has been made by Member States in implementing the WHA78.1 resolution on improving access to assistive technology?\n",
    "\n",
    "\n",
    "  </details>\n",
    "\n",
    "### assistive tech search\n",
    "\n",
    "* [ABLEDATA](https://www.tandfonline.com/doi/abs/10.1080/10400435.1989.10132134)\n",
    "* > [In the second half of 2020, AbleData.com posted an announcement: “Important Notice!! Due to a realignment of the National Institute on Disability, Independent Living, and Rehabilitation Research (NIDILRR) priorities, AbleData will be discontinued on September 27th, 2020. We will post additional information as it becomes available.”](https://www.mobilitywithlove.com/what-happened-to-abledata/)\n",
    "* [GT appfinder for finding assistive tech](https://gatfl.gatech.edu/app-finder)"
   ]
  },
  {
   "cell_type": "markdown",
   "id": "af8a66a2-a22c-4a3e-a3e6-5046a4bde99f",
   "metadata": {},
   "source": [
    "### testing/compliance\n",
    "\n",
    "* [Accessibility Conformance Testing (ACT) Overview ](https://www.w3.org/WAI/standards-guidelines/act/)\n",
    "* [<q>Equalify Schema: A Super Simple Data Schema By Equalify</q>](https://www.npmjs.com/package/@equalifyapp/equalify-schema)\n",
    "    * supercedes [EARL](https://www.w3.org/WAI/standards-guidelines/earl/)"
   ]
  },
  {
   "cell_type": "markdown",
   "id": "1842e50b-248f-4188-af2a-6b91b1f934ea",
   "metadata": {},
   "source": [
    "## marginalia\n",
    "\n",
    "alphabet soup of digital accessibility: aria, wcag, pour-caf, act, atag, axe, equal access, andi, vnu"
   ]
  },
  {
   "cell_type": "code",
   "execution_count": null,
   "id": "150cc82f-c290-4af6-9bd1-aac386ef0d39",
   "metadata": {
    "jupyter": {
     "source_hidden": true
    }
   },
   "outputs": [],
   "source": [
    "%%\n",
    "\n",
    "```css\n",
    "dt, dd {\n",
    "    float: unset !important;\n",
    "}\n",
    "```"
   ]
  }
 ],
 "metadata": {
  "kernelspec": {
   "display_name": "Python [conda env:p311] *",
   "language": "python",
   "name": "conda-env-p311-py"
  },
  "language_info": {
   "codemirror_mode": {
    "name": "ipython",
    "version": 3
   },
   "file_extension": ".py",
   "mimetype": "text/x-python",
   "name": "python",
   "nbconvert_exporter": "python",
   "pygments_lexer": "ipython3",
   "version": "3.11.6"
  }
 },
 "nbformat": 4,
 "nbformat_minor": 5
}
