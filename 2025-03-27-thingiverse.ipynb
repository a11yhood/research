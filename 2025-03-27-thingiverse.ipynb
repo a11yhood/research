{
 "cells": [
  {
   "cell_type": "markdown",
   "id": "82eedf20-5c53-4c7e-a03d-5c595f93cc58",
   "metadata": {},
   "source": [
    "# gathering thingiverse things\n",
    "\n",
    "an effective scraping and caching strategy for gathering information on thingiverse.\n",
    "\n",
    "each activity requires:\n",
    "1. making requests\n",
    "2. tidying requests\n",
    "3. creating tasks to save salient data, create a file witht he missing columsn\n",
    "\n",
    "\n",
    "1. gather the index of things from search\n",
    "2. save the index to disk as parquet\n",
    "3. read the index of things from disks\n",
    "4. save the things to disc\n",
    "\n",
    "the second request is solely to get the description information about the thing cause that is not included in the search response\n",
    "despite the openapi schema saying that it should be\n"
   ]
  },
  {
   "cell_type": "code",
   "execution_count": 1,
   "id": "6e56c913-491b-4d03-aa43-5c859e19f46f",
   "metadata": {},
   "outputs": [],
   "source": [
    "    import os, pandas, time, random, platformdirs, requests_cache, datetime\n",
    "    from toolz.curried import *\n",
    "    from pandas import DataFrame, Series, Index\n",
    "    from pathlib import Path\n",
    "    __import__(\"dotenv\").load_dotenv()\n",
    "    params = dict(access_token=os.environ[\"THINGIVERSE_ACCESS_TOKEN\"])\n",
    "    CI = os.environ.get(\"CI\")\n",
    "    expiry = CI and dict(expire_after=datetime.timedelta(hours=23)) or {}\n",
    "    cache = platformdirs.user_cache_path(\"a11yhood\") / \"thingiverse\"\n",
    "    cache = Path(\"data\") / \"thingiverse\"\n",
    "    CachedSession = partial(requests_cache.CachedSession, backend=\"filesystem\", serializer=\"json\")\n",
    "    search_session = CachedSession(cache / \"search_responses\", **expiry)\n",
    "    thing_session = CachedSession(cache / \"thing_responses\")"
   ]
  },
  {
   "cell_type": "code",
   "execution_count": 2,
   "id": "6ccbabef-e27b-468c-85d4-e5575d07dacc",
   "metadata": {},
   "outputs": [],
   "source": [
    "    def search_tags(term=\"assistive+technology\", pages=None, per_page=30):\n",
    "        \"\"\"search thing\"\"\"\n",
    "        page = 1\n",
    "        while not pages or page <= pages:\n",
    "            response = search_session.get(f\"https://api.thingiverse.com/search/{term}\", params | dict(per_page=per_page, page=page, type=\"thing\"),)\n",
    "            if pages is None:\n",
    "                pages = (response.json()[\"total\"] // per_page) + 1\n",
    "            page += 1"
   ]
  },
  {
   "cell_type": "code",
   "execution_count": 3,
   "id": "14461d29-4a71-4d97-be31-12d5c9e7d41d",
   "metadata": {},
   "outputs": [],
   "source": [
    "    search_tags()"
   ]
  },
  {
   "cell_type": "code",
   "execution_count": 4,
   "id": "7592f750-ec0f-4127-a4ec-d7fd6e32a20f",
   "metadata": {},
   "outputs": [],
   "source": [
    "    results = (\n",
    "        Series(search_session.cache.urls())\n",
    "        .apply(search_session.get)\n",
    "        .apply(operator.methodcaller(\"json\"))\n",
    "        .apply(lambda x: x.get(\"hits\", []))\n",
    "        .explode()\n",
    "        .apply(Series)\n",
    "        .set_index(\"public_url\")\n",
    "    )"
   ]
  },
  {
   "cell_type": "code",
   "execution_count": 5,
   "id": "2003fc17-88f2-433a-9d3f-1f6f27d55ff2",
   "metadata": {},
   "outputs": [
    {
     "name": "stdout",
     "output_type": "stream",
     "text": [
      "https://www.thingiverse.com/thing:1499148 0\n",
      "https://www.thingiverse.com/thing:1908866 1\n",
      "https://www.thingiverse.com/thing:2899025 2\n",
      "https://www.thingiverse.com/thing:4913712 3\n",
      "https://www.thingiverse.com/thing:1593407 4\n",
      "https://www.thingiverse.com/thing:140519 5\n",
      "https://www.thingiverse.com/thing:2596644 6\n",
      "https://www.thingiverse.com/thing:121869 7\n",
      "https://www.thingiverse.com/thing:3156378 8\n",
      "https://www.thingiverse.com/thing:1102579 9\n"
     ]
    },
    {
     "ename": "KeyboardInterrupt",
     "evalue": "",
     "output_type": "error",
     "traceback": [
      "\u001b[31m---------------------------------------------------------------------------\u001b[39m",
      "\u001b[31mKeyboardInterrupt\u001b[39m                         Traceback (most recent call last)",
      "\u001b[36mCell\u001b[39m\u001b[36m \u001b[39m\u001b[32mIn[5]\u001b[39m\u001b[32m, line 4\u001b[39m\n\u001b[32m      2\u001b[39m response = thing_session.get(row.url, params=params)\n\u001b[32m      3\u001b[39m \u001b[38;5;28;01mif\u001b[39;00m \u001b[38;5;129;01mnot\u001b[39;00m \u001b[38;5;28misinstance\u001b[39m(response, requests_cache.CachedResponse):\n\u001b[32m----> \u001b[39m\u001b[32m4\u001b[39m     \u001b[43mtime\u001b[49m\u001b[43m.\u001b[49m\u001b[43msleep\u001b[49m\u001b[43m(\u001b[49m\u001b[43mrandom\u001b[49m\u001b[43m.\u001b[49m\u001b[43mrandom\u001b[49m\u001b[43m(\u001b[49m\u001b[43m)\u001b[49m\u001b[43m*\u001b[49m\u001b[32;43m2\u001b[39;49m\u001b[43m)\u001b[49m\n\u001b[32m      5\u001b[39m \u001b[38;5;28mprint\u001b[39m(i, j)\n",
      "\u001b[31mKeyboardInterrupt\u001b[39m: "
     ]
    },
    {
     "name": "stdout",
     "output_type": "stream",
     "text": [
      "https://www.thingiverse.com/thing:1593407 1\n"
     ]
    },
    {
     "name": "stdout",
     "output_type": "stream",
     "text": [
      "https://www.thingiverse.com/thing:140519 2\n"
     ]
    },
    {
     "name": "stdout",
     "output_type": "stream",
     "text": [
      "https://www.thingiverse.com/thing:2596644 3\n"
     ]
    },
    {
     "name": "stdout",
     "output_type": "stream",
     "text": [
      "https://www.thingiverse.com/thing:1499148 4\n"
     ]
    },
    {
     "name": "stdout",
     "output_type": "stream",
     "text": [
      "https://www.thingiverse.com/thing:121869 5\n"
     ]
    },
    {
     "name": "stdout",
     "output_type": "stream",
     "text": [
      "https://www.thingiverse.com/thing:3156378 6\n"
     ]
    },
    {
     "name": "stdout",
     "output_type": "stream",
     "text": [
      "https://www.thingiverse.com/thing:1102579 7\n"
     ]
    },
    {
     "name": "stdout",
     "output_type": "stream",
     "text": [
      "https://www.thingiverse.com/thing:3717730 8\n"
     ]
    },
    {
     "name": "stdout",
     "output_type": "stream",
     "text": [
      "https://www.thingiverse.com/thing:1104281 9\n"
     ]
    },
    {
     "name": "stdout",
     "output_type": "stream",
     "text": [
      "https://www.thingiverse.com/thing:3093824 10\n"
     ]
    },
    {
     "name": "stdout",
     "output_type": "stream",
     "text": [
      "https://www.thingiverse.com/thing:1720562 11\n"
     ]
    },
    {
     "name": "stdout",
     "output_type": "stream",
     "text": [
      "https://www.thingiverse.com/thing:1055457 12\n"
     ]
    },
    {
     "name": "stdout",
     "output_type": "stream",
     "text": [
      "https://www.thingiverse.com/thing:49936 13\n"
     ]
    },
    {
     "name": "stdout",
     "output_type": "stream",
     "text": [
      "https://www.thingiverse.com/thing:2823963 14\n"
     ]
    },
    {
     "name": "stdout",
     "output_type": "stream",
     "text": [
      "https://www.thingiverse.com/thing:3635274 15\n"
     ]
    },
    {
     "name": "stdout",
     "output_type": "stream",
     "text": [
      "https://www.thingiverse.com/thing:2930181 16\n"
     ]
    },
    {
     "name": "stdout",
     "output_type": "stream",
     "text": [
      "https://www.thingiverse.com/thing:2577404 17\n"
     ]
    },
    {
     "name": "stdout",
     "output_type": "stream",
     "text": [
      "https://www.thingiverse.com/thing:1089803 18\n"
     ]
    },
    {
     "name": "stdout",
     "output_type": "stream",
     "text": [
      "https://www.thingiverse.com/thing:2960433 19\n"
     ]
    },
    {
     "name": "stdout",
     "output_type": "stream",
     "text": [
      "https://www.thingiverse.com/thing:302310 20\n"
     ]
    },
    {
     "name": "stdout",
     "output_type": "stream",
     "text": [
      "https://www.thingiverse.com/thing:2257912 21\n"
     ]
    },
    {
     "name": "stdout",
     "output_type": "stream",
     "text": [
      "https://www.thingiverse.com/thing:2768601 22\n"
     ]
    },
    {
     "name": "stdout",
     "output_type": "stream",
     "text": [
      "https://www.thingiverse.com/thing:2863119 23\n"
     ]
    },
    {
     "name": "stdout",
     "output_type": "stream",
     "text": [
      "https://www.thingiverse.com/thing:2677570 24\n"
     ]
    },
    {
     "name": "stdout",
     "output_type": "stream",
     "text": [
      "https://www.thingiverse.com/thing:2696906 25\n"
     ]
    },
    {
     "name": "stdout",
     "output_type": "stream",
     "text": [
      "https://www.thingiverse.com/thing:2145618 26\n"
     ]
    },
    {
     "name": "stdout",
     "output_type": "stream",
     "text": [
      "https://www.thingiverse.com/thing:441658 27\n"
     ]
    },
    {
     "name": "stdout",
     "output_type": "stream",
     "text": [
      "https://www.thingiverse.com/thing:2422840 28\n"
     ]
    },
    {
     "name": "stdout",
     "output_type": "stream",
     "text": [
      "https://www.thingiverse.com/thing:4847465 29\n"
     ]
    },
    {
     "name": "stdout",
     "output_type": "stream",
     "text": [
      "https://www.thingiverse.com/thing:6237635 30\n"
     ]
    },
    {
     "name": "stdout",
     "output_type": "stream",
     "text": [
      "https://www.thingiverse.com/thing:358393 31\n"
     ]
    },
    {
     "name": "stdout",
     "output_type": "stream",
     "text": [
      "https://www.thingiverse.com/thing:1964122 32\n"
     ]
    },
    {
     "name": "stdout",
     "output_type": "stream",
     "text": [
      "https://www.thingiverse.com/thing:986561 33\n"
     ]
    },
    {
     "name": "stdout",
     "output_type": "stream",
     "text": [
      "https://www.thingiverse.com/thing:1090387 34\n"
     ]
    },
    {
     "name": "stdout",
     "output_type": "stream",
     "text": [
      "https://www.thingiverse.com/thing:277972 35\n"
     ]
    },
    {
     "name": "stdout",
     "output_type": "stream",
     "text": [
      "https://www.thingiverse.com/thing:4251923 36\n"
     ]
    },
    {
     "name": "stdout",
     "output_type": "stream",
     "text": [
      "https://www.thingiverse.com/thing:1101995 37\n"
     ]
    },
    {
     "name": "stdout",
     "output_type": "stream",
     "text": [
      "https://www.thingiverse.com/thing:1363304 38\n"
     ]
    },
    {
     "name": "stdout",
     "output_type": "stream",
     "text": [
      "https://www.thingiverse.com/thing:1049558 39\n"
     ]
    },
    {
     "name": "stdout",
     "output_type": "stream",
     "text": [
      "https://www.thingiverse.com/thing:3422719 40\n"
     ]
    },
    {
     "name": "stdout",
     "output_type": "stream",
     "text": [
      "https://www.thingiverse.com/thing:3211154 41\n"
     ]
    },
    {
     "name": "stdout",
     "output_type": "stream",
     "text": [
      "https://www.thingiverse.com/thing:3699364 42\n"
     ]
    },
    {
     "name": "stdout",
     "output_type": "stream",
     "text": [
      "https://www.thingiverse.com/thing:2353561 43\n"
     ]
    },
    {
     "name": "stdout",
     "output_type": "stream",
     "text": [
      "https://www.thingiverse.com/thing:991878 44\n"
     ]
    },
    {
     "name": "stdout",
     "output_type": "stream",
     "text": [
      "https://www.thingiverse.com/thing:3039314 45\n"
     ]
    },
    {
     "name": "stdout",
     "output_type": "stream",
     "text": [
      "https://www.thingiverse.com/thing:1094505 46\n"
     ]
    },
    {
     "name": "stdout",
     "output_type": "stream",
     "text": [
      "https://www.thingiverse.com/thing:640852 47\n"
     ]
    },
    {
     "name": "stdout",
     "output_type": "stream",
     "text": [
      "https://www.thingiverse.com/thing:361221 48\n"
     ]
    },
    {
     "name": "stdout",
     "output_type": "stream",
     "text": [
      "https://www.thingiverse.com/thing:1167918 49\n"
     ]
    },
    {
     "name": "stdout",
     "output_type": "stream",
     "text": [
      "https://www.thingiverse.com/thing:1104815 50\n"
     ]
    },
    {
     "name": "stdout",
     "output_type": "stream",
     "text": [
      "https://www.thingiverse.com/thing:2513492 51\n"
     ]
    },
    {
     "name": "stdout",
     "output_type": "stream",
     "text": [
      "https://www.thingiverse.com/thing:1103935 52\n"
     ]
    },
    {
     "name": "stdout",
     "output_type": "stream",
     "text": [
      "https://www.thingiverse.com/thing:2353572 53\n"
     ]
    },
    {
     "name": "stdout",
     "output_type": "stream",
     "text": [
      "https://www.thingiverse.com/thing:1089772 54\n"
     ]
    },
    {
     "name": "stdout",
     "output_type": "stream",
     "text": [
      "https://www.thingiverse.com/thing:1163224 55\n"
     ]
    },
    {
     "name": "stdout",
     "output_type": "stream",
     "text": [
      "https://www.thingiverse.com/thing:1105309 56\n"
     ]
    },
    {
     "name": "stdout",
     "output_type": "stream",
     "text": [
      "https://www.thingiverse.com/thing:1154731 57\n"
     ]
    },
    {
     "name": "stdout",
     "output_type": "stream",
     "text": [
      "https://www.thingiverse.com/thing:3712980 58\n"
     ]
    },
    {
     "name": "stdout",
     "output_type": "stream",
     "text": [
      "https://www.thingiverse.com/thing:2724475 59\n"
     ]
    },
    {
     "name": "stdout",
     "output_type": "stream",
     "text": [
      "https://www.thingiverse.com/thing:2155185 60\n"
     ]
    },
    {
     "name": "stdout",
     "output_type": "stream",
     "text": [
      "https://www.thingiverse.com/thing:3691683 61\n"
     ]
    },
    {
     "name": "stdout",
     "output_type": "stream",
     "text": [
      "https://www.thingiverse.com/thing:1079951 62\n"
     ]
    },
    {
     "name": "stdout",
     "output_type": "stream",
     "text": [
      "https://www.thingiverse.com/thing:1369242 63\n"
     ]
    },
    {
     "name": "stdout",
     "output_type": "stream",
     "text": [
      "https://www.thingiverse.com/thing:2796387 64\n"
     ]
    },
    {
     "name": "stdout",
     "output_type": "stream",
     "text": [
      "https://www.thingiverse.com/thing:6019313 65\n"
     ]
    },
    {
     "name": "stdout",
     "output_type": "stream",
     "text": [
      "https://www.thingiverse.com/thing:3492411 66\n"
     ]
    },
    {
     "name": "stdout",
     "output_type": "stream",
     "text": [
      "https://www.thingiverse.com/thing:3255351 67\n"
     ]
    },
    {
     "name": "stdout",
     "output_type": "stream",
     "text": [
      "https://www.thingiverse.com/thing:5195678 68\n"
     ]
    },
    {
     "name": "stdout",
     "output_type": "stream",
     "text": [
      "https://www.thingiverse.com/thing:1758473 69\n"
     ]
    },
    {
     "name": "stdout",
     "output_type": "stream",
     "text": [
      "https://www.thingiverse.com/thing:3712980 70\n"
     ]
    },
    {
     "name": "stdout",
     "output_type": "stream",
     "text": [
      "https://www.thingiverse.com/thing:1059791 71\n"
     ]
    },
    {
     "name": "stdout",
     "output_type": "stream",
     "text": [
      "https://www.thingiverse.com/thing:3718895 72\n"
     ]
    },
    {
     "name": "stdout",
     "output_type": "stream",
     "text": [
      "https://www.thingiverse.com/thing:3823692 73\n"
     ]
    },
    {
     "name": "stdout",
     "output_type": "stream",
     "text": [
      "https://www.thingiverse.com/thing:2683158 74\n"
     ]
    },
    {
     "name": "stdout",
     "output_type": "stream",
     "text": [
      "https://www.thingiverse.com/thing:1570980 75\n"
     ]
    },
    {
     "name": "stdout",
     "output_type": "stream",
     "text": [
      "https://www.thingiverse.com/thing:2652899 76\n"
     ]
    },
    {
     "name": "stdout",
     "output_type": "stream",
     "text": [
      "https://www.thingiverse.com/thing:2395992 77\n"
     ]
    },
    {
     "name": "stdout",
     "output_type": "stream",
     "text": [
      "https://www.thingiverse.com/thing:1109855 78\n"
     ]
    },
    {
     "name": "stdout",
     "output_type": "stream",
     "text": [
      "https://www.thingiverse.com/thing:106415 79\n"
     ]
    },
    {
     "name": "stdout",
     "output_type": "stream",
     "text": [
      "https://www.thingiverse.com/thing:1289743 80\n"
     ]
    },
    {
     "name": "stdout",
     "output_type": "stream",
     "text": [
      "https://www.thingiverse.com/thing:34490 81\n"
     ]
    },
    {
     "name": "stdout",
     "output_type": "stream",
     "text": [
      "https://www.thingiverse.com/thing:1325717 82\n"
     ]
    },
    {
     "name": "stdout",
     "output_type": "stream",
     "text": [
      "https://www.thingiverse.com/thing:1099273 83\n"
     ]
    },
    {
     "name": "stdout",
     "output_type": "stream",
     "text": [
      "https://www.thingiverse.com/thing:3506058 84\n"
     ]
    },
    {
     "name": "stdout",
     "output_type": "stream",
     "text": [
      "https://www.thingiverse.com/thing:2137880 85\n"
     ]
    },
    {
     "name": "stdout",
     "output_type": "stream",
     "text": [
      "https://www.thingiverse.com/thing:2257895 86\n"
     ]
    },
    {
     "name": "stdout",
     "output_type": "stream",
     "text": [
      "https://www.thingiverse.com/thing:3191057 87\n"
     ]
    },
    {
     "name": "stdout",
     "output_type": "stream",
     "text": [
      "https://www.thingiverse.com/thing:4877198 88\n"
     ]
    },
    {
     "name": "stdout",
     "output_type": "stream",
     "text": [
      "https://www.thingiverse.com/thing:3716666 89\n"
     ]
    },
    {
     "name": "stdout",
     "output_type": "stream",
     "text": [
      "https://www.thingiverse.com/thing:891470 90\n"
     ]
    },
    {
     "name": "stdout",
     "output_type": "stream",
     "text": [
      "https://www.thingiverse.com/thing:4239777 91\n"
     ]
    },
    {
     "name": "stdout",
     "output_type": "stream",
     "text": [
      "https://www.thingiverse.com/thing:2061248 92\n"
     ]
    },
    {
     "name": "stdout",
     "output_type": "stream",
     "text": [
      "https://www.thingiverse.com/thing:3765128 93\n"
     ]
    },
    {
     "name": "stdout",
     "output_type": "stream",
     "text": [
      "https://www.thingiverse.com/thing:5728884 94\n"
     ]
    },
    {
     "name": "stdout",
     "output_type": "stream",
     "text": [
      "https://www.thingiverse.com/thing:2142926 95\n"
     ]
    },
    {
     "name": "stdout",
     "output_type": "stream",
     "text": [
      "https://www.thingiverse.com/thing:5153730 96\n"
     ]
    },
    {
     "name": "stdout",
     "output_type": "stream",
     "text": [
      "https://www.thingiverse.com/thing:2964283 97\n"
     ]
    },
    {
     "name": "stdout",
     "output_type": "stream",
     "text": [
      "https://www.thingiverse.com/thing:3317184 98\n"
     ]
    },
    {
     "name": "stdout",
     "output_type": "stream",
     "text": [
      "https://www.thingiverse.com/thing:1615967 99\n"
     ]
    },
    {
     "name": "stdout",
     "output_type": "stream",
     "text": [
      "https://www.thingiverse.com/thing:1320458 100\n"
     ]
    },
    {
     "name": "stdout",
     "output_type": "stream",
     "text": [
      "https://www.thingiverse.com/thing:1942458 101\n"
     ]
    },
    {
     "name": "stdout",
     "output_type": "stream",
     "text": [
      "https://www.thingiverse.com/thing:580513 102\n"
     ]
    },
    {
     "name": "stdout",
     "output_type": "stream",
     "text": [
      "https://www.thingiverse.com/thing:895777 103\n"
     ]
    },
    {
     "name": "stdout",
     "output_type": "stream",
     "text": [
      "https://www.thingiverse.com/thing:2754338 104\n"
     ]
    },
    {
     "name": "stdout",
     "output_type": "stream",
     "text": [
      "https://www.thingiverse.com/thing:1076707 105\n"
     ]
    },
    {
     "name": "stdout",
     "output_type": "stream",
     "text": [
      "https://www.thingiverse.com/thing:3881987 106\n"
     ]
    },
    {
     "name": "stdout",
     "output_type": "stream",
     "text": [
      "https://www.thingiverse.com/thing:1060303 107\n"
     ]
    },
    {
     "name": "stdout",
     "output_type": "stream",
     "text": [
      "https://www.thingiverse.com/thing:3221145 108\n"
     ]
    },
    {
     "name": "stdout",
     "output_type": "stream",
     "text": [
      "https://www.thingiverse.com/thing:4514958 109\n"
     ]
    },
    {
     "name": "stdout",
     "output_type": "stream",
     "text": [
      "https://www.thingiverse.com/thing:2760352 110\n"
     ]
    },
    {
     "name": "stdout",
     "output_type": "stream",
     "text": [
      "https://www.thingiverse.com/thing:3630486 111\n"
     ]
    },
    {
     "name": "stdout",
     "output_type": "stream",
     "text": [
      "https://www.thingiverse.com/thing:2137825 112\n"
     ]
    },
    {
     "name": "stdout",
     "output_type": "stream",
     "text": [
      "https://www.thingiverse.com/thing:1509550 113\n"
     ]
    },
    {
     "name": "stdout",
     "output_type": "stream",
     "text": [
      "https://www.thingiverse.com/thing:3631517 114\n"
     ]
    },
    {
     "name": "stdout",
     "output_type": "stream",
     "text": [
      "https://www.thingiverse.com/thing:2351326 115\n"
     ]
    },
    {
     "name": "stdout",
     "output_type": "stream",
     "text": [
      "https://www.thingiverse.com/thing:2143865 116\n"
     ]
    },
    {
     "name": "stdout",
     "output_type": "stream",
     "text": [
      "https://www.thingiverse.com/thing:1105106 117\n"
     ]
    },
    {
     "name": "stdout",
     "output_type": "stream",
     "text": [
      "https://www.thingiverse.com/thing:1105384 118\n"
     ]
    },
    {
     "name": "stdout",
     "output_type": "stream",
     "text": [
      "https://www.thingiverse.com/thing:1079303 119\n"
     ]
    },
    {
     "name": "stdout",
     "output_type": "stream",
     "text": [
      "https://www.thingiverse.com/thing:1696944 120\n"
     ]
    },
    {
     "name": "stdout",
     "output_type": "stream",
     "text": [
      "https://www.thingiverse.com/thing:5996641 121\n"
     ]
    },
    {
     "name": "stdout",
     "output_type": "stream",
     "text": [
      "https://www.thingiverse.com/thing:1090391 122\n"
     ]
    },
    {
     "name": "stdout",
     "output_type": "stream",
     "text": [
      "https://www.thingiverse.com/thing:2969609 123\n"
     ]
    },
    {
     "name": "stdout",
     "output_type": "stream",
     "text": [
      "https://www.thingiverse.com/thing:2634007 124\n"
     ]
    },
    {
     "name": "stdout",
     "output_type": "stream",
     "text": [
      "https://www.thingiverse.com/thing:1052466 125\n"
     ]
    },
    {
     "name": "stdout",
     "output_type": "stream",
     "text": [
      "https://www.thingiverse.com/thing:359366 126\n"
     ]
    },
    {
     "name": "stdout",
     "output_type": "stream",
     "text": [
      "https://www.thingiverse.com/thing:3177370 127\n"
     ]
    },
    {
     "name": "stdout",
     "output_type": "stream",
     "text": [
      "https://www.thingiverse.com/thing:5146445 128\n"
     ]
    },
    {
     "name": "stdout",
     "output_type": "stream",
     "text": [
      "https://www.thingiverse.com/thing:4643859 129\n"
     ]
    },
    {
     "name": "stdout",
     "output_type": "stream",
     "text": [
      "https://www.thingiverse.com/thing:3020764 130\n"
     ]
    },
    {
     "name": "stdout",
     "output_type": "stream",
     "text": [
      "https://www.thingiverse.com/thing:1692456 131\n"
     ]
    },
    {
     "name": "stdout",
     "output_type": "stream",
     "text": [
      "https://www.thingiverse.com/thing:4083564 132\n"
     ]
    },
    {
     "name": "stdout",
     "output_type": "stream",
     "text": [
      "https://www.thingiverse.com/thing:3490629 133\n"
     ]
    },
    {
     "name": "stdout",
     "output_type": "stream",
     "text": [
      "https://www.thingiverse.com/thing:5206222 134\n"
     ]
    },
    {
     "name": "stdout",
     "output_type": "stream",
     "text": [
      "https://www.thingiverse.com/thing:4418344 135\n"
     ]
    },
    {
     "name": "stdout",
     "output_type": "stream",
     "text": [
      "https://www.thingiverse.com/thing:1881172 136\n"
     ]
    },
    {
     "name": "stdout",
     "output_type": "stream",
     "text": [
      "https://www.thingiverse.com/thing:855482 137\n"
     ]
    },
    {
     "name": "stdout",
     "output_type": "stream",
     "text": [
      "https://www.thingiverse.com/thing:6530153 138\n"
     ]
    },
    {
     "name": "stdout",
     "output_type": "stream",
     "text": [
      "https://www.thingiverse.com/thing:1055803 139\n"
     ]
    },
    {
     "name": "stdout",
     "output_type": "stream",
     "text": [
      "https://www.thingiverse.com/thing:5158078 140\n"
     ]
    },
    {
     "name": "stdout",
     "output_type": "stream",
     "text": [
      "https://www.thingiverse.com/thing:1105912 141\n"
     ]
    },
    {
     "name": "stdout",
     "output_type": "stream",
     "text": [
      "https://www.thingiverse.com/thing:3265022 142\n"
     ]
    },
    {
     "name": "stdout",
     "output_type": "stream",
     "text": [
      "https://www.thingiverse.com/thing:4307217 143\n"
     ]
    },
    {
     "name": "stdout",
     "output_type": "stream",
     "text": [
      "https://www.thingiverse.com/thing:1098836 144\n"
     ]
    },
    {
     "name": "stdout",
     "output_type": "stream",
     "text": [
      "https://www.thingiverse.com/thing:5667985 145\n"
     ]
    },
    {
     "name": "stdout",
     "output_type": "stream",
     "text": [
      "https://www.thingiverse.com/thing:83208 146\n"
     ]
    },
    {
     "name": "stdout",
     "output_type": "stream",
     "text": [
      "https://www.thingiverse.com/thing:13635 147\n"
     ]
    },
    {
     "name": "stdout",
     "output_type": "stream",
     "text": [
      "https://www.thingiverse.com/thing:5138488 148\n"
     ]
    },
    {
     "name": "stdout",
     "output_type": "stream",
     "text": [
      "https://www.thingiverse.com/thing:3699526 149\n"
     ]
    },
    {
     "name": "stdout",
     "output_type": "stream",
     "text": [
      "https://www.thingiverse.com/thing:1748089 150\n"
     ]
    },
    {
     "name": "stdout",
     "output_type": "stream",
     "text": [
      "https://www.thingiverse.com/thing:4418408 151\n"
     ]
    },
    {
     "name": "stdout",
     "output_type": "stream",
     "text": [
      "https://www.thingiverse.com/thing:3713140 152\n"
     ]
    },
    {
     "name": "stdout",
     "output_type": "stream",
     "text": [
      "https://www.thingiverse.com/thing:3710570 153\n"
     ]
    },
    {
     "name": "stdout",
     "output_type": "stream",
     "text": [
      "https://www.thingiverse.com/thing:2881400 154\n"
     ]
    },
    {
     "name": "stdout",
     "output_type": "stream",
     "text": [
      "https://www.thingiverse.com/thing:3085183 155\n"
     ]
    },
    {
     "name": "stdout",
     "output_type": "stream",
     "text": [
      "https://www.thingiverse.com/thing:2353675 156\n"
     ]
    },
    {
     "name": "stdout",
     "output_type": "stream",
     "text": [
      "https://www.thingiverse.com/thing:2842524 157\n"
     ]
    },
    {
     "name": "stdout",
     "output_type": "stream",
     "text": [
      "https://www.thingiverse.com/thing:1347793 158\n"
     ]
    },
    {
     "name": "stdout",
     "output_type": "stream",
     "text": [
      "https://www.thingiverse.com/thing:964983 159\n"
     ]
    },
    {
     "name": "stdout",
     "output_type": "stream",
     "text": [
      "https://www.thingiverse.com/thing:2532344 160\n"
     ]
    },
    {
     "name": "stdout",
     "output_type": "stream",
     "text": [
      "https://www.thingiverse.com/thing:2634085 161\n"
     ]
    },
    {
     "name": "stdout",
     "output_type": "stream",
     "text": [
      "https://www.thingiverse.com/thing:4963381 162\n"
     ]
    },
    {
     "name": "stdout",
     "output_type": "stream",
     "text": [
      "https://www.thingiverse.com/thing:2893115 163\n"
     ]
    },
    {
     "name": "stdout",
     "output_type": "stream",
     "text": [
      "https://www.thingiverse.com/thing:859066 164\n"
     ]
    },
    {
     "name": "stdout",
     "output_type": "stream",
     "text": [
      "https://www.thingiverse.com/thing:3242937 165\n"
     ]
    },
    {
     "name": "stdout",
     "output_type": "stream",
     "text": [
      "https://www.thingiverse.com/thing:2633817 166\n"
     ]
    },
    {
     "name": "stdout",
     "output_type": "stream",
     "text": [
      "https://www.thingiverse.com/thing:3192305 167\n"
     ]
    },
    {
     "name": "stdout",
     "output_type": "stream",
     "text": [
      "https://www.thingiverse.com/thing:1073029 168\n"
     ]
    },
    {
     "name": "stdout",
     "output_type": "stream",
     "text": [
      "https://www.thingiverse.com/thing:1105036 169\n"
     ]
    },
    {
     "name": "stdout",
     "output_type": "stream",
     "text": [
      "https://www.thingiverse.com/thing:6422941 170\n"
     ]
    },
    {
     "name": "stdout",
     "output_type": "stream",
     "text": [
      "https://www.thingiverse.com/thing:1097330 171\n"
     ]
    },
    {
     "name": "stdout",
     "output_type": "stream",
     "text": [
      "https://www.thingiverse.com/thing:3260197 172\n"
     ]
    },
    {
     "name": "stdout",
     "output_type": "stream",
     "text": [
      "https://www.thingiverse.com/thing:5337299 173\n"
     ]
    },
    {
     "name": "stdout",
     "output_type": "stream",
     "text": [
      "https://www.thingiverse.com/thing:2743705 174\n"
     ]
    },
    {
     "name": "stdout",
     "output_type": "stream",
     "text": [
      "https://www.thingiverse.com/thing:837262 175\n"
     ]
    },
    {
     "name": "stdout",
     "output_type": "stream",
     "text": [
      "https://www.thingiverse.com/thing:2644335 176\n"
     ]
    },
    {
     "name": "stdout",
     "output_type": "stream",
     "text": [
      "https://www.thingiverse.com/thing:2266941 177\n"
     ]
    },
    {
     "name": "stdout",
     "output_type": "stream",
     "text": [
      "https://www.thingiverse.com/thing:3777683 178\n"
     ]
    },
    {
     "name": "stdout",
     "output_type": "stream",
     "text": [
      "https://www.thingiverse.com/thing:4415475 179\n"
     ]
    },
    {
     "name": "stdout",
     "output_type": "stream",
     "text": [
      "https://www.thingiverse.com/thing:3486198 180\n"
     ]
    },
    {
     "name": "stdout",
     "output_type": "stream",
     "text": [
      "https://www.thingiverse.com/thing:867841 181\n"
     ]
    },
    {
     "name": "stdout",
     "output_type": "stream",
     "text": [
      "https://www.thingiverse.com/thing:5158045 182\n"
     ]
    },
    {
     "name": "stdout",
     "output_type": "stream",
     "text": [
      "https://www.thingiverse.com/thing:5322716 183\n"
     ]
    },
    {
     "name": "stdout",
     "output_type": "stream",
     "text": [
      "https://www.thingiverse.com/thing:4230057 184\n"
     ]
    },
    {
     "name": "stdout",
     "output_type": "stream",
     "text": [
      "https://www.thingiverse.com/thing:1365497 185\n"
     ]
    },
    {
     "name": "stdout",
     "output_type": "stream",
     "text": [
      "https://www.thingiverse.com/thing:3496520 186\n"
     ]
    },
    {
     "name": "stdout",
     "output_type": "stream",
     "text": [
      "https://www.thingiverse.com/thing:2964654 187\n"
     ]
    },
    {
     "name": "stdout",
     "output_type": "stream",
     "text": [
      "https://www.thingiverse.com/thing:6532742 188\n"
     ]
    },
    {
     "name": "stdout",
     "output_type": "stream",
     "text": [
      "https://www.thingiverse.com/thing:3525173 189\n"
     ]
    },
    {
     "name": "stdout",
     "output_type": "stream",
     "text": [
      "https://www.thingiverse.com/thing:3413829 190\n"
     ]
    },
    {
     "name": "stdout",
     "output_type": "stream",
     "text": [
      "https://www.thingiverse.com/thing:2968392 191\n"
     ]
    },
    {
     "name": "stdout",
     "output_type": "stream",
     "text": [
      "https://www.thingiverse.com/thing:1321021 192\n"
     ]
    },
    {
     "name": "stdout",
     "output_type": "stream",
     "text": [
      "https://www.thingiverse.com/thing:6518172 193\n"
     ]
    },
    {
     "name": "stdout",
     "output_type": "stream",
     "text": [
      "https://www.thingiverse.com/thing:2870410 194\n"
     ]
    },
    {
     "name": "stdout",
     "output_type": "stream",
     "text": [
      "https://www.thingiverse.com/thing:3699666 195\n"
     ]
    },
    {
     "name": "stdout",
     "output_type": "stream",
     "text": [
      "https://www.thingiverse.com/thing:2308943 196\n"
     ]
    },
    {
     "name": "stdout",
     "output_type": "stream",
     "text": [
      "https://www.thingiverse.com/thing:2061214 197\n"
     ]
    },
    {
     "name": "stdout",
     "output_type": "stream",
     "text": [
      "https://www.thingiverse.com/thing:4861794 198\n"
     ]
    },
    {
     "name": "stdout",
     "output_type": "stream",
     "text": [
      "https://www.thingiverse.com/thing:6652475 199\n"
     ]
    },
    {
     "name": "stdout",
     "output_type": "stream",
     "text": [
      "https://www.thingiverse.com/thing:6586072 200\n"
     ]
    },
    {
     "name": "stdout",
     "output_type": "stream",
     "text": [
      "https://www.thingiverse.com/thing:4627768 201\n"
     ]
    },
    {
     "name": "stdout",
     "output_type": "stream",
     "text": [
      "https://www.thingiverse.com/thing:6652479 202\n"
     ]
    },
    {
     "name": "stdout",
     "output_type": "stream",
     "text": [
      "https://www.thingiverse.com/thing:6652483 203\n"
     ]
    },
    {
     "name": "stdout",
     "output_type": "stream",
     "text": [
      "https://www.thingiverse.com/thing:5087153 204\n"
     ]
    },
    {
     "name": "stdout",
     "output_type": "stream",
     "text": [
      "https://www.thingiverse.com/thing:3710622 205\n"
     ]
    },
    {
     "name": "stdout",
     "output_type": "stream",
     "text": [
      "https://www.thingiverse.com/thing:3889122 206\n"
     ]
    },
    {
     "name": "stdout",
     "output_type": "stream",
     "text": [
      "https://www.thingiverse.com/thing:4814288 207\n"
     ]
    },
    {
     "name": "stdout",
     "output_type": "stream",
     "text": [
      "https://www.thingiverse.com/thing:1709190 208\n"
     ]
    },
    {
     "name": "stdout",
     "output_type": "stream",
     "text": [
      "https://www.thingiverse.com/thing:3714518 209\n"
     ]
    },
    {
     "name": "stdout",
     "output_type": "stream",
     "text": [
      "https://www.thingiverse.com/thing:4888212 210\n"
     ]
    },
    {
     "name": "stdout",
     "output_type": "stream",
     "text": [
      "https://www.thingiverse.com/thing:3146646 211\n"
     ]
    },
    {
     "name": "stdout",
     "output_type": "stream",
     "text": [
      "https://www.thingiverse.com/thing:4128904 212\n"
     ]
    },
    {
     "name": "stdout",
     "output_type": "stream",
     "text": [
      "https://www.thingiverse.com/thing:1601989 213\n"
     ]
    },
    {
     "name": "stdout",
     "output_type": "stream",
     "text": [
      "https://www.thingiverse.com/thing:6359725 214\n"
     ]
    },
    {
     "name": "stdout",
     "output_type": "stream",
     "text": [
      "https://www.thingiverse.com/thing:4618922 215\n"
     ]
    },
    {
     "name": "stdout",
     "output_type": "stream",
     "text": [
      "https://www.thingiverse.com/thing:1069011 216\n"
     ]
    },
    {
     "name": "stdout",
     "output_type": "stream",
     "text": [
      "https://www.thingiverse.com/thing:5187968 217\n"
     ]
    },
    {
     "name": "stdout",
     "output_type": "stream",
     "text": [
      "https://www.thingiverse.com/thing:2238502 218\n"
     ]
    },
    {
     "name": "stdout",
     "output_type": "stream",
     "text": [
      "https://www.thingiverse.com/thing:6980375 219\n"
     ]
    },
    {
     "name": "stdout",
     "output_type": "stream",
     "text": [
      "https://www.thingiverse.com/thing:3908282 220\n"
     ]
    },
    {
     "name": "stdout",
     "output_type": "stream",
     "text": [
      "https://www.thingiverse.com/thing:6242033 221\n"
     ]
    },
    {
     "name": "stdout",
     "output_type": "stream",
     "text": [
      "https://www.thingiverse.com/thing:3929118 222\n"
     ]
    },
    {
     "name": "stdout",
     "output_type": "stream",
     "text": [
      "https://www.thingiverse.com/thing:2861973 223\n"
     ]
    },
    {
     "name": "stdout",
     "output_type": "stream",
     "text": [
      "https://www.thingiverse.com/thing:4833383 224\n"
     ]
    },
    {
     "name": "stdout",
     "output_type": "stream",
     "text": [
      "https://www.thingiverse.com/thing:6302635 225\n"
     ]
    },
    {
     "name": "stdout",
     "output_type": "stream",
     "text": [
      "https://www.thingiverse.com/thing:6208844 226\n"
     ]
    },
    {
     "name": "stdout",
     "output_type": "stream",
     "text": [
      "https://www.thingiverse.com/thing:3086651 227\n"
     ]
    },
    {
     "name": "stdout",
     "output_type": "stream",
     "text": [
      "https://www.thingiverse.com/thing:3583410 228\n"
     ]
    },
    {
     "name": "stdout",
     "output_type": "stream",
     "text": [
      "https://www.thingiverse.com/thing:3929193 229\n"
     ]
    },
    {
     "name": "stdout",
     "output_type": "stream",
     "text": [
      "https://www.thingiverse.com/thing:6303151 230\n"
     ]
    },
    {
     "name": "stdout",
     "output_type": "stream",
     "text": [
      "https://www.thingiverse.com/thing:1691704 231\n"
     ]
    },
    {
     "name": "stdout",
     "output_type": "stream",
     "text": [
      "https://www.thingiverse.com/thing:6217986 232\n"
     ]
    },
    {
     "name": "stdout",
     "output_type": "stream",
     "text": [
      "https://www.thingiverse.com/thing:6268962 233\n"
     ]
    },
    {
     "name": "stdout",
     "output_type": "stream",
     "text": [
      "https://www.thingiverse.com/thing:3929230 234\n"
     ]
    },
    {
     "name": "stdout",
     "output_type": "stream",
     "text": [
      "https://www.thingiverse.com/thing:3959612 235\n"
     ]
    },
    {
     "name": "stdout",
     "output_type": "stream",
     "text": [
      "https://www.thingiverse.com/thing:1095104 236\n"
     ]
    },
    {
     "name": "stdout",
     "output_type": "stream",
     "text": [
      "https://www.thingiverse.com/thing:6555782 237\n"
     ]
    },
    {
     "name": "stdout",
     "output_type": "stream",
     "text": [
      "https://www.thingiverse.com/thing:1315004 238\n"
     ]
    },
    {
     "name": "stdout",
     "output_type": "stream",
     "text": [
      "https://www.thingiverse.com/thing:3929439 239\n"
     ]
    },
    {
     "name": "stdout",
     "output_type": "stream",
     "text": [
      "https://www.thingiverse.com/thing:6801694 240\n"
     ]
    },
    {
     "name": "stdout",
     "output_type": "stream",
     "text": [
      "https://www.thingiverse.com/thing:6225887 241\n"
     ]
    },
    {
     "name": "stdout",
     "output_type": "stream",
     "text": [
      "https://www.thingiverse.com/thing:3183103 242\n"
     ]
    },
    {
     "name": "stdout",
     "output_type": "stream",
     "text": [
      "https://www.thingiverse.com/thing:1090096 243\n"
     ]
    },
    {
     "name": "stdout",
     "output_type": "stream",
     "text": [
      "https://www.thingiverse.com/thing:6225678 244\n"
     ]
    },
    {
     "name": "stdout",
     "output_type": "stream",
     "text": [
      "https://www.thingiverse.com/thing:1055109 245\n"
     ]
    },
    {
     "name": "stdout",
     "output_type": "stream",
     "text": [
      "https://www.thingiverse.com/thing:3086688 246\n"
     ]
    },
    {
     "name": "stdout",
     "output_type": "stream",
     "text": [
      "https://www.thingiverse.com/thing:6225899 247\n"
     ]
    },
    {
     "name": "stdout",
     "output_type": "stream",
     "text": [
      "https://www.thingiverse.com/thing:6237632 248\n"
     ]
    },
    {
     "name": "stdout",
     "output_type": "stream",
     "text": [
      "https://www.thingiverse.com/thing:6713662 249\n"
     ]
    },
    {
     "name": "stdout",
     "output_type": "stream",
     "text": [
      "https://www.thingiverse.com/thing:1315193 250\n"
     ]
    },
    {
     "name": "stdout",
     "output_type": "stream",
     "text": [
      "https://www.thingiverse.com/thing:6248225 251\n"
     ]
    },
    {
     "name": "stdout",
     "output_type": "stream",
     "text": [
      "https://www.thingiverse.com/thing:6841777 252\n"
     ]
    },
    {
     "name": "stdout",
     "output_type": "stream",
     "text": [
      "https://www.thingiverse.com/thing:3635621 253\n"
     ]
    },
    {
     "name": "stdout",
     "output_type": "stream",
     "text": [
      "https://www.thingiverse.com/thing:6736769 254\n"
     ]
    },
    {
     "name": "stdout",
     "output_type": "stream",
     "text": [
      "https://www.thingiverse.com/thing:3649410 255\n"
     ]
    },
    {
     "name": "stdout",
     "output_type": "stream",
     "text": [
      "https://www.thingiverse.com/thing:6841790 256\n"
     ]
    },
    {
     "name": "stdout",
     "output_type": "stream",
     "text": [
      "https://www.thingiverse.com/thing:3929385 257\n"
     ]
    },
    {
     "name": "stdout",
     "output_type": "stream",
     "text": [
      "https://www.thingiverse.com/thing:3929395 258\n"
     ]
    },
    {
     "name": "stdout",
     "output_type": "stream",
     "text": [
      "https://www.thingiverse.com/thing:811030 259\n"
     ]
    },
    {
     "name": "stdout",
     "output_type": "stream",
     "text": [
      "https://www.thingiverse.com/thing:6215045 260\n"
     ]
    },
    {
     "name": "stdout",
     "output_type": "stream",
     "text": [
      "https://www.thingiverse.com/thing:899126 261\n"
     ]
    },
    {
     "name": "stdout",
     "output_type": "stream",
     "text": [
      "https://www.thingiverse.com/thing:2774477 262\n"
     ]
    },
    {
     "name": "stdout",
     "output_type": "stream",
     "text": [
      "https://www.thingiverse.com/thing:6225926 263\n"
     ]
    },
    {
     "name": "stdout",
     "output_type": "stream",
     "text": [
      "https://www.thingiverse.com/thing:1427 264\n"
     ]
    },
    {
     "name": "stdout",
     "output_type": "stream",
     "text": [
      "https://www.thingiverse.com/thing:1737001 265\n"
     ]
    },
    {
     "name": "stdout",
     "output_type": "stream",
     "text": [
      "https://www.thingiverse.com/thing:1098780 266\n"
     ]
    },
    {
     "name": "stdout",
     "output_type": "stream",
     "text": [
      "https://www.thingiverse.com/thing:1294517 267\n"
     ]
    },
    {
     "name": "stdout",
     "output_type": "stream",
     "text": [
      "https://www.thingiverse.com/thing:1104573 268\n"
     ]
    },
    {
     "name": "stdout",
     "output_type": "stream",
     "text": [
      "https://www.thingiverse.com/thing:3109694 269\n"
     ]
    },
    {
     "name": "stdout",
     "output_type": "stream",
     "text": [
      "https://www.thingiverse.com/thing:6794716 270\n"
     ]
    },
    {
     "name": "stdout",
     "output_type": "stream",
     "text": [
      "https://www.thingiverse.com/thing:1090061 271\n"
     ]
    },
    {
     "name": "stdout",
     "output_type": "stream",
     "text": [
      "https://www.thingiverse.com/thing:3086591 272\n"
     ]
    },
    {
     "name": "stdout",
     "output_type": "stream",
     "text": [
      "https://www.thingiverse.com/thing:158843 273\n"
     ]
    },
    {
     "name": "stdout",
     "output_type": "stream",
     "text": [
      "https://www.thingiverse.com/thing:3158492 274\n"
     ]
    },
    {
     "name": "stdout",
     "output_type": "stream",
     "text": [
      "https://www.thingiverse.com/thing:302309 275\n"
     ]
    },
    {
     "name": "stdout",
     "output_type": "stream",
     "text": [
      "https://www.thingiverse.com/thing:1127976 276\n"
     ]
    },
    {
     "name": "stdout",
     "output_type": "stream",
     "text": [
      "https://www.thingiverse.com/thing:3044695 277\n"
     ]
    },
    {
     "name": "stdout",
     "output_type": "stream",
     "text": [
      "https://www.thingiverse.com/thing:3929595 278\n"
     ]
    },
    {
     "name": "stdout",
     "output_type": "stream",
     "text": [
      "https://www.thingiverse.com/thing:4852006 279\n"
     ]
    },
    {
     "name": "stdout",
     "output_type": "stream",
     "text": [
      "https://www.thingiverse.com/thing:6248023 280\n"
     ]
    },
    {
     "name": "stdout",
     "output_type": "stream",
     "text": [
      "https://www.thingiverse.com/thing:6224150 281\n"
     ]
    },
    {
     "name": "stdout",
     "output_type": "stream",
     "text": [
      "https://www.thingiverse.com/thing:6821370 282\n"
     ]
    },
    {
     "name": "stdout",
     "output_type": "stream",
     "text": [
      "https://www.thingiverse.com/thing:6790716 283\n"
     ]
    },
    {
     "name": "stdout",
     "output_type": "stream",
     "text": [
      "https://www.thingiverse.com/thing:1954875 284\n"
     ]
    },
    {
     "name": "stdout",
     "output_type": "stream",
     "text": [
      "https://www.thingiverse.com/thing:3713087 285\n"
     ]
    },
    {
     "name": "stdout",
     "output_type": "stream",
     "text": [
      "https://www.thingiverse.com/thing:2180151 286\n"
     ]
    },
    {
     "name": "stdout",
     "output_type": "stream",
     "text": [
      "https://www.thingiverse.com/thing:471755 287\n"
     ]
    },
    {
     "name": "stdout",
     "output_type": "stream",
     "text": [
      "https://www.thingiverse.com/thing:3588491 288\n"
     ]
    },
    {
     "name": "stdout",
     "output_type": "stream",
     "text": [
      "https://www.thingiverse.com/thing:6640383 289\n"
     ]
    },
    {
     "name": "stdout",
     "output_type": "stream",
     "text": [
      "https://www.thingiverse.com/thing:2566778 290\n"
     ]
    },
    {
     "name": "stdout",
     "output_type": "stream",
     "text": [
      "https://www.thingiverse.com/thing:1053181 291\n"
     ]
    },
    {
     "name": "stdout",
     "output_type": "stream",
     "text": [
      "https://www.thingiverse.com/thing:1607527 292\n"
     ]
    },
    {
     "name": "stdout",
     "output_type": "stream",
     "text": [
      "https://www.thingiverse.com/thing:2727176 293\n"
     ]
    },
    {
     "name": "stdout",
     "output_type": "stream",
     "text": [
      "https://www.thingiverse.com/thing:2023413 294\n"
     ]
    },
    {
     "name": "stdout",
     "output_type": "stream",
     "text": [
      "https://www.thingiverse.com/thing:90144 295\n"
     ]
    },
    {
     "name": "stdout",
     "output_type": "stream",
     "text": [
      "https://www.thingiverse.com/thing:686084 296\n"
     ]
    },
    {
     "name": "stdout",
     "output_type": "stream",
     "text": [
      "https://www.thingiverse.com/thing:3195198 297\n"
     ]
    },
    {
     "name": "stdout",
     "output_type": "stream",
     "text": [
      "https://www.thingiverse.com/thing:515259 298\n"
     ]
    },
    {
     "name": "stdout",
     "output_type": "stream",
     "text": [
      "https://www.thingiverse.com/thing:4873369 299\n"
     ]
    },
    {
     "name": "stdout",
     "output_type": "stream",
     "text": [
      "https://www.thingiverse.com/thing:3555374 300\n"
     ]
    },
    {
     "name": "stdout",
     "output_type": "stream",
     "text": [
      "https://www.thingiverse.com/thing:3783855 301\n"
     ]
    },
    {
     "name": "stdout",
     "output_type": "stream",
     "text": [
      "https://www.thingiverse.com/thing:3588828 302\n"
     ]
    },
    {
     "name": "stdout",
     "output_type": "stream",
     "text": [
      "https://www.thingiverse.com/thing:4978254 303\n"
     ]
    },
    {
     "name": "stdout",
     "output_type": "stream",
     "text": [
      "https://www.thingiverse.com/thing:6224294 304\n"
     ]
    },
    {
     "name": "stdout",
     "output_type": "stream",
     "text": [
      "https://www.thingiverse.com/thing:6555341 305\n"
     ]
    },
    {
     "name": "stdout",
     "output_type": "stream",
     "text": [
      "https://www.thingiverse.com/thing:6829522 306\n"
     ]
    },
    {
     "name": "stdout",
     "output_type": "stream",
     "text": [
      "https://www.thingiverse.com/thing:6805191 307\n"
     ]
    },
    {
     "name": "stdout",
     "output_type": "stream",
     "text": [
      "https://www.thingiverse.com/thing:930409 308\n"
     ]
    },
    {
     "name": "stdout",
     "output_type": "stream",
     "text": [
      "https://www.thingiverse.com/thing:2799080 309\n"
     ]
    },
    {
     "name": "stdout",
     "output_type": "stream",
     "text": [
      "https://www.thingiverse.com/thing:1081797 310\n"
     ]
    },
    {
     "name": "stdout",
     "output_type": "stream",
     "text": [
      "https://www.thingiverse.com/thing:1131463 311\n"
     ]
    },
    {
     "name": "stdout",
     "output_type": "stream",
     "text": [
      "https://www.thingiverse.com/thing:1532027 312\n"
     ]
    },
    {
     "name": "stdout",
     "output_type": "stream",
     "text": [
      "https://www.thingiverse.com/thing:640839 313\n"
     ]
    },
    {
     "name": "stdout",
     "output_type": "stream",
     "text": [
      "https://www.thingiverse.com/thing:5540330 314\n"
     ]
    },
    {
     "name": "stdout",
     "output_type": "stream",
     "text": [
      "https://www.thingiverse.com/thing:3596569 315\n"
     ]
    },
    {
     "name": "stdout",
     "output_type": "stream",
     "text": [
      "https://www.thingiverse.com/thing:1078904 316\n"
     ]
    },
    {
     "name": "stdout",
     "output_type": "stream",
     "text": [
      "https://www.thingiverse.com/thing:1049502 317\n"
     ]
    },
    {
     "name": "stdout",
     "output_type": "stream",
     "text": [
      "https://www.thingiverse.com/thing:1673376 318\n"
     ]
    },
    {
     "name": "stdout",
     "output_type": "stream",
     "text": [
      "https://www.thingiverse.com/thing:2841496 319\n"
     ]
    },
    {
     "name": "stdout",
     "output_type": "stream",
     "text": [
      "https://www.thingiverse.com/thing:6787576 320\n"
     ]
    },
    {
     "name": "stdout",
     "output_type": "stream",
     "text": [
      "https://www.thingiverse.com/thing:6378395 321\n"
     ]
    },
    {
     "name": "stdout",
     "output_type": "stream",
     "text": [
      "https://www.thingiverse.com/thing:1075334 322\n"
     ]
    },
    {
     "name": "stdout",
     "output_type": "stream",
     "text": [
      "https://www.thingiverse.com/thing:132807 323\n"
     ]
    },
    {
     "name": "stdout",
     "output_type": "stream",
     "text": [
      "https://www.thingiverse.com/thing:40731 324\n"
     ]
    },
    {
     "name": "stdout",
     "output_type": "stream",
     "text": [
      "https://www.thingiverse.com/thing:2409406 325\n"
     ]
    },
    {
     "name": "stdout",
     "output_type": "stream",
     "text": [
      "https://www.thingiverse.com/thing:6790907 326\n"
     ]
    },
    {
     "name": "stdout",
     "output_type": "stream",
     "text": [
      "https://www.thingiverse.com/thing:1049237 327\n"
     ]
    },
    {
     "name": "stdout",
     "output_type": "stream",
     "text": [
      "https://www.thingiverse.com/thing:359361 328\n"
     ]
    },
    {
     "name": "stdout",
     "output_type": "stream",
     "text": [
      "https://www.thingiverse.com/thing:2874072 329\n"
     ]
    },
    {
     "name": "stdout",
     "output_type": "stream",
     "text": [
      "https://www.thingiverse.com/thing:725 330\n"
     ]
    },
    {
     "name": "stdout",
     "output_type": "stream",
     "text": [
      "https://www.thingiverse.com/thing:2849952 331\n"
     ]
    },
    {
     "name": "stdout",
     "output_type": "stream",
     "text": [
      "https://www.thingiverse.com/thing:1079918 332\n"
     ]
    },
    {
     "name": "stdout",
     "output_type": "stream",
     "text": [
      "https://www.thingiverse.com/thing:2685127 333\n"
     ]
    },
    {
     "name": "stdout",
     "output_type": "stream",
     "text": [
      "https://www.thingiverse.com/thing:1191262 334\n"
     ]
    },
    {
     "name": "stdout",
     "output_type": "stream",
     "text": [
      "https://www.thingiverse.com/thing:4259927 335\n"
     ]
    },
    {
     "name": "stdout",
     "output_type": "stream",
     "text": [
      "https://www.thingiverse.com/thing:359355 336\n"
     ]
    },
    {
     "name": "stdout",
     "output_type": "stream",
     "text": [
      "https://www.thingiverse.com/thing:4570894 337\n"
     ]
    },
    {
     "name": "stdout",
     "output_type": "stream",
     "text": [
      "https://www.thingiverse.com/thing:3063851 338\n"
     ]
    },
    {
     "name": "stdout",
     "output_type": "stream",
     "text": [
      "https://www.thingiverse.com/thing:1094092 339\n"
     ]
    },
    {
     "name": "stdout",
     "output_type": "stream",
     "text": [
      "https://www.thingiverse.com/thing:1716073 340\n"
     ]
    },
    {
     "name": "stdout",
     "output_type": "stream",
     "text": [
      "https://www.thingiverse.com/thing:1716073 341\n"
     ]
    },
    {
     "name": "stdout",
     "output_type": "stream",
     "text": [
      "https://www.thingiverse.com/thing:2802074 342\n"
     ]
    },
    {
     "name": "stdout",
     "output_type": "stream",
     "text": [
      "https://www.thingiverse.com/thing:2802057 343\n"
     ]
    },
    {
     "name": "stdout",
     "output_type": "stream",
     "text": [
      "https://www.thingiverse.com/thing:2394134 344\n"
     ]
    },
    {
     "name": "stdout",
     "output_type": "stream",
     "text": [
      "https://www.thingiverse.com/thing:1079094 345\n"
     ]
    },
    {
     "name": "stdout",
     "output_type": "stream",
     "text": [
      "https://www.thingiverse.com/thing:1964079 346\n"
     ]
    },
    {
     "name": "stdout",
     "output_type": "stream",
     "text": [
      "https://www.thingiverse.com/thing:1712603 347\n"
     ]
    },
    {
     "name": "stdout",
     "output_type": "stream",
     "text": [
      "https://www.thingiverse.com/thing:1104680 348\n"
     ]
    },
    {
     "name": "stdout",
     "output_type": "stream",
     "text": [
      "https://www.thingiverse.com/thing:1097538 349\n"
     ]
    },
    {
     "name": "stdout",
     "output_type": "stream",
     "text": [
      "https://www.thingiverse.com/thing:1151612 350\n"
     ]
    },
    {
     "name": "stdout",
     "output_type": "stream",
     "text": [
      "https://www.thingiverse.com/thing:3230906 351\n"
     ]
    },
    {
     "name": "stdout",
     "output_type": "stream",
     "text": [
      "https://www.thingiverse.com/thing:2792191 352\n"
     ]
    },
    {
     "name": "stdout",
     "output_type": "stream",
     "text": [
      "https://www.thingiverse.com/thing:1291374 353\n"
     ]
    },
    {
     "name": "stdout",
     "output_type": "stream",
     "text": [
      "https://www.thingiverse.com/thing:277956 354\n"
     ]
    },
    {
     "name": "stdout",
     "output_type": "stream",
     "text": [
      "https://www.thingiverse.com/thing:3436542 355\n"
     ]
    },
    {
     "name": "stdout",
     "output_type": "stream",
     "text": [
      "https://www.thingiverse.com/thing:2132678 356\n"
     ]
    },
    {
     "name": "stdout",
     "output_type": "stream",
     "text": [
      "https://www.thingiverse.com/thing:3062522 357\n"
     ]
    },
    {
     "name": "stdout",
     "output_type": "stream",
     "text": [
      "https://www.thingiverse.com/thing:5078850 358\n"
     ]
    },
    {
     "name": "stdout",
     "output_type": "stream",
     "text": [
      "https://www.thingiverse.com/thing:2800937 359\n"
     ]
    },
    {
     "name": "stdout",
     "output_type": "stream",
     "text": [
      "https://www.thingiverse.com/thing:2564128 360\n"
     ]
    },
    {
     "name": "stdout",
     "output_type": "stream",
     "text": [
      "https://www.thingiverse.com/thing:3974744 361\n"
     ]
    },
    {
     "name": "stdout",
     "output_type": "stream",
     "text": [
      "https://www.thingiverse.com/thing:1523525 362\n"
     ]
    },
    {
     "name": "stdout",
     "output_type": "stream",
     "text": [
      "https://www.thingiverse.com/thing:1066499 363\n"
     ]
    },
    {
     "name": "stdout",
     "output_type": "stream",
     "text": [
      "https://www.thingiverse.com/thing:2586738 364\n"
     ]
    },
    {
     "name": "stdout",
     "output_type": "stream",
     "text": [
      "https://www.thingiverse.com/thing:683496 365\n"
     ]
    },
    {
     "name": "stdout",
     "output_type": "stream",
     "text": [
      "https://www.thingiverse.com/thing:856639 366\n"
     ]
    },
    {
     "name": "stdout",
     "output_type": "stream",
     "text": [
      "https://www.thingiverse.com/thing:2366390 367\n"
     ]
    },
    {
     "name": "stdout",
     "output_type": "stream",
     "text": [
      "https://www.thingiverse.com/thing:26077 368\n"
     ]
    },
    {
     "name": "stdout",
     "output_type": "stream",
     "text": [
      "https://www.thingiverse.com/thing:6068032 369\n"
     ]
    },
    {
     "name": "stdout",
     "output_type": "stream",
     "text": [
      "https://www.thingiverse.com/thing:2419155 370\n"
     ]
    },
    {
     "name": "stdout",
     "output_type": "stream",
     "text": [
      "https://www.thingiverse.com/thing:3294279 371\n"
     ]
    },
    {
     "name": "stdout",
     "output_type": "stream",
     "text": [
      "https://www.thingiverse.com/thing:5219828 372\n"
     ]
    },
    {
     "name": "stdout",
     "output_type": "stream",
     "text": [
      "https://www.thingiverse.com/thing:3192347 373\n"
     ]
    },
    {
     "name": "stdout",
     "output_type": "stream",
     "text": [
      "https://www.thingiverse.com/thing:1102273 374\n"
     ]
    },
    {
     "name": "stdout",
     "output_type": "stream",
     "text": [
      "https://www.thingiverse.com/thing:696316 375\n"
     ]
    },
    {
     "name": "stdout",
     "output_type": "stream",
     "text": [
      "https://www.thingiverse.com/thing:1104178 376\n"
     ]
    },
    {
     "name": "stdout",
     "output_type": "stream",
     "text": [
      "https://www.thingiverse.com/thing:2868839 377\n"
     ]
    },
    {
     "name": "stdout",
     "output_type": "stream",
     "text": [
      "https://www.thingiverse.com/thing:1069265 378\n"
     ]
    },
    {
     "name": "stdout",
     "output_type": "stream",
     "text": [
      "https://www.thingiverse.com/thing:642874 379\n"
     ]
    },
    {
     "name": "stdout",
     "output_type": "stream",
     "text": [
      "https://www.thingiverse.com/thing:2200674 380\n"
     ]
    },
    {
     "name": "stdout",
     "output_type": "stream",
     "text": [
      "https://www.thingiverse.com/thing:1964081 381\n"
     ]
    },
    {
     "name": "stdout",
     "output_type": "stream",
     "text": [
      "https://www.thingiverse.com/thing:5195661 382\n"
     ]
    },
    {
     "name": "stdout",
     "output_type": "stream",
     "text": [
      "https://www.thingiverse.com/thing:2629680 383\n"
     ]
    },
    {
     "name": "stdout",
     "output_type": "stream",
     "text": [
      "https://www.thingiverse.com/thing:950355 384\n"
     ]
    },
    {
     "name": "stdout",
     "output_type": "stream",
     "text": [
      "https://www.thingiverse.com/thing:3541114 385\n"
     ]
    },
    {
     "name": "stdout",
     "output_type": "stream",
     "text": [
      "https://www.thingiverse.com/thing:1936150 386\n"
     ]
    },
    {
     "name": "stdout",
     "output_type": "stream",
     "text": [
      "https://www.thingiverse.com/thing:1079916 387\n"
     ]
    },
    {
     "name": "stdout",
     "output_type": "stream",
     "text": [
      "https://www.thingiverse.com/thing:2246592 388\n"
     ]
    },
    {
     "name": "stdout",
     "output_type": "stream",
     "text": [
      "https://www.thingiverse.com/thing:1526315 389\n"
     ]
    },
    {
     "name": "stdout",
     "output_type": "stream",
     "text": [
      "https://www.thingiverse.com/thing:3631544 390\n"
     ]
    },
    {
     "name": "stdout",
     "output_type": "stream",
     "text": [
      "https://www.thingiverse.com/thing:948906 391\n"
     ]
    },
    {
     "name": "stdout",
     "output_type": "stream",
     "text": [
      "https://www.thingiverse.com/thing:3593250 392\n"
     ]
    },
    {
     "name": "stdout",
     "output_type": "stream",
     "text": [
      "https://www.thingiverse.com/thing:1947210 393\n"
     ]
    },
    {
     "name": "stdout",
     "output_type": "stream",
     "text": [
      "https://www.thingiverse.com/thing:3087098 394\n"
     ]
    },
    {
     "name": "stdout",
     "output_type": "stream",
     "text": [
      "https://www.thingiverse.com/thing:3777693 395\n"
     ]
    },
    {
     "name": "stdout",
     "output_type": "stream",
     "text": [
      "https://www.thingiverse.com/thing:2507266 396\n"
     ]
    },
    {
     "name": "stdout",
     "output_type": "stream",
     "text": [
      "https://www.thingiverse.com/thing:2793464 397\n"
     ]
    },
    {
     "name": "stdout",
     "output_type": "stream",
     "text": [
      "https://www.thingiverse.com/thing:36921 398\n"
     ]
    },
    {
     "name": "stdout",
     "output_type": "stream",
     "text": [
      "https://www.thingiverse.com/thing:1471760 399\n"
     ]
    },
    {
     "name": "stdout",
     "output_type": "stream",
     "text": [
      "https://www.thingiverse.com/thing:4270938 400\n"
     ]
    },
    {
     "name": "stdout",
     "output_type": "stream",
     "text": [
      "https://www.thingiverse.com/thing:4678779 401\n"
     ]
    },
    {
     "name": "stdout",
     "output_type": "stream",
     "text": [
      "https://www.thingiverse.com/thing:2799056 402\n"
     ]
    },
    {
     "name": "stdout",
     "output_type": "stream",
     "text": [
      "https://www.thingiverse.com/thing:2107926 403\n"
     ]
    },
    {
     "name": "stdout",
     "output_type": "stream",
     "text": [
      "https://www.thingiverse.com/thing:1079916 404\n"
     ]
    },
    {
     "name": "stdout",
     "output_type": "stream",
     "text": [
      "https://www.thingiverse.com/thing:3698050 405\n"
     ]
    },
    {
     "name": "stdout",
     "output_type": "stream",
     "text": [
      "https://www.thingiverse.com/thing:3698867 406\n"
     ]
    },
    {
     "name": "stdout",
     "output_type": "stream",
     "text": [
      "https://www.thingiverse.com/thing:1096831 407\n"
     ]
    },
    {
     "name": "stdout",
     "output_type": "stream",
     "text": [
      "https://www.thingiverse.com/thing:2841939 408\n"
     ]
    },
    {
     "name": "stdout",
     "output_type": "stream",
     "text": [
      "https://www.thingiverse.com/thing:2867010 409\n"
     ]
    },
    {
     "name": "stdout",
     "output_type": "stream",
     "text": [
      "https://www.thingiverse.com/thing:75893 410\n"
     ]
    },
    {
     "name": "stdout",
     "output_type": "stream",
     "text": [
      "https://www.thingiverse.com/thing:1761738 411\n"
     ]
    },
    {
     "name": "stdout",
     "output_type": "stream",
     "text": [
      "https://www.thingiverse.com/thing:4940298 412\n"
     ]
    },
    {
     "name": "stdout",
     "output_type": "stream",
     "text": [
      "https://www.thingiverse.com/thing:2596630 413\n"
     ]
    },
    {
     "name": "stdout",
     "output_type": "stream",
     "text": [
      "https://www.thingiverse.com/thing:2107834 414\n"
     ]
    },
    {
     "name": "stdout",
     "output_type": "stream",
     "text": [
      "https://www.thingiverse.com/thing:1105233 415\n"
     ]
    },
    {
     "name": "stdout",
     "output_type": "stream",
     "text": [
      "https://www.thingiverse.com/thing:2257846 416\n"
     ]
    },
    {
     "name": "stdout",
     "output_type": "stream",
     "text": [
      "https://www.thingiverse.com/thing:1046447 417\n"
     ]
    },
    {
     "name": "stdout",
     "output_type": "stream",
     "text": [
      "https://www.thingiverse.com/thing:1095439 418\n"
     ]
    },
    {
     "name": "stdout",
     "output_type": "stream",
     "text": [
      "https://www.thingiverse.com/thing:1152826 419\n"
     ]
    },
    {
     "name": "stdout",
     "output_type": "stream",
     "text": [
      "https://www.thingiverse.com/thing:2957270 420\n"
     ]
    },
    {
     "name": "stdout",
     "output_type": "stream",
     "text": [
      "https://www.thingiverse.com/thing:1098424 421\n"
     ]
    },
    {
     "name": "stdout",
     "output_type": "stream",
     "text": [
      "https://www.thingiverse.com/thing:1063215 422\n"
     ]
    },
    {
     "name": "stdout",
     "output_type": "stream",
     "text": [
      "https://www.thingiverse.com/thing:1702802 423\n"
     ]
    },
    {
     "name": "stdout",
     "output_type": "stream",
     "text": [
      "https://www.thingiverse.com/thing:2542267 424\n"
     ]
    },
    {
     "name": "stdout",
     "output_type": "stream",
     "text": [
      "https://www.thingiverse.com/thing:1726685 425\n"
     ]
    },
    {
     "name": "stdout",
     "output_type": "stream",
     "text": [
      "https://www.thingiverse.com/thing:3197633 426\n"
     ]
    },
    {
     "name": "stdout",
     "output_type": "stream",
     "text": [
      "https://www.thingiverse.com/thing:2811327 427\n"
     ]
    },
    {
     "name": "stdout",
     "output_type": "stream",
     "text": [
      "https://www.thingiverse.com/thing:2152147 428\n"
     ]
    },
    {
     "name": "stdout",
     "output_type": "stream",
     "text": [
      "https://www.thingiverse.com/thing:4126927 429\n"
     ]
    },
    {
     "name": "stdout",
     "output_type": "stream",
     "text": [
      "https://www.thingiverse.com/thing:3172905 430\n"
     ]
    },
    {
     "name": "stdout",
     "output_type": "stream",
     "text": [
      "https://www.thingiverse.com/thing:3172905 431\n"
     ]
    },
    {
     "name": "stdout",
     "output_type": "stream",
     "text": [
      "https://www.thingiverse.com/thing:967861 432\n"
     ]
    },
    {
     "name": "stdout",
     "output_type": "stream",
     "text": [
      "https://www.thingiverse.com/thing:1204700 433\n"
     ]
    },
    {
     "name": "stdout",
     "output_type": "stream",
     "text": [
      "https://www.thingiverse.com/thing:979590 434\n"
     ]
    },
    {
     "name": "stdout",
     "output_type": "stream",
     "text": [
      "https://www.thingiverse.com/thing:542775 435\n"
     ]
    },
    {
     "name": "stdout",
     "output_type": "stream",
     "text": [
      "https://www.thingiverse.com/thing:5149509 436\n"
     ]
    },
    {
     "name": "stdout",
     "output_type": "stream",
     "text": [
      "https://www.thingiverse.com/thing:5678844 437\n"
     ]
    },
    {
     "name": "stdout",
     "output_type": "stream",
     "text": [
      "https://www.thingiverse.com/thing:6193619 438\n"
     ]
    },
    {
     "name": "stdout",
     "output_type": "stream",
     "text": [
      "https://www.thingiverse.com/thing:6193637 439\n"
     ]
    },
    {
     "name": "stdout",
     "output_type": "stream",
     "text": [
      "https://www.thingiverse.com/thing:6193728 440\n"
     ]
    },
    {
     "name": "stdout",
     "output_type": "stream",
     "text": [
      "https://www.thingiverse.com/thing:6997474 441\n"
     ]
    },
    {
     "name": "stdout",
     "output_type": "stream",
     "text": [
      "https://www.thingiverse.com/thing:3060014 442\n"
     ]
    },
    {
     "name": "stdout",
     "output_type": "stream",
     "text": [
      "https://www.thingiverse.com/thing:3633082 443\n"
     ]
    },
    {
     "name": "stdout",
     "output_type": "stream",
     "text": [
      "https://www.thingiverse.com/thing:3361905 444\n"
     ]
    },
    {
     "name": "stdout",
     "output_type": "stream",
     "text": [
      "https://www.thingiverse.com/thing:908022 445\n"
     ]
    },
    {
     "name": "stdout",
     "output_type": "stream",
     "text": [
      "https://www.thingiverse.com/thing:1100259 446\n"
     ]
    },
    {
     "name": "stdout",
     "output_type": "stream",
     "text": [
      "https://www.thingiverse.com/thing:987588 447\n"
     ]
    },
    {
     "name": "stdout",
     "output_type": "stream",
     "text": [
      "https://www.thingiverse.com/thing:2848297 448\n"
     ]
    },
    {
     "name": "stdout",
     "output_type": "stream",
     "text": [
      "https://www.thingiverse.com/thing:5160930 449\n"
     ]
    },
    {
     "name": "stdout",
     "output_type": "stream",
     "text": [
      "https://www.thingiverse.com/thing:2705488 450\n"
     ]
    },
    {
     "name": "stdout",
     "output_type": "stream",
     "text": [
      "https://www.thingiverse.com/thing:1096856 451\n"
     ]
    },
    {
     "name": "stdout",
     "output_type": "stream",
     "text": [
      "https://www.thingiverse.com/thing:2841296 452\n"
     ]
    },
    {
     "name": "stdout",
     "output_type": "stream",
     "text": [
      "https://www.thingiverse.com/thing:2353621 453\n"
     ]
    },
    {
     "name": "stdout",
     "output_type": "stream",
     "text": [
      "https://www.thingiverse.com/thing:2257949 454\n"
     ]
    },
    {
     "name": "stdout",
     "output_type": "stream",
     "text": [
      "https://www.thingiverse.com/thing:2455561 455\n"
     ]
    },
    {
     "name": "stdout",
     "output_type": "stream",
     "text": [
      "https://www.thingiverse.com/thing:1104933 456\n"
     ]
    },
    {
     "name": "stdout",
     "output_type": "stream",
     "text": [
      "https://www.thingiverse.com/thing:2801934 457\n"
     ]
    },
    {
     "name": "stdout",
     "output_type": "stream",
     "text": [
      "https://www.thingiverse.com/thing:2440223 458\n"
     ]
    },
    {
     "name": "stdout",
     "output_type": "stream",
     "text": [
      "https://www.thingiverse.com/thing:1499148 459\n"
     ]
    },
    {
     "name": "stdout",
     "output_type": "stream",
     "text": [
      "https://www.thingiverse.com/thing:1908866 460\n"
     ]
    }
   ],
   "source": [
    "    for j, (i, row) in enumerate(results.dropna(subset=\"id\").iterrows()):\n",
    "        response = thing_session.get(row.url, params=params)\n",
    "        if not isinstance(response, requests_cache.CachedResponse):\n",
    "            time.sleep(random.random()*2)\n",
    "        print(i, j)"
   ]
  },
  {
   "cell_type": "code",
   "execution_count": 6,
   "id": "455b490a-b094-4231-9929-3de4da42f9b7",
   "metadata": {},
   "outputs": [
    {
     "data": {
      "text/html": [
       "<div>\n",
       "<style scoped>\n",
       "    .dataframe tbody tr th:only-of-type {\n",
       "        vertical-align: middle;\n",
       "    }\n",
       "\n",
       "    .dataframe tbody tr th {\n",
       "        vertical-align: top;\n",
       "    }\n",
       "\n",
       "    .dataframe thead th {\n",
       "        text-align: right;\n",
       "    }\n",
       "</style>\n",
       "<table border=\"1\" class=\"dataframe\">\n",
       "  <thead>\n",
       "    <tr style=\"text-align: right;\">\n",
       "      <th></th>\n",
       "      <th>id</th>\n",
       "      <th>name</th>\n",
       "      <th>thumbnail</th>\n",
       "      <th>url</th>\n",
       "      <th>public_url</th>\n",
       "      <th>creator</th>\n",
       "      <th>added</th>\n",
       "      <th>modified</th>\n",
       "      <th>is_published</th>\n",
       "      <th>is_wip</th>\n",
       "      <th>...</th>\n",
       "      <th>is_derivative</th>\n",
       "      <th>ancestors</th>\n",
       "      <th>type_name</th>\n",
       "      <th>is_banned</th>\n",
       "      <th>is_comments_disabled</th>\n",
       "      <th>needs_moderation</th>\n",
       "      <th>is_decoy</th>\n",
       "      <th>zip_data</th>\n",
       "      <th>winner_name</th>\n",
       "      <th>winner_link</th>\n",
       "    </tr>\n",
       "  </thead>\n",
       "  <tbody>\n",
       "    <tr>\n",
       "      <th>599d7df7d032b984</th>\n",
       "      <td>2893115</td>\n",
       "      <td>Bottle/Container Opener</td>\n",
       "      <td>https://cdn.thingiverse.com/renders/8f/70/f1/4...</td>\n",
       "      <td>https://api.thingiverse.com/things/2893115</td>\n",
       "      <td>https://www.thingiverse.com/thing:2893115</td>\n",
       "      <td>{'id': 312903, 'name': 'curiouspeanut', 'first...</td>\n",
       "      <td>2018-05-04T12:22:58+00:00</td>\n",
       "      <td>2018-05-04T12:22:58+00:00</td>\n",
       "      <td>1</td>\n",
       "      <td>0</td>\n",
       "      <td>...</td>\n",
       "      <td>False</td>\n",
       "      <td>[]</td>\n",
       "      <td>Thing</td>\n",
       "      <td>False</td>\n",
       "      <td>False</td>\n",
       "      <td>0</td>\n",
       "      <td>0</td>\n",
       "      <td>{'files': [{'name': 'handle_textless.stl', 'ur...</td>\n",
       "      <td>NaN</td>\n",
       "      <td>NaN</td>\n",
       "    </tr>\n",
       "    <tr>\n",
       "      <th>a90d95bbd85ea220</th>\n",
       "      <td>3882190</td>\n",
       "      <td>Lever for Pressing Buttons</td>\n",
       "      <td>https://cdn.thingiverse.com/assets/bf/7d/6c/0f...</td>\n",
       "      <td>https://api.thingiverse.com/things/3882190</td>\n",
       "      <td>https://www.thingiverse.com/thing:3882190</td>\n",
       "      <td>{'id': 3059105, 'name': 'Enabl3D_Designs', 'fi...</td>\n",
       "      <td>2019-09-27T13:01:02+00:00</td>\n",
       "      <td>2019-09-27T13:01:02+00:00</td>\n",
       "      <td>1</td>\n",
       "      <td>0</td>\n",
       "      <td>...</td>\n",
       "      <td>False</td>\n",
       "      <td>[]</td>\n",
       "      <td>Thing</td>\n",
       "      <td>False</td>\n",
       "      <td>False</td>\n",
       "      <td>0</td>\n",
       "      <td>0</td>\n",
       "      <td>{'files': [{'name': 'Button_Lever.stl', 'url':...</td>\n",
       "      <td>NaN</td>\n",
       "      <td>NaN</td>\n",
       "    </tr>\n",
       "    <tr>\n",
       "      <th>fd47b109d97544ef</th>\n",
       "      <td>1055109</td>\n",
       "      <td>Mug Holder (An assistive device for disabled) ...</td>\n",
       "      <td>https://cdn.thingiverse.com/renders/44/c5/6d/4...</td>\n",
       "      <td>https://api.thingiverse.com/things/1055109</td>\n",
       "      <td>https://www.thingiverse.com/thing:1055109</td>\n",
       "      <td>{'id': 386072, 'name': 'Recidal', 'first_name'...</td>\n",
       "      <td>2015-10-06T00:01:57+00:00</td>\n",
       "      <td>2015-10-06T00:01:57+00:00</td>\n",
       "      <td>1</td>\n",
       "      <td>0</td>\n",
       "      <td>...</td>\n",
       "      <td>False</td>\n",
       "      <td>[]</td>\n",
       "      <td>Thing</td>\n",
       "      <td>False</td>\n",
       "      <td>False</td>\n",
       "      <td>0</td>\n",
       "      <td>0</td>\n",
       "      <td>{'files': [{'name': 'test_screw_small.stl', 'u...</td>\n",
       "      <td>NaN</td>\n",
       "      <td>NaN</td>\n",
       "    </tr>\n",
       "    <tr>\n",
       "      <th>3a670e1c2a4c8604</th>\n",
       "      <td>1427</td>\n",
       "      <td>Braille 2.0</td>\n",
       "      <td>https://cdn.thingiverse.com/renders/a2/f7/3b/3...</td>\n",
       "      <td>https://api.thingiverse.com/things/1427</td>\n",
       "      <td>https://www.thingiverse.com/thing:1427</td>\n",
       "      <td>{'id': 367, 'name': 'langfordw', 'first_name':...</td>\n",
       "      <td>2009-12-13T20:25:13+00:00</td>\n",
       "      <td>2009-12-13T20:25:13+00:00</td>\n",
       "      <td>1</td>\n",
       "      <td>0</td>\n",
       "      <td>...</td>\n",
       "      <td>True</td>\n",
       "      <td>[{'id': 725, 'name': 'Braille!', 'url': 'https...</td>\n",
       "      <td>Thing</td>\n",
       "      <td>False</td>\n",
       "      <td>False</td>\n",
       "      <td>0</td>\n",
       "      <td>0</td>\n",
       "      <td>{'files': [{'name': 'braille_makerbot_notch3.s...</td>\n",
       "      <td>NaN</td>\n",
       "      <td>NaN</td>\n",
       "    </tr>\n",
       "    <tr>\n",
       "      <th>5dae5c69ed6a417b</th>\n",
       "      <td>1096831</td>\n",
       "      <td>Pulsador FRJA2/Button FRJA2</td>\n",
       "      <td>https://cdn.thingiverse.com/renders/3e/62/58/a...</td>\n",
       "      <td>https://api.thingiverse.com/things/1096831</td>\n",
       "      <td>https://www.thingiverse.com/thing:1096831</td>\n",
       "      <td>{'id': 625226, 'name': 'ceapat', 'first_name':...</td>\n",
       "      <td>2015-10-28T08:25:37+00:00</td>\n",
       "      <td>2015-10-28T08:25:37+00:00</td>\n",
       "      <td>1</td>\n",
       "      <td>0</td>\n",
       "      <td>...</td>\n",
       "      <td>False</td>\n",
       "      <td>[]</td>\n",
       "      <td>Thing</td>\n",
       "      <td>False</td>\n",
       "      <td>False</td>\n",
       "      <td>0</td>\n",
       "      <td>0</td>\n",
       "      <td>{'files': [{'name': 'caja.stl', 'url': 'https:...</td>\n",
       "      <td>NaN</td>\n",
       "      <td>NaN</td>\n",
       "    </tr>\n",
       "    <tr>\n",
       "      <th>...</th>\n",
       "      <td>...</td>\n",
       "      <td>...</td>\n",
       "      <td>...</td>\n",
       "      <td>...</td>\n",
       "      <td>...</td>\n",
       "      <td>...</td>\n",
       "      <td>...</td>\n",
       "      <td>...</td>\n",
       "      <td>...</td>\n",
       "      <td>...</td>\n",
       "      <td>...</td>\n",
       "      <td>...</td>\n",
       "      <td>...</td>\n",
       "      <td>...</td>\n",
       "      <td>...</td>\n",
       "      <td>...</td>\n",
       "      <td>...</td>\n",
       "      <td>...</td>\n",
       "      <td>...</td>\n",
       "      <td>...</td>\n",
       "      <td>...</td>\n",
       "    </tr>\n",
       "    <tr>\n",
       "      <th>9c2a719185df53b1</th>\n",
       "      <td>2870410</td>\n",
       "      <td>Volksswitch - the People's AT Switch (Version 1)</td>\n",
       "      <td>https://cdn.thingiverse.com/renders/6b/26/13/0...</td>\n",
       "      <td>https://api.thingiverse.com/things/2870410</td>\n",
       "      <td>https://www.thingiverse.com/thing:2870410</td>\n",
       "      <td>{'id': 2059375, 'name': 'Volksswitch', 'first_...</td>\n",
       "      <td>2018-04-20T02:55:01+00:00</td>\n",
       "      <td>2018-04-20T02:55:01+00:00</td>\n",
       "      <td>1</td>\n",
       "      <td>0</td>\n",
       "      <td>...</td>\n",
       "      <td>False</td>\n",
       "      <td>[]</td>\n",
       "      <td>Thing</td>\n",
       "      <td>False</td>\n",
       "      <td>False</td>\n",
       "      <td>0</td>\n",
       "      <td>0</td>\n",
       "      <td>{'files': [{'name': 'Base.stl', 'url': 'https:...</td>\n",
       "      <td>NaN</td>\n",
       "      <td>NaN</td>\n",
       "    </tr>\n",
       "    <tr>\n",
       "      <th>16f391990be3b820</th>\n",
       "      <td>3086651</td>\n",
       "      <td>LAMP 12x7-Hole KeyGuard for iPad model A1822</td>\n",
       "      <td>https://cdn.thingiverse.com/renders/d6/09/99/2...</td>\n",
       "      <td>https://api.thingiverse.com/things/3086651</td>\n",
       "      <td>https://www.thingiverse.com/thing:3086651</td>\n",
       "      <td>{'id': 2273800, 'name': 'jobox3', 'first_name'...</td>\n",
       "      <td>2019-08-13T14:23:51+00:00</td>\n",
       "      <td>2019-08-13T14:23:51+00:00</td>\n",
       "      <td>1</td>\n",
       "      <td>0</td>\n",
       "      <td>...</td>\n",
       "      <td>False</td>\n",
       "      <td>[]</td>\n",
       "      <td>Thing</td>\n",
       "      <td>False</td>\n",
       "      <td>False</td>\n",
       "      <td>0</td>\n",
       "      <td>0</td>\n",
       "      <td>{'files': [{'name': 'a1822_190_lamp_84-hole_ke...</td>\n",
       "      <td>NaN</td>\n",
       "      <td>NaN</td>\n",
       "    </tr>\n",
       "    <tr>\n",
       "      <th>057817b720d17dd8</th>\n",
       "      <td>4814288</td>\n",
       "      <td>Maker Vikings Assistive Tech (Make:able Challe...</td>\n",
       "      <td>https://cdn.thingiverse.com/assets/83/17/6e/b2...</td>\n",
       "      <td>https://api.thingiverse.com/things/4814288</td>\n",
       "      <td>https://www.thingiverse.com/thing:4814288</td>\n",
       "      <td>{'id': 3914167, 'name': 'LuisArizmendi02', 'fi...</td>\n",
       "      <td>2021-04-02T04:02:57+00:00</td>\n",
       "      <td>2021-04-02T04:02:57+00:00</td>\n",
       "      <td>1</td>\n",
       "      <td>0</td>\n",
       "      <td>...</td>\n",
       "      <td>False</td>\n",
       "      <td>[]</td>\n",
       "      <td>Thing</td>\n",
       "      <td>False</td>\n",
       "      <td>False</td>\n",
       "      <td>0</td>\n",
       "      <td>0</td>\n",
       "      <td>{'files': [{'name': 'TheFinalDesign.stl', 'url...</td>\n",
       "      <td>NaN</td>\n",
       "      <td>NaN</td>\n",
       "    </tr>\n",
       "    <tr>\n",
       "      <th>889487ab5d16f98d</th>\n",
       "      <td>2246592</td>\n",
       "      <td>Thumb Prosthesis</td>\n",
       "      <td>https://cdn.thingiverse.com/renders/14/7d/29/c...</td>\n",
       "      <td>https://api.thingiverse.com/things/2246592</td>\n",
       "      <td>https://www.thingiverse.com/thing:2246592</td>\n",
       "      <td>{'id': 765168, 'name': 'GabrielaB', 'first_nam...</td>\n",
       "      <td>2017-04-13T14:25:48+00:00</td>\n",
       "      <td>2017-04-13T14:25:48+00:00</td>\n",
       "      <td>1</td>\n",
       "      <td>0</td>\n",
       "      <td>...</td>\n",
       "      <td>True</td>\n",
       "      <td>[{'id': 261462, 'name': 'Cyborg Beast ', 'url'...</td>\n",
       "      <td>Thing</td>\n",
       "      <td>False</td>\n",
       "      <td>False</td>\n",
       "      <td>0</td>\n",
       "      <td>0</td>\n",
       "      <td>{'files': [{'name': 'axis.STL', 'url': 'https:...</td>\n",
       "      <td>NaN</td>\n",
       "      <td>NaN</td>\n",
       "    </tr>\n",
       "    <tr>\n",
       "      <th>655fbd70709429d0</th>\n",
       "      <td>811030</td>\n",
       "      <td>Braille Keyboard Covers v3 (customisable)</td>\n",
       "      <td>https://cdn.thingiverse.com/assets/f6/3d/ea/7a...</td>\n",
       "      <td>https://api.thingiverse.com/things/811030</td>\n",
       "      <td>https://www.thingiverse.com/thing:811030</td>\n",
       "      <td>{'id': 267867, 'name': 'Munt', 'first_name': '...</td>\n",
       "      <td>2015-05-06T01:08:34+00:00</td>\n",
       "      <td>2015-05-06T01:08:34+00:00</td>\n",
       "      <td>1</td>\n",
       "      <td>1</td>\n",
       "      <td>...</td>\n",
       "      <td>False</td>\n",
       "      <td>[]</td>\n",
       "      <td>Thing</td>\n",
       "      <td>False</td>\n",
       "      <td>False</td>\n",
       "      <td>0</td>\n",
       "      <td>0</td>\n",
       "      <td>{'files': [{'name': 'braille_keyboard_covers-3...</td>\n",
       "      <td>NaN</td>\n",
       "      <td>NaN</td>\n",
       "    </tr>\n",
       "  </tbody>\n",
       "</table>\n",
       "<p>490 rows × 63 columns</p>\n",
       "</div>"
      ],
      "text/plain": [
       "                       id                                               name  \\\n",
       "599d7df7d032b984  2893115                            Bottle/Container Opener   \n",
       "a90d95bbd85ea220  3882190                         Lever for Pressing Buttons   \n",
       "fd47b109d97544ef  1055109  Mug Holder (An assistive device for disabled) ...   \n",
       "3a670e1c2a4c8604     1427                                        Braille 2.0   \n",
       "5dae5c69ed6a417b  1096831                        Pulsador FRJA2/Button FRJA2   \n",
       "...                   ...                                                ...   \n",
       "9c2a719185df53b1  2870410   Volksswitch - the People's AT Switch (Version 1)   \n",
       "16f391990be3b820  3086651       LAMP 12x7-Hole KeyGuard for iPad model A1822   \n",
       "057817b720d17dd8  4814288  Maker Vikings Assistive Tech (Make:able Challe...   \n",
       "889487ab5d16f98d  2246592                                   Thumb Prosthesis   \n",
       "655fbd70709429d0   811030          Braille Keyboard Covers v3 (customisable)   \n",
       "\n",
       "                                                          thumbnail  \\\n",
       "599d7df7d032b984  https://cdn.thingiverse.com/renders/8f/70/f1/4...   \n",
       "a90d95bbd85ea220  https://cdn.thingiverse.com/assets/bf/7d/6c/0f...   \n",
       "fd47b109d97544ef  https://cdn.thingiverse.com/renders/44/c5/6d/4...   \n",
       "3a670e1c2a4c8604  https://cdn.thingiverse.com/renders/a2/f7/3b/3...   \n",
       "5dae5c69ed6a417b  https://cdn.thingiverse.com/renders/3e/62/58/a...   \n",
       "...                                                             ...   \n",
       "9c2a719185df53b1  https://cdn.thingiverse.com/renders/6b/26/13/0...   \n",
       "16f391990be3b820  https://cdn.thingiverse.com/renders/d6/09/99/2...   \n",
       "057817b720d17dd8  https://cdn.thingiverse.com/assets/83/17/6e/b2...   \n",
       "889487ab5d16f98d  https://cdn.thingiverse.com/renders/14/7d/29/c...   \n",
       "655fbd70709429d0  https://cdn.thingiverse.com/assets/f6/3d/ea/7a...   \n",
       "\n",
       "                                                         url  \\\n",
       "599d7df7d032b984  https://api.thingiverse.com/things/2893115   \n",
       "a90d95bbd85ea220  https://api.thingiverse.com/things/3882190   \n",
       "fd47b109d97544ef  https://api.thingiverse.com/things/1055109   \n",
       "3a670e1c2a4c8604     https://api.thingiverse.com/things/1427   \n",
       "5dae5c69ed6a417b  https://api.thingiverse.com/things/1096831   \n",
       "...                                                      ...   \n",
       "9c2a719185df53b1  https://api.thingiverse.com/things/2870410   \n",
       "16f391990be3b820  https://api.thingiverse.com/things/3086651   \n",
       "057817b720d17dd8  https://api.thingiverse.com/things/4814288   \n",
       "889487ab5d16f98d  https://api.thingiverse.com/things/2246592   \n",
       "655fbd70709429d0   https://api.thingiverse.com/things/811030   \n",
       "\n",
       "                                                 public_url  \\\n",
       "599d7df7d032b984  https://www.thingiverse.com/thing:2893115   \n",
       "a90d95bbd85ea220  https://www.thingiverse.com/thing:3882190   \n",
       "fd47b109d97544ef  https://www.thingiverse.com/thing:1055109   \n",
       "3a670e1c2a4c8604     https://www.thingiverse.com/thing:1427   \n",
       "5dae5c69ed6a417b  https://www.thingiverse.com/thing:1096831   \n",
       "...                                                     ...   \n",
       "9c2a719185df53b1  https://www.thingiverse.com/thing:2870410   \n",
       "16f391990be3b820  https://www.thingiverse.com/thing:3086651   \n",
       "057817b720d17dd8  https://www.thingiverse.com/thing:4814288   \n",
       "889487ab5d16f98d  https://www.thingiverse.com/thing:2246592   \n",
       "655fbd70709429d0   https://www.thingiverse.com/thing:811030   \n",
       "\n",
       "                                                            creator  \\\n",
       "599d7df7d032b984  {'id': 312903, 'name': 'curiouspeanut', 'first...   \n",
       "a90d95bbd85ea220  {'id': 3059105, 'name': 'Enabl3D_Designs', 'fi...   \n",
       "fd47b109d97544ef  {'id': 386072, 'name': 'Recidal', 'first_name'...   \n",
       "3a670e1c2a4c8604  {'id': 367, 'name': 'langfordw', 'first_name':...   \n",
       "5dae5c69ed6a417b  {'id': 625226, 'name': 'ceapat', 'first_name':...   \n",
       "...                                                             ...   \n",
       "9c2a719185df53b1  {'id': 2059375, 'name': 'Volksswitch', 'first_...   \n",
       "16f391990be3b820  {'id': 2273800, 'name': 'jobox3', 'first_name'...   \n",
       "057817b720d17dd8  {'id': 3914167, 'name': 'LuisArizmendi02', 'fi...   \n",
       "889487ab5d16f98d  {'id': 765168, 'name': 'GabrielaB', 'first_nam...   \n",
       "655fbd70709429d0  {'id': 267867, 'name': 'Munt', 'first_name': '...   \n",
       "\n",
       "                                      added                   modified  \\\n",
       "599d7df7d032b984  2018-05-04T12:22:58+00:00  2018-05-04T12:22:58+00:00   \n",
       "a90d95bbd85ea220  2019-09-27T13:01:02+00:00  2019-09-27T13:01:02+00:00   \n",
       "fd47b109d97544ef  2015-10-06T00:01:57+00:00  2015-10-06T00:01:57+00:00   \n",
       "3a670e1c2a4c8604  2009-12-13T20:25:13+00:00  2009-12-13T20:25:13+00:00   \n",
       "5dae5c69ed6a417b  2015-10-28T08:25:37+00:00  2015-10-28T08:25:37+00:00   \n",
       "...                                     ...                        ...   \n",
       "9c2a719185df53b1  2018-04-20T02:55:01+00:00  2018-04-20T02:55:01+00:00   \n",
       "16f391990be3b820  2019-08-13T14:23:51+00:00  2019-08-13T14:23:51+00:00   \n",
       "057817b720d17dd8  2021-04-02T04:02:57+00:00  2021-04-02T04:02:57+00:00   \n",
       "889487ab5d16f98d  2017-04-13T14:25:48+00:00  2017-04-13T14:25:48+00:00   \n",
       "655fbd70709429d0  2015-05-06T01:08:34+00:00  2015-05-06T01:08:34+00:00   \n",
       "\n",
       "                  is_published  is_wip  ...  is_derivative  \\\n",
       "599d7df7d032b984             1       0  ...          False   \n",
       "a90d95bbd85ea220             1       0  ...          False   \n",
       "fd47b109d97544ef             1       0  ...          False   \n",
       "3a670e1c2a4c8604             1       0  ...           True   \n",
       "5dae5c69ed6a417b             1       0  ...          False   \n",
       "...                        ...     ...  ...            ...   \n",
       "9c2a719185df53b1             1       0  ...          False   \n",
       "16f391990be3b820             1       0  ...          False   \n",
       "057817b720d17dd8             1       0  ...          False   \n",
       "889487ab5d16f98d             1       0  ...           True   \n",
       "655fbd70709429d0             1       1  ...          False   \n",
       "\n",
       "                                                          ancestors  \\\n",
       "599d7df7d032b984                                                 []   \n",
       "a90d95bbd85ea220                                                 []   \n",
       "fd47b109d97544ef                                                 []   \n",
       "3a670e1c2a4c8604  [{'id': 725, 'name': 'Braille!', 'url': 'https...   \n",
       "5dae5c69ed6a417b                                                 []   \n",
       "...                                                             ...   \n",
       "9c2a719185df53b1                                                 []   \n",
       "16f391990be3b820                                                 []   \n",
       "057817b720d17dd8                                                 []   \n",
       "889487ab5d16f98d  [{'id': 261462, 'name': 'Cyborg Beast ', 'url'...   \n",
       "655fbd70709429d0                                                 []   \n",
       "\n",
       "                  type_name  is_banned  is_comments_disabled  \\\n",
       "599d7df7d032b984      Thing      False                 False   \n",
       "a90d95bbd85ea220      Thing      False                 False   \n",
       "fd47b109d97544ef      Thing      False                 False   \n",
       "3a670e1c2a4c8604      Thing      False                 False   \n",
       "5dae5c69ed6a417b      Thing      False                 False   \n",
       "...                     ...        ...                   ...   \n",
       "9c2a719185df53b1      Thing      False                 False   \n",
       "16f391990be3b820      Thing      False                 False   \n",
       "057817b720d17dd8      Thing      False                 False   \n",
       "889487ab5d16f98d      Thing      False                 False   \n",
       "655fbd70709429d0      Thing      False                 False   \n",
       "\n",
       "                  needs_moderation  is_decoy  \\\n",
       "599d7df7d032b984                 0         0   \n",
       "a90d95bbd85ea220                 0         0   \n",
       "fd47b109d97544ef                 0         0   \n",
       "3a670e1c2a4c8604                 0         0   \n",
       "5dae5c69ed6a417b                 0         0   \n",
       "...                            ...       ...   \n",
       "9c2a719185df53b1                 0         0   \n",
       "16f391990be3b820                 0         0   \n",
       "057817b720d17dd8                 0         0   \n",
       "889487ab5d16f98d                 0         0   \n",
       "655fbd70709429d0                 0         0   \n",
       "\n",
       "                                                           zip_data  \\\n",
       "599d7df7d032b984  {'files': [{'name': 'handle_textless.stl', 'ur...   \n",
       "a90d95bbd85ea220  {'files': [{'name': 'Button_Lever.stl', 'url':...   \n",
       "fd47b109d97544ef  {'files': [{'name': 'test_screw_small.stl', 'u...   \n",
       "3a670e1c2a4c8604  {'files': [{'name': 'braille_makerbot_notch3.s...   \n",
       "5dae5c69ed6a417b  {'files': [{'name': 'caja.stl', 'url': 'https:...   \n",
       "...                                                             ...   \n",
       "9c2a719185df53b1  {'files': [{'name': 'Base.stl', 'url': 'https:...   \n",
       "16f391990be3b820  {'files': [{'name': 'a1822_190_lamp_84-hole_ke...   \n",
       "057817b720d17dd8  {'files': [{'name': 'TheFinalDesign.stl', 'url...   \n",
       "889487ab5d16f98d  {'files': [{'name': 'axis.STL', 'url': 'https:...   \n",
       "655fbd70709429d0  {'files': [{'name': 'braille_keyboard_covers-3...   \n",
       "\n",
       "                  winner_name  winner_link  \n",
       "599d7df7d032b984          NaN          NaN  \n",
       "a90d95bbd85ea220          NaN          NaN  \n",
       "fd47b109d97544ef          NaN          NaN  \n",
       "3a670e1c2a4c8604          NaN          NaN  \n",
       "5dae5c69ed6a417b          NaN          NaN  \n",
       "...                       ...          ...  \n",
       "9c2a719185df53b1          NaN          NaN  \n",
       "16f391990be3b820          NaN          NaN  \n",
       "057817b720d17dd8          NaN          NaN  \n",
       "889487ab5d16f98d          NaN          NaN  \n",
       "655fbd70709429d0          NaN          NaN  \n",
       "\n",
       "[490 rows x 63 columns]"
      ]
     },
     "execution_count": 6,
     "metadata": {},
     "output_type": "execute_result"
    }
   ],
   "source": [
    "(\n",
    "    Series(thing_session.cache.responses)\n",
    "    .apply(operator.methodcaller(\"json\"))\n",
    "    .apply(Series)\n",
    ")"
   ]
  },
  {
   "cell_type": "code",
   "execution_count": null,
   "id": "abcffd08-d4ad-41b1-8a5a-284aaa4a60ad",
   "metadata": {},
   "outputs": [],
   "source": []
  }
 ],
 "metadata": {
  "kernelspec": {
   "display_name": "Python 3 (ipykernel)",
   "language": "python",
   "name": "python3"
  },
  "language_info": {
   "codemirror_mode": {
    "name": "ipython",
    "version": 3
   },
   "file_extension": ".py",
   "mimetype": "text/x-python",
   "name": "python",
   "nbconvert_exporter": "python",
   "pygments_lexer": "ipython3",
   "version": "3.13.0"
  },
  "widgets": {
   "application/vnd.jupyter.widget-state+json": {
    "state": {},
    "version_major": 2,
    "version_minor": 0
   }
  }
 },
 "nbformat": 4,
 "nbformat_minor": 5
}
