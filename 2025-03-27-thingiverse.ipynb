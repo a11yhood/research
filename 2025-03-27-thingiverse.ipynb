{
 "cells": [
  {
   "cell_type": "markdown",
   "id": "82eedf20-5c53-4c7e-a03d-5c595f93cc58",
   "metadata": {},
   "source": [
    "# gathering thingiverse things\n",
    "\n",
    "an effective scraping and caching strategy for gathering information on thingiverse.\n",
    "\n",
    "each activity requires:\n",
    "1. making requests\n",
    "2. tidying requests\n",
    "3. creating tasks to save salient data, create a file witht he missing columsn\n",
    "\n",
    "\n",
    "1. gather the index of things from search\n",
    "2. save the index to disk as parquet\n",
    "3. read the index of things from disks\n",
    "4. save the things to disc\n",
    "\n",
    "the second request is solely to get the description information about the thing cause that is not included in the search response\n",
    "despite the openapi schema saying that it should be\n"
   ]
  },
  {
   "cell_type": "code",
   "execution_count": 9,
   "id": "6e56c913-491b-4d03-aa43-5c859e19f46f",
   "metadata": {},
   "outputs": [],
   "source": [
    "    import os, pandas, time, random, platformdirs, requests_cache\n",
    "    from toolz.curried import *\n",
    "    from pandas import DataFrame, Series, Index\n",
    "    from pathlib import Path\n",
    "    __import__(\"dotenv\").load_dotenv()\n",
    "    params = dict(access_token=os.environ[\"THINGIVERSE_ACCESS_TOKEN\"])\n",
    "    cache = platformdirs.user_cache_path(\"a11yhood\") / \"thingiverse\"\n",
    "    cache = Path(\"data\") / \"thingiverse\"\n",
    "    CachedSession = partial(requests_cache.CachedSession, backend=\"filesystem\", serializer=\"json\")\n",
    "    search_session = CachedSession(cache / \"search_responses\")\n",
    "    thing_session = CachedSession(cache / \"thing_responses\")"
   ]
  },
  {
   "cell_type": "code",
   "execution_count": 10,
   "id": "6ccbabef-e27b-468c-85d4-e5575d07dacc",
   "metadata": {},
   "outputs": [],
   "source": [
    "    def search_tags(term=\"assistive+technology\", pages=None, per_page=30):\n",
    "        \"\"\"search thing\"\"\"\n",
    "        page = 1\n",
    "        while not pages or page <= pages:\n",
    "            response = search_session.get(f\"https://api.thingiverse.com/search/{term}\", params | dict(per_page=per_page, page=page, type=\"thing\"),)\n",
    "            if pages is None:\n",
    "                pages = (response.json()[\"total\"] // per_page) + 1\n",
    "            page += 1"
   ]
  },
  {
   "cell_type": "code",
   "execution_count": 12,
   "id": "14461d29-4a71-4d97-be31-12d5c9e7d41d",
   "metadata": {},
   "outputs": [],
   "source": [
    "    search_tags()"
   ]
  },
  {
   "cell_type": "code",
   "execution_count": 13,
   "id": "7592f750-ec0f-4127-a4ec-d7fd6e32a20f",
   "metadata": {},
   "outputs": [],
   "source": [
    "    results = (\n",
    "        Series(search_session.cache.urls())\n",
    "        .apply(search_session.get)\n",
    "        .apply(operator.methodcaller(\"json\"))\n",
    "        .apply(lambda x: x.get(\"hits\", []))\n",
    "        .explode()\n",
    "        .apply(Series)\n",
    "        .set_index(\"public_url\")\n",
    "    )"
   ]
  },
  {
   "cell_type": "code",
   "execution_count": null,
   "id": "2003fc17-88f2-433a-9d3f-1f6f27d55ff2",
   "metadata": {},
   "outputs": [
    {
     "name": "stdout",
     "output_type": "stream",
     "text": [
      "https://www.thingiverse.com/thing:1852950 0\n",
      "https://www.thingiverse.com/thing:1103082 1\n",
      "https://www.thingiverse.com/thing:1871831 2\n",
      "https://www.thingiverse.com/thing:2745606 3\n",
      "https://www.thingiverse.com/thing:3057298 4\n",
      "https://www.thingiverse.com/thing:2785602 5\n",
      "https://www.thingiverse.com/thing:5936465 6\n",
      "https://www.thingiverse.com/thing:242639 7\n",
      "https://www.thingiverse.com/thing:2801872 8\n",
      "https://www.thingiverse.com/thing:1104871 9\n",
      "https://www.thingiverse.com/thing:1097099 10\n",
      "https://www.thingiverse.com/thing:95818 11\n",
      "https://www.thingiverse.com/thing:1105307 12\n",
      "https://www.thingiverse.com/thing:3882190 13\n",
      "https://www.thingiverse.com/thing:261462 14\n",
      "https://www.thingiverse.com/thing:2754691 15\n",
      "https://www.thingiverse.com/thing:16174 16\n",
      "https://www.thingiverse.com/thing:4962946 17\n",
      "https://www.thingiverse.com/thing:4478851 18\n",
      "https://www.thingiverse.com/thing:1090461 19\n",
      "https://www.thingiverse.com/thing:596966 20\n",
      "https://www.thingiverse.com/thing:3541762 21\n",
      "https://www.thingiverse.com/thing:1717809 22\n",
      "https://www.thingiverse.com/thing:308124 23\n",
      "https://www.thingiverse.com/thing:230209 24\n",
      "https://www.thingiverse.com/thing:1453190 25\n",
      "https://www.thingiverse.com/thing:2404423 26\n",
      "https://www.thingiverse.com/thing:6225957 27\n",
      "https://www.thingiverse.com/thing:3635665 28\n",
      "https://www.thingiverse.com/thing:693429 29\n",
      "https://www.thingiverse.com/thing:1908866 30\n",
      "https://www.thingiverse.com/thing:2899025 31\n",
      "https://www.thingiverse.com/thing:4913712 32\n",
      "https://www.thingiverse.com/thing:1593407 33\n",
      "https://www.thingiverse.com/thing:140519 34\n",
      "https://www.thingiverse.com/thing:2596644 35\n",
      "https://www.thingiverse.com/thing:121869 36\n",
      "https://www.thingiverse.com/thing:3156378 37\n",
      "https://www.thingiverse.com/thing:302310 38\n",
      "https://www.thingiverse.com/thing:1102579 39\n",
      "https://www.thingiverse.com/thing:3717730 40\n",
      "https://www.thingiverse.com/thing:1104281 41\n",
      "https://www.thingiverse.com/thing:3093824 42\n",
      "https://www.thingiverse.com/thing:1720562 43\n",
      "https://www.thingiverse.com/thing:1055457 44\n",
      "https://www.thingiverse.com/thing:2930181 45\n",
      "https://www.thingiverse.com/thing:49936 46\n",
      "https://www.thingiverse.com/thing:2823963 47\n",
      "https://www.thingiverse.com/thing:3635274 48\n",
      "https://www.thingiverse.com/thing:2577404 49\n",
      "https://www.thingiverse.com/thing:1089803 50\n",
      "https://www.thingiverse.com/thing:2960433 51\n",
      "https://www.thingiverse.com/thing:2257912 52\n",
      "https://www.thingiverse.com/thing:2768601 53\n",
      "https://www.thingiverse.com/thing:2863119 54\n",
      "https://www.thingiverse.com/thing:2677570 55\n",
      "https://www.thingiverse.com/thing:2696906 56\n",
      "https://www.thingiverse.com/thing:2145618 57\n",
      "https://www.thingiverse.com/thing:441658 58\n",
      "https://www.thingiverse.com/thing:2422840 59\n",
      "https://www.thingiverse.com/thing:4847465 60\n",
      "https://www.thingiverse.com/thing:6237635 61\n",
      "https://www.thingiverse.com/thing:358393 62\n",
      "https://www.thingiverse.com/thing:1964122 63\n",
      "https://www.thingiverse.com/thing:986561 64\n",
      "https://www.thingiverse.com/thing:1090387 65\n",
      "https://www.thingiverse.com/thing:3699364 66\n",
      "https://www.thingiverse.com/thing:277972 67\n",
      "https://www.thingiverse.com/thing:4251923 68\n",
      "https://www.thingiverse.com/thing:1101995 69\n",
      "https://www.thingiverse.com/thing:1363304 70\n",
      "https://www.thingiverse.com/thing:1049558 71\n",
      "https://www.thingiverse.com/thing:3422719 72\n",
      "https://www.thingiverse.com/thing:3211154 73\n",
      "https://www.thingiverse.com/thing:2353561 74\n",
      "https://www.thingiverse.com/thing:991878 75\n",
      "https://www.thingiverse.com/thing:3039314 76\n",
      "https://www.thingiverse.com/thing:1094505 77\n",
      "https://www.thingiverse.com/thing:640852 78\n",
      "https://www.thingiverse.com/thing:361221 79\n",
      "https://www.thingiverse.com/thing:1167918 80\n",
      "https://www.thingiverse.com/thing:1104815 81\n",
      "https://www.thingiverse.com/thing:2513492 82\n",
      "https://www.thingiverse.com/thing:3712980 83\n",
      "https://www.thingiverse.com/thing:1103935 84\n",
      "https://www.thingiverse.com/thing:2353572 85\n",
      "https://www.thingiverse.com/thing:1089772 86\n",
      "https://www.thingiverse.com/thing:1163224 87\n",
      "https://www.thingiverse.com/thing:1105309 88\n",
      "https://www.thingiverse.com/thing:1154731 89\n",
      "https://www.thingiverse.com/thing:1335929 90\n",
      "https://www.thingiverse.com/thing:2155185 91\n",
      "https://www.thingiverse.com/thing:3691683 92\n",
      "https://www.thingiverse.com/thing:3712980 93\n",
      "https://www.thingiverse.com/thing:1079951 94\n",
      "https://www.thingiverse.com/thing:1369242 95\n",
      "https://www.thingiverse.com/thing:2796387 96\n",
      "https://www.thingiverse.com/thing:6019313 97\n",
      "https://www.thingiverse.com/thing:3255351 98\n",
      "https://www.thingiverse.com/thing:3492411 99\n",
      "https://www.thingiverse.com/thing:5195678 100\n",
      "https://www.thingiverse.com/thing:1758473 101\n",
      "https://www.thingiverse.com/thing:1059791 102\n",
      "https://www.thingiverse.com/thing:3718895 103\n",
      "https://www.thingiverse.com/thing:3823692 104\n",
      "https://www.thingiverse.com/thing:2683158 105\n",
      "https://www.thingiverse.com/thing:1570980 106\n",
      "https://www.thingiverse.com/thing:2652899 107\n",
      "https://www.thingiverse.com/thing:2395992 108\n",
      "https://www.thingiverse.com/thing:1109855 109\n",
      "https://www.thingiverse.com/thing:3716666 110\n",
      "https://www.thingiverse.com/thing:106415 111\n",
      "https://www.thingiverse.com/thing:1289743 112\n",
      "https://www.thingiverse.com/thing:34490 113\n",
      "https://www.thingiverse.com/thing:1325717 114\n",
      "https://www.thingiverse.com/thing:1099273 115\n",
      "https://www.thingiverse.com/thing:3506058 116\n",
      "https://www.thingiverse.com/thing:2137880 117\n",
      "https://www.thingiverse.com/thing:2257895 118\n",
      "https://www.thingiverse.com/thing:3191057 119\n",
      "https://www.thingiverse.com/thing:4877198 120\n",
      "https://www.thingiverse.com/thing:1320458 121\n",
      "https://www.thingiverse.com/thing:891470 122\n",
      "https://www.thingiverse.com/thing:4239777 123\n",
      "https://www.thingiverse.com/thing:2061248 124\n",
      "https://www.thingiverse.com/thing:3765128 125\n",
      "https://www.thingiverse.com/thing:5728884 126\n",
      "https://www.thingiverse.com/thing:1615967 127\n",
      "https://www.thingiverse.com/thing:4514958 128\n",
      "https://www.thingiverse.com/thing:2142926 129\n",
      "https://www.thingiverse.com/thing:5153730 130\n",
      "https://www.thingiverse.com/thing:2964283 131\n",
      "https://www.thingiverse.com/thing:3317184 132\n",
      "https://www.thingiverse.com/thing:1942458 133\n",
      "https://www.thingiverse.com/thing:580513 134\n",
      "https://www.thingiverse.com/thing:895777 135\n",
      "https://www.thingiverse.com/thing:2754338 136\n",
      "https://www.thingiverse.com/thing:1076707 137\n",
      "https://www.thingiverse.com/thing:3631517 138\n",
      "https://www.thingiverse.com/thing:3881987 139\n",
      "https://www.thingiverse.com/thing:1060303 140\n",
      "https://www.thingiverse.com/thing:3221145 141\n",
      "https://www.thingiverse.com/thing:2760352 142\n",
      "https://www.thingiverse.com/thing:2351326 143\n",
      "https://www.thingiverse.com/thing:3630486 144\n",
      "https://www.thingiverse.com/thing:1105384 145\n",
      "https://www.thingiverse.com/thing:1090391 146\n",
      "https://www.thingiverse.com/thing:2137825 147\n",
      "https://www.thingiverse.com/thing:1509550 148\n",
      "https://www.thingiverse.com/thing:2143865 149\n",
      "https://www.thingiverse.com/thing:1105106 150\n",
      "https://www.thingiverse.com/thing:1079303 151\n",
      "https://www.thingiverse.com/thing:2634007 152\n",
      "https://www.thingiverse.com/thing:1696944 153\n",
      "https://www.thingiverse.com/thing:5996641 154\n",
      "https://www.thingiverse.com/thing:2969609 155\n",
      "https://www.thingiverse.com/thing:1052466 156\n",
      "https://www.thingiverse.com/thing:359366 157\n",
      "https://www.thingiverse.com/thing:3177370 158\n",
      "https://www.thingiverse.com/thing:5146445 159\n",
      "https://www.thingiverse.com/thing:4643859 160\n",
      "https://www.thingiverse.com/thing:3020764 161\n",
      "https://www.thingiverse.com/thing:1692456 162\n",
      "https://www.thingiverse.com/thing:6530153 163\n",
      "https://www.thingiverse.com/thing:4083564 164\n",
      "https://www.thingiverse.com/thing:5158078 165\n",
      "https://www.thingiverse.com/thing:3490629 166\n",
      "https://www.thingiverse.com/thing:5206222 167\n",
      "https://www.thingiverse.com/thing:4418344 168\n",
      "https://www.thingiverse.com/thing:1881172 169\n",
      "https://www.thingiverse.com/thing:855482 170\n",
      "https://www.thingiverse.com/thing:3699526 171\n",
      "https://www.thingiverse.com/thing:1055803 172\n",
      "https://www.thingiverse.com/thing:3710570 173\n",
      "https://www.thingiverse.com/thing:1105912 174\n",
      "https://www.thingiverse.com/thing:3265022 175\n",
      "https://www.thingiverse.com/thing:2881400 176\n",
      "https://www.thingiverse.com/thing:3713140 177\n",
      "https://www.thingiverse.com/thing:1098836 178\n",
      "https://www.thingiverse.com/thing:5667985 179\n",
      "https://www.thingiverse.com/thing:3085183 180\n",
      "https://www.thingiverse.com/thing:83208 181\n",
      "https://www.thingiverse.com/thing:13635 182\n",
      "https://www.thingiverse.com/thing:4307217 183\n",
      "https://www.thingiverse.com/thing:5138488 184\n",
      "https://www.thingiverse.com/thing:1748089 185\n",
      "https://www.thingiverse.com/thing:4418408 186\n",
      "https://www.thingiverse.com/thing:2353675 187\n",
      "https://www.thingiverse.com/thing:2842524 188\n",
      "https://www.thingiverse.com/thing:1347793 189\n",
      "https://www.thingiverse.com/thing:964983 190\n",
      "https://www.thingiverse.com/thing:2532344 191\n",
      "https://www.thingiverse.com/thing:2634085 192\n",
      "https://www.thingiverse.com/thing:4963381 193\n",
      "https://www.thingiverse.com/thing:2893115 194\n",
      "https://www.thingiverse.com/thing:859066 195\n",
      "https://www.thingiverse.com/thing:3242937 196\n",
      "https://www.thingiverse.com/thing:2633817 197\n",
      "https://www.thingiverse.com/thing:3192305 198\n",
      "https://www.thingiverse.com/thing:1097330 199\n",
      "https://www.thingiverse.com/thing:1073029 200\n",
      "https://www.thingiverse.com/thing:1105036 201\n",
      "https://www.thingiverse.com/thing:6422941 202\n",
      "https://www.thingiverse.com/thing:3260197 203\n",
      "https://www.thingiverse.com/thing:5337299 204\n",
      "https://www.thingiverse.com/thing:2743705 205\n",
      "https://www.thingiverse.com/thing:837262 206\n",
      "https://www.thingiverse.com/thing:2644335 207\n",
      "https://www.thingiverse.com/thing:2266941 208\n",
      "https://www.thingiverse.com/thing:3777683 209\n",
      "https://www.thingiverse.com/thing:4415475 210\n",
      "https://www.thingiverse.com/thing:3486198 211\n",
      "https://www.thingiverse.com/thing:867841 212\n",
      "https://www.thingiverse.com/thing:5158045 213\n",
      "https://www.thingiverse.com/thing:1365497 214\n",
      "https://www.thingiverse.com/thing:5322716 215\n",
      "https://www.thingiverse.com/thing:4230057 216\n"
     ]
    },
    {
     "name": "stdout",
     "output_type": "stream",
     "text": [
      "https://www.thingiverse.com/thing:1593407 1\n"
     ]
    },
    {
     "name": "stdout",
     "output_type": "stream",
     "text": [
      "https://www.thingiverse.com/thing:140519 2\n"
     ]
    },
    {
     "name": "stdout",
     "output_type": "stream",
     "text": [
      "https://www.thingiverse.com/thing:2596644 3\n"
     ]
    },
    {
     "name": "stdout",
     "output_type": "stream",
     "text": [
      "https://www.thingiverse.com/thing:1499148 4\n"
     ]
    },
    {
     "name": "stdout",
     "output_type": "stream",
     "text": [
      "https://www.thingiverse.com/thing:121869 5\n"
     ]
    },
    {
     "name": "stdout",
     "output_type": "stream",
     "text": [
      "https://www.thingiverse.com/thing:3156378 6\n"
     ]
    },
    {
     "name": "stdout",
     "output_type": "stream",
     "text": [
      "https://www.thingiverse.com/thing:1102579 7\n"
     ]
    },
    {
     "name": "stdout",
     "output_type": "stream",
     "text": [
      "https://www.thingiverse.com/thing:3717730 8\n"
     ]
    },
    {
     "name": "stdout",
     "output_type": "stream",
     "text": [
      "https://www.thingiverse.com/thing:1104281 9\n"
     ]
    },
    {
     "name": "stdout",
     "output_type": "stream",
     "text": [
      "https://www.thingiverse.com/thing:3093824 10\n"
     ]
    },
    {
     "name": "stdout",
     "output_type": "stream",
     "text": [
      "https://www.thingiverse.com/thing:1720562 11\n"
     ]
    },
    {
     "name": "stdout",
     "output_type": "stream",
     "text": [
      "https://www.thingiverse.com/thing:1055457 12\n"
     ]
    },
    {
     "name": "stdout",
     "output_type": "stream",
     "text": [
      "https://www.thingiverse.com/thing:49936 13\n"
     ]
    },
    {
     "name": "stdout",
     "output_type": "stream",
     "text": [
      "https://www.thingiverse.com/thing:2823963 14\n"
     ]
    },
    {
     "name": "stdout",
     "output_type": "stream",
     "text": [
      "https://www.thingiverse.com/thing:3635274 15\n"
     ]
    },
    {
     "name": "stdout",
     "output_type": "stream",
     "text": [
      "https://www.thingiverse.com/thing:2930181 16\n"
     ]
    },
    {
     "name": "stdout",
     "output_type": "stream",
     "text": [
      "https://www.thingiverse.com/thing:2577404 17\n"
     ]
    },
    {
     "name": "stdout",
     "output_type": "stream",
     "text": [
      "https://www.thingiverse.com/thing:1089803 18\n"
     ]
    },
    {
     "name": "stdout",
     "output_type": "stream",
     "text": [
      "https://www.thingiverse.com/thing:2960433 19\n"
     ]
    },
    {
     "name": "stdout",
     "output_type": "stream",
     "text": [
      "https://www.thingiverse.com/thing:302310 20\n"
     ]
    },
    {
     "name": "stdout",
     "output_type": "stream",
     "text": [
      "https://www.thingiverse.com/thing:2257912 21\n"
     ]
    },
    {
     "name": "stdout",
     "output_type": "stream",
     "text": [
      "https://www.thingiverse.com/thing:2768601 22\n"
     ]
    },
    {
     "name": "stdout",
     "output_type": "stream",
     "text": [
      "https://www.thingiverse.com/thing:2863119 23\n"
     ]
    },
    {
     "name": "stdout",
     "output_type": "stream",
     "text": [
      "https://www.thingiverse.com/thing:2677570 24\n"
     ]
    },
    {
     "name": "stdout",
     "output_type": "stream",
     "text": [
      "https://www.thingiverse.com/thing:2696906 25\n"
     ]
    },
    {
     "name": "stdout",
     "output_type": "stream",
     "text": [
      "https://www.thingiverse.com/thing:2145618 26\n"
     ]
    },
    {
     "name": "stdout",
     "output_type": "stream",
     "text": [
      "https://www.thingiverse.com/thing:441658 27\n"
     ]
    },
    {
     "name": "stdout",
     "output_type": "stream",
     "text": [
      "https://www.thingiverse.com/thing:2422840 28\n"
     ]
    },
    {
     "name": "stdout",
     "output_type": "stream",
     "text": [
      "https://www.thingiverse.com/thing:4847465 29\n"
     ]
    },
    {
     "name": "stdout",
     "output_type": "stream",
     "text": [
      "https://www.thingiverse.com/thing:6237635 30\n"
     ]
    },
    {
     "name": "stdout",
     "output_type": "stream",
     "text": [
      "https://www.thingiverse.com/thing:358393 31\n"
     ]
    },
    {
     "name": "stdout",
     "output_type": "stream",
     "text": [
      "https://www.thingiverse.com/thing:1964122 32\n"
     ]
    },
    {
     "name": "stdout",
     "output_type": "stream",
     "text": [
      "https://www.thingiverse.com/thing:986561 33\n"
     ]
    },
    {
     "name": "stdout",
     "output_type": "stream",
     "text": [
      "https://www.thingiverse.com/thing:1090387 34\n"
     ]
    },
    {
     "name": "stdout",
     "output_type": "stream",
     "text": [
      "https://www.thingiverse.com/thing:277972 35\n"
     ]
    },
    {
     "name": "stdout",
     "output_type": "stream",
     "text": [
      "https://www.thingiverse.com/thing:4251923 36\n"
     ]
    },
    {
     "name": "stdout",
     "output_type": "stream",
     "text": [
      "https://www.thingiverse.com/thing:1101995 37\n"
     ]
    },
    {
     "name": "stdout",
     "output_type": "stream",
     "text": [
      "https://www.thingiverse.com/thing:1363304 38\n"
     ]
    },
    {
     "name": "stdout",
     "output_type": "stream",
     "text": [
      "https://www.thingiverse.com/thing:1049558 39\n"
     ]
    },
    {
     "name": "stdout",
     "output_type": "stream",
     "text": [
      "https://www.thingiverse.com/thing:3422719 40\n"
     ]
    },
    {
     "name": "stdout",
     "output_type": "stream",
     "text": [
      "https://www.thingiverse.com/thing:3211154 41\n"
     ]
    },
    {
     "name": "stdout",
     "output_type": "stream",
     "text": [
      "https://www.thingiverse.com/thing:3699364 42\n"
     ]
    },
    {
     "name": "stdout",
     "output_type": "stream",
     "text": [
      "https://www.thingiverse.com/thing:2353561 43\n"
     ]
    },
    {
     "name": "stdout",
     "output_type": "stream",
     "text": [
      "https://www.thingiverse.com/thing:991878 44\n"
     ]
    },
    {
     "name": "stdout",
     "output_type": "stream",
     "text": [
      "https://www.thingiverse.com/thing:3039314 45\n"
     ]
    },
    {
     "name": "stdout",
     "output_type": "stream",
     "text": [
      "https://www.thingiverse.com/thing:1094505 46\n"
     ]
    },
    {
     "name": "stdout",
     "output_type": "stream",
     "text": [
      "https://www.thingiverse.com/thing:640852 47\n"
     ]
    },
    {
     "name": "stdout",
     "output_type": "stream",
     "text": [
      "https://www.thingiverse.com/thing:361221 48\n"
     ]
    },
    {
     "name": "stdout",
     "output_type": "stream",
     "text": [
      "https://www.thingiverse.com/thing:1167918 49\n"
     ]
    },
    {
     "name": "stdout",
     "output_type": "stream",
     "text": [
      "https://www.thingiverse.com/thing:1104815 50\n"
     ]
    },
    {
     "name": "stdout",
     "output_type": "stream",
     "text": [
      "https://www.thingiverse.com/thing:2513492 51\n"
     ]
    },
    {
     "name": "stdout",
     "output_type": "stream",
     "text": [
      "https://www.thingiverse.com/thing:1103935 52\n"
     ]
    },
    {
     "name": "stdout",
     "output_type": "stream",
     "text": [
      "https://www.thingiverse.com/thing:2353572 53\n"
     ]
    },
    {
     "name": "stdout",
     "output_type": "stream",
     "text": [
      "https://www.thingiverse.com/thing:1089772 54\n"
     ]
    },
    {
     "name": "stdout",
     "output_type": "stream",
     "text": [
      "https://www.thingiverse.com/thing:1163224 55\n"
     ]
    },
    {
     "name": "stdout",
     "output_type": "stream",
     "text": [
      "https://www.thingiverse.com/thing:1105309 56\n"
     ]
    },
    {
     "name": "stdout",
     "output_type": "stream",
     "text": [
      "https://www.thingiverse.com/thing:1154731 57\n"
     ]
    },
    {
     "name": "stdout",
     "output_type": "stream",
     "text": [
      "https://www.thingiverse.com/thing:3712980 58\n"
     ]
    },
    {
     "name": "stdout",
     "output_type": "stream",
     "text": [
      "https://www.thingiverse.com/thing:2724475 59\n"
     ]
    },
    {
     "name": "stdout",
     "output_type": "stream",
     "text": [
      "https://www.thingiverse.com/thing:2155185 60\n"
     ]
    },
    {
     "name": "stdout",
     "output_type": "stream",
     "text": [
      "https://www.thingiverse.com/thing:3691683 61\n"
     ]
    },
    {
     "name": "stdout",
     "output_type": "stream",
     "text": [
      "https://www.thingiverse.com/thing:1079951 62\n"
     ]
    },
    {
     "name": "stdout",
     "output_type": "stream",
     "text": [
      "https://www.thingiverse.com/thing:1369242 63\n"
     ]
    },
    {
     "name": "stdout",
     "output_type": "stream",
     "text": [
      "https://www.thingiverse.com/thing:2796387 64\n"
     ]
    },
    {
     "name": "stdout",
     "output_type": "stream",
     "text": [
      "https://www.thingiverse.com/thing:6019313 65\n"
     ]
    },
    {
     "name": "stdout",
     "output_type": "stream",
     "text": [
      "https://www.thingiverse.com/thing:3492411 66\n"
     ]
    },
    {
     "name": "stdout",
     "output_type": "stream",
     "text": [
      "https://www.thingiverse.com/thing:3255351 67\n"
     ]
    },
    {
     "name": "stdout",
     "output_type": "stream",
     "text": [
      "https://www.thingiverse.com/thing:5195678 68\n"
     ]
    },
    {
     "name": "stdout",
     "output_type": "stream",
     "text": [
      "https://www.thingiverse.com/thing:1758473 69\n"
     ]
    },
    {
     "name": "stdout",
     "output_type": "stream",
     "text": [
      "https://www.thingiverse.com/thing:3712980 70\n"
     ]
    },
    {
     "name": "stdout",
     "output_type": "stream",
     "text": [
      "https://www.thingiverse.com/thing:1059791 71\n"
     ]
    },
    {
     "name": "stdout",
     "output_type": "stream",
     "text": [
      "https://www.thingiverse.com/thing:3718895 72\n"
     ]
    },
    {
     "name": "stdout",
     "output_type": "stream",
     "text": [
      "https://www.thingiverse.com/thing:3823692 73\n"
     ]
    },
    {
     "name": "stdout",
     "output_type": "stream",
     "text": [
      "https://www.thingiverse.com/thing:2683158 74\n"
     ]
    },
    {
     "name": "stdout",
     "output_type": "stream",
     "text": [
      "https://www.thingiverse.com/thing:1570980 75\n"
     ]
    },
    {
     "name": "stdout",
     "output_type": "stream",
     "text": [
      "https://www.thingiverse.com/thing:2652899 76\n"
     ]
    },
    {
     "name": "stdout",
     "output_type": "stream",
     "text": [
      "https://www.thingiverse.com/thing:2395992 77\n"
     ]
    },
    {
     "name": "stdout",
     "output_type": "stream",
     "text": [
      "https://www.thingiverse.com/thing:1109855 78\n"
     ]
    },
    {
     "name": "stdout",
     "output_type": "stream",
     "text": [
      "https://www.thingiverse.com/thing:106415 79\n"
     ]
    },
    {
     "name": "stdout",
     "output_type": "stream",
     "text": [
      "https://www.thingiverse.com/thing:1289743 80\n"
     ]
    },
    {
     "name": "stdout",
     "output_type": "stream",
     "text": [
      "https://www.thingiverse.com/thing:34490 81\n"
     ]
    },
    {
     "name": "stdout",
     "output_type": "stream",
     "text": [
      "https://www.thingiverse.com/thing:1325717 82\n"
     ]
    },
    {
     "name": "stdout",
     "output_type": "stream",
     "text": [
      "https://www.thingiverse.com/thing:1099273 83\n"
     ]
    },
    {
     "name": "stdout",
     "output_type": "stream",
     "text": [
      "https://www.thingiverse.com/thing:3506058 84\n"
     ]
    },
    {
     "name": "stdout",
     "output_type": "stream",
     "text": [
      "https://www.thingiverse.com/thing:2137880 85\n"
     ]
    },
    {
     "name": "stdout",
     "output_type": "stream",
     "text": [
      "https://www.thingiverse.com/thing:2257895 86\n"
     ]
    },
    {
     "name": "stdout",
     "output_type": "stream",
     "text": [
      "https://www.thingiverse.com/thing:3191057 87\n"
     ]
    },
    {
     "name": "stdout",
     "output_type": "stream",
     "text": [
      "https://www.thingiverse.com/thing:4877198 88\n"
     ]
    },
    {
     "name": "stdout",
     "output_type": "stream",
     "text": [
      "https://www.thingiverse.com/thing:3716666 89\n"
     ]
    },
    {
     "name": "stdout",
     "output_type": "stream",
     "text": [
      "https://www.thingiverse.com/thing:891470 90\n"
     ]
    },
    {
     "name": "stdout",
     "output_type": "stream",
     "text": [
      "https://www.thingiverse.com/thing:4239777 91\n"
     ]
    },
    {
     "name": "stdout",
     "output_type": "stream",
     "text": [
      "https://www.thingiverse.com/thing:2061248 92\n"
     ]
    },
    {
     "name": "stdout",
     "output_type": "stream",
     "text": [
      "https://www.thingiverse.com/thing:3765128 93\n"
     ]
    },
    {
     "name": "stdout",
     "output_type": "stream",
     "text": [
      "https://www.thingiverse.com/thing:5728884 94\n"
     ]
    },
    {
     "name": "stdout",
     "output_type": "stream",
     "text": [
      "https://www.thingiverse.com/thing:2142926 95\n"
     ]
    },
    {
     "name": "stdout",
     "output_type": "stream",
     "text": [
      "https://www.thingiverse.com/thing:5153730 96\n"
     ]
    },
    {
     "name": "stdout",
     "output_type": "stream",
     "text": [
      "https://www.thingiverse.com/thing:2964283 97\n"
     ]
    },
    {
     "name": "stdout",
     "output_type": "stream",
     "text": [
      "https://www.thingiverse.com/thing:3317184 98\n"
     ]
    },
    {
     "name": "stdout",
     "output_type": "stream",
     "text": [
      "https://www.thingiverse.com/thing:1615967 99\n"
     ]
    },
    {
     "name": "stdout",
     "output_type": "stream",
     "text": [
      "https://www.thingiverse.com/thing:1320458 100\n"
     ]
    },
    {
     "name": "stdout",
     "output_type": "stream",
     "text": [
      "https://www.thingiverse.com/thing:1942458 101\n"
     ]
    },
    {
     "name": "stdout",
     "output_type": "stream",
     "text": [
      "https://www.thingiverse.com/thing:580513 102\n"
     ]
    },
    {
     "name": "stdout",
     "output_type": "stream",
     "text": [
      "https://www.thingiverse.com/thing:895777 103\n"
     ]
    },
    {
     "name": "stdout",
     "output_type": "stream",
     "text": [
      "https://www.thingiverse.com/thing:2754338 104\n"
     ]
    },
    {
     "name": "stdout",
     "output_type": "stream",
     "text": [
      "https://www.thingiverse.com/thing:1076707 105\n"
     ]
    },
    {
     "name": "stdout",
     "output_type": "stream",
     "text": [
      "https://www.thingiverse.com/thing:3881987 106\n"
     ]
    },
    {
     "name": "stdout",
     "output_type": "stream",
     "text": [
      "https://www.thingiverse.com/thing:1060303 107\n"
     ]
    },
    {
     "name": "stdout",
     "output_type": "stream",
     "text": [
      "https://www.thingiverse.com/thing:3221145 108\n"
     ]
    },
    {
     "name": "stdout",
     "output_type": "stream",
     "text": [
      "https://www.thingiverse.com/thing:4514958 109\n"
     ]
    },
    {
     "name": "stdout",
     "output_type": "stream",
     "text": [
      "https://www.thingiverse.com/thing:2760352 110\n"
     ]
    },
    {
     "name": "stdout",
     "output_type": "stream",
     "text": [
      "https://www.thingiverse.com/thing:3630486 111\n"
     ]
    },
    {
     "name": "stdout",
     "output_type": "stream",
     "text": [
      "https://www.thingiverse.com/thing:2137825 112\n"
     ]
    },
    {
     "name": "stdout",
     "output_type": "stream",
     "text": [
      "https://www.thingiverse.com/thing:1509550 113\n"
     ]
    },
    {
     "name": "stdout",
     "output_type": "stream",
     "text": [
      "https://www.thingiverse.com/thing:3631517 114\n"
     ]
    },
    {
     "name": "stdout",
     "output_type": "stream",
     "text": [
      "https://www.thingiverse.com/thing:2351326 115\n"
     ]
    },
    {
     "name": "stdout",
     "output_type": "stream",
     "text": [
      "https://www.thingiverse.com/thing:2143865 116\n"
     ]
    },
    {
     "name": "stdout",
     "output_type": "stream",
     "text": [
      "https://www.thingiverse.com/thing:1105106 117\n"
     ]
    },
    {
     "name": "stdout",
     "output_type": "stream",
     "text": [
      "https://www.thingiverse.com/thing:1105384 118\n"
     ]
    },
    {
     "name": "stdout",
     "output_type": "stream",
     "text": [
      "https://www.thingiverse.com/thing:1079303 119\n"
     ]
    },
    {
     "name": "stdout",
     "output_type": "stream",
     "text": [
      "https://www.thingiverse.com/thing:1696944 120\n"
     ]
    },
    {
     "name": "stdout",
     "output_type": "stream",
     "text": [
      "https://www.thingiverse.com/thing:5996641 121\n"
     ]
    },
    {
     "name": "stdout",
     "output_type": "stream",
     "text": [
      "https://www.thingiverse.com/thing:1090391 122\n"
     ]
    },
    {
     "name": "stdout",
     "output_type": "stream",
     "text": [
      "https://www.thingiverse.com/thing:2969609 123\n"
     ]
    },
    {
     "name": "stdout",
     "output_type": "stream",
     "text": [
      "https://www.thingiverse.com/thing:2634007 124\n"
     ]
    },
    {
     "name": "stdout",
     "output_type": "stream",
     "text": [
      "https://www.thingiverse.com/thing:1052466 125\n"
     ]
    },
    {
     "name": "stdout",
     "output_type": "stream",
     "text": [
      "https://www.thingiverse.com/thing:359366 126\n"
     ]
    },
    {
     "name": "stdout",
     "output_type": "stream",
     "text": [
      "https://www.thingiverse.com/thing:3177370 127\n"
     ]
    },
    {
     "name": "stdout",
     "output_type": "stream",
     "text": [
      "https://www.thingiverse.com/thing:5146445 128\n"
     ]
    },
    {
     "name": "stdout",
     "output_type": "stream",
     "text": [
      "https://www.thingiverse.com/thing:4643859 129\n"
     ]
    },
    {
     "name": "stdout",
     "output_type": "stream",
     "text": [
      "https://www.thingiverse.com/thing:3020764 130\n"
     ]
    },
    {
     "name": "stdout",
     "output_type": "stream",
     "text": [
      "https://www.thingiverse.com/thing:1692456 131\n"
     ]
    },
    {
     "name": "stdout",
     "output_type": "stream",
     "text": [
      "https://www.thingiverse.com/thing:4083564 132\n"
     ]
    },
    {
     "name": "stdout",
     "output_type": "stream",
     "text": [
      "https://www.thingiverse.com/thing:3490629 133\n"
     ]
    },
    {
     "name": "stdout",
     "output_type": "stream",
     "text": [
      "https://www.thingiverse.com/thing:5206222 134\n"
     ]
    },
    {
     "name": "stdout",
     "output_type": "stream",
     "text": [
      "https://www.thingiverse.com/thing:4418344 135\n"
     ]
    },
    {
     "name": "stdout",
     "output_type": "stream",
     "text": [
      "https://www.thingiverse.com/thing:1881172 136\n"
     ]
    },
    {
     "name": "stdout",
     "output_type": "stream",
     "text": [
      "https://www.thingiverse.com/thing:855482 137\n"
     ]
    },
    {
     "name": "stdout",
     "output_type": "stream",
     "text": [
      "https://www.thingiverse.com/thing:6530153 138\n"
     ]
    },
    {
     "name": "stdout",
     "output_type": "stream",
     "text": [
      "https://www.thingiverse.com/thing:1055803 139\n"
     ]
    },
    {
     "name": "stdout",
     "output_type": "stream",
     "text": [
      "https://www.thingiverse.com/thing:5158078 140\n"
     ]
    },
    {
     "name": "stdout",
     "output_type": "stream",
     "text": [
      "https://www.thingiverse.com/thing:1105912 141\n"
     ]
    },
    {
     "name": "stdout",
     "output_type": "stream",
     "text": [
      "https://www.thingiverse.com/thing:3265022 142\n"
     ]
    },
    {
     "name": "stdout",
     "output_type": "stream",
     "text": [
      "https://www.thingiverse.com/thing:4307217 143\n"
     ]
    },
    {
     "name": "stdout",
     "output_type": "stream",
     "text": [
      "https://www.thingiverse.com/thing:1098836 144\n"
     ]
    },
    {
     "name": "stdout",
     "output_type": "stream",
     "text": [
      "https://www.thingiverse.com/thing:5667985 145\n"
     ]
    },
    {
     "name": "stdout",
     "output_type": "stream",
     "text": [
      "https://www.thingiverse.com/thing:83208 146\n"
     ]
    },
    {
     "name": "stdout",
     "output_type": "stream",
     "text": [
      "https://www.thingiverse.com/thing:13635 147\n"
     ]
    },
    {
     "name": "stdout",
     "output_type": "stream",
     "text": [
      "https://www.thingiverse.com/thing:5138488 148\n"
     ]
    },
    {
     "name": "stdout",
     "output_type": "stream",
     "text": [
      "https://www.thingiverse.com/thing:3699526 149\n"
     ]
    },
    {
     "name": "stdout",
     "output_type": "stream",
     "text": [
      "https://www.thingiverse.com/thing:1748089 150\n"
     ]
    },
    {
     "name": "stdout",
     "output_type": "stream",
     "text": [
      "https://www.thingiverse.com/thing:4418408 151\n"
     ]
    },
    {
     "name": "stdout",
     "output_type": "stream",
     "text": [
      "https://www.thingiverse.com/thing:3713140 152\n"
     ]
    },
    {
     "name": "stdout",
     "output_type": "stream",
     "text": [
      "https://www.thingiverse.com/thing:3710570 153\n"
     ]
    },
    {
     "name": "stdout",
     "output_type": "stream",
     "text": [
      "https://www.thingiverse.com/thing:2881400 154\n"
     ]
    },
    {
     "name": "stdout",
     "output_type": "stream",
     "text": [
      "https://www.thingiverse.com/thing:3085183 155\n"
     ]
    },
    {
     "name": "stdout",
     "output_type": "stream",
     "text": [
      "https://www.thingiverse.com/thing:2353675 156\n"
     ]
    },
    {
     "name": "stdout",
     "output_type": "stream",
     "text": [
      "https://www.thingiverse.com/thing:2842524 157\n"
     ]
    },
    {
     "name": "stdout",
     "output_type": "stream",
     "text": [
      "https://www.thingiverse.com/thing:1347793 158\n"
     ]
    },
    {
     "name": "stdout",
     "output_type": "stream",
     "text": [
      "https://www.thingiverse.com/thing:964983 159\n"
     ]
    },
    {
     "name": "stdout",
     "output_type": "stream",
     "text": [
      "https://www.thingiverse.com/thing:2532344 160\n"
     ]
    },
    {
     "name": "stdout",
     "output_type": "stream",
     "text": [
      "https://www.thingiverse.com/thing:2634085 161\n"
     ]
    },
    {
     "name": "stdout",
     "output_type": "stream",
     "text": [
      "https://www.thingiverse.com/thing:4963381 162\n"
     ]
    },
    {
     "name": "stdout",
     "output_type": "stream",
     "text": [
      "https://www.thingiverse.com/thing:2893115 163\n"
     ]
    },
    {
     "name": "stdout",
     "output_type": "stream",
     "text": [
      "https://www.thingiverse.com/thing:859066 164\n"
     ]
    },
    {
     "name": "stdout",
     "output_type": "stream",
     "text": [
      "https://www.thingiverse.com/thing:3242937 165\n"
     ]
    },
    {
     "name": "stdout",
     "output_type": "stream",
     "text": [
      "https://www.thingiverse.com/thing:2633817 166\n"
     ]
    },
    {
     "name": "stdout",
     "output_type": "stream",
     "text": [
      "https://www.thingiverse.com/thing:3192305 167\n"
     ]
    },
    {
     "name": "stdout",
     "output_type": "stream",
     "text": [
      "https://www.thingiverse.com/thing:1073029 168\n"
     ]
    },
    {
     "name": "stdout",
     "output_type": "stream",
     "text": [
      "https://www.thingiverse.com/thing:1105036 169\n"
     ]
    },
    {
     "name": "stdout",
     "output_type": "stream",
     "text": [
      "https://www.thingiverse.com/thing:6422941 170\n"
     ]
    },
    {
     "name": "stdout",
     "output_type": "stream",
     "text": [
      "https://www.thingiverse.com/thing:1097330 171\n"
     ]
    },
    {
     "name": "stdout",
     "output_type": "stream",
     "text": [
      "https://www.thingiverse.com/thing:3260197 172\n"
     ]
    },
    {
     "name": "stdout",
     "output_type": "stream",
     "text": [
      "https://www.thingiverse.com/thing:5337299 173\n"
     ]
    },
    {
     "name": "stdout",
     "output_type": "stream",
     "text": [
      "https://www.thingiverse.com/thing:2743705 174\n"
     ]
    },
    {
     "name": "stdout",
     "output_type": "stream",
     "text": [
      "https://www.thingiverse.com/thing:837262 175\n"
     ]
    },
    {
     "name": "stdout",
     "output_type": "stream",
     "text": [
      "https://www.thingiverse.com/thing:2644335 176\n"
     ]
    },
    {
     "name": "stdout",
     "output_type": "stream",
     "text": [
      "https://www.thingiverse.com/thing:2266941 177\n"
     ]
    },
    {
     "name": "stdout",
     "output_type": "stream",
     "text": [
      "https://www.thingiverse.com/thing:3777683 178\n"
     ]
    },
    {
     "name": "stdout",
     "output_type": "stream",
     "text": [
      "https://www.thingiverse.com/thing:4415475 179\n"
     ]
    },
    {
     "name": "stdout",
     "output_type": "stream",
     "text": [
      "https://www.thingiverse.com/thing:3486198 180\n"
     ]
    },
    {
     "name": "stdout",
     "output_type": "stream",
     "text": [
      "https://www.thingiverse.com/thing:867841 181\n"
     ]
    },
    {
     "name": "stdout",
     "output_type": "stream",
     "text": [
      "https://www.thingiverse.com/thing:5158045 182\n"
     ]
    },
    {
     "name": "stdout",
     "output_type": "stream",
     "text": [
      "https://www.thingiverse.com/thing:5322716 183\n"
     ]
    },
    {
     "name": "stdout",
     "output_type": "stream",
     "text": [
      "https://www.thingiverse.com/thing:4230057 184\n"
     ]
    },
    {
     "name": "stdout",
     "output_type": "stream",
     "text": [
      "https://www.thingiverse.com/thing:1365497 185\n"
     ]
    },
    {
     "name": "stdout",
     "output_type": "stream",
     "text": [
      "https://www.thingiverse.com/thing:3496520 186\n"
     ]
    },
    {
     "name": "stdout",
     "output_type": "stream",
     "text": [
      "https://www.thingiverse.com/thing:2964654 187\n"
     ]
    },
    {
     "name": "stdout",
     "output_type": "stream",
     "text": [
      "https://www.thingiverse.com/thing:6532742 188\n"
     ]
    },
    {
     "name": "stdout",
     "output_type": "stream",
     "text": [
      "https://www.thingiverse.com/thing:3525173 189\n"
     ]
    },
    {
     "name": "stdout",
     "output_type": "stream",
     "text": [
      "https://www.thingiverse.com/thing:3413829 190\n"
     ]
    },
    {
     "name": "stdout",
     "output_type": "stream",
     "text": [
      "https://www.thingiverse.com/thing:2968392 191\n"
     ]
    },
    {
     "name": "stdout",
     "output_type": "stream",
     "text": [
      "https://www.thingiverse.com/thing:1321021 192\n"
     ]
    },
    {
     "name": "stdout",
     "output_type": "stream",
     "text": [
      "https://www.thingiverse.com/thing:6518172 193\n"
     ]
    },
    {
     "name": "stdout",
     "output_type": "stream",
     "text": [
      "https://www.thingiverse.com/thing:2870410 194\n"
     ]
    },
    {
     "name": "stdout",
     "output_type": "stream",
     "text": [
      "https://www.thingiverse.com/thing:3699666 195\n"
     ]
    },
    {
     "name": "stdout",
     "output_type": "stream",
     "text": [
      "https://www.thingiverse.com/thing:2308943 196\n"
     ]
    },
    {
     "name": "stdout",
     "output_type": "stream",
     "text": [
      "https://www.thingiverse.com/thing:2061214 197\n"
     ]
    },
    {
     "name": "stdout",
     "output_type": "stream",
     "text": [
      "https://www.thingiverse.com/thing:4861794 198\n"
     ]
    },
    {
     "name": "stdout",
     "output_type": "stream",
     "text": [
      "https://www.thingiverse.com/thing:6652475 199\n"
     ]
    },
    {
     "name": "stdout",
     "output_type": "stream",
     "text": [
      "https://www.thingiverse.com/thing:6586072 200\n"
     ]
    },
    {
     "name": "stdout",
     "output_type": "stream",
     "text": [
      "https://www.thingiverse.com/thing:4627768 201\n"
     ]
    },
    {
     "name": "stdout",
     "output_type": "stream",
     "text": [
      "https://www.thingiverse.com/thing:6652479 202\n"
     ]
    },
    {
     "name": "stdout",
     "output_type": "stream",
     "text": [
      "https://www.thingiverse.com/thing:6652483 203\n"
     ]
    },
    {
     "name": "stdout",
     "output_type": "stream",
     "text": [
      "https://www.thingiverse.com/thing:5087153 204\n"
     ]
    },
    {
     "name": "stdout",
     "output_type": "stream",
     "text": [
      "https://www.thingiverse.com/thing:3710622 205\n"
     ]
    },
    {
     "name": "stdout",
     "output_type": "stream",
     "text": [
      "https://www.thingiverse.com/thing:3889122 206\n"
     ]
    },
    {
     "name": "stdout",
     "output_type": "stream",
     "text": [
      "https://www.thingiverse.com/thing:4814288 207\n"
     ]
    },
    {
     "name": "stdout",
     "output_type": "stream",
     "text": [
      "https://www.thingiverse.com/thing:1709190 208\n"
     ]
    },
    {
     "name": "stdout",
     "output_type": "stream",
     "text": [
      "https://www.thingiverse.com/thing:3714518 209\n"
     ]
    },
    {
     "name": "stdout",
     "output_type": "stream",
     "text": [
      "https://www.thingiverse.com/thing:4888212 210\n"
     ]
    },
    {
     "name": "stdout",
     "output_type": "stream",
     "text": [
      "https://www.thingiverse.com/thing:3146646 211\n"
     ]
    },
    {
     "name": "stdout",
     "output_type": "stream",
     "text": [
      "https://www.thingiverse.com/thing:4128904 212\n"
     ]
    },
    {
     "name": "stdout",
     "output_type": "stream",
     "text": [
      "https://www.thingiverse.com/thing:1601989 213\n"
     ]
    },
    {
     "name": "stdout",
     "output_type": "stream",
     "text": [
      "https://www.thingiverse.com/thing:6359725 214\n"
     ]
    },
    {
     "name": "stdout",
     "output_type": "stream",
     "text": [
      "https://www.thingiverse.com/thing:4618922 215\n"
     ]
    },
    {
     "name": "stdout",
     "output_type": "stream",
     "text": [
      "https://www.thingiverse.com/thing:1069011 216\n"
     ]
    },
    {
     "name": "stdout",
     "output_type": "stream",
     "text": [
      "https://www.thingiverse.com/thing:5187968 217\n"
     ]
    },
    {
     "name": "stdout",
     "output_type": "stream",
     "text": [
      "https://www.thingiverse.com/thing:2238502 218\n"
     ]
    },
    {
     "name": "stdout",
     "output_type": "stream",
     "text": [
      "https://www.thingiverse.com/thing:6980375 219\n"
     ]
    },
    {
     "name": "stdout",
     "output_type": "stream",
     "text": [
      "https://www.thingiverse.com/thing:3908282 220\n"
     ]
    },
    {
     "name": "stdout",
     "output_type": "stream",
     "text": [
      "https://www.thingiverse.com/thing:6242033 221\n"
     ]
    },
    {
     "name": "stdout",
     "output_type": "stream",
     "text": [
      "https://www.thingiverse.com/thing:3929118 222\n"
     ]
    },
    {
     "name": "stdout",
     "output_type": "stream",
     "text": [
      "https://www.thingiverse.com/thing:2861973 223\n"
     ]
    },
    {
     "name": "stdout",
     "output_type": "stream",
     "text": [
      "https://www.thingiverse.com/thing:4833383 224\n"
     ]
    },
    {
     "name": "stdout",
     "output_type": "stream",
     "text": [
      "https://www.thingiverse.com/thing:6302635 225\n"
     ]
    },
    {
     "name": "stdout",
     "output_type": "stream",
     "text": [
      "https://www.thingiverse.com/thing:6208844 226\n"
     ]
    },
    {
     "name": "stdout",
     "output_type": "stream",
     "text": [
      "https://www.thingiverse.com/thing:3086651 227\n"
     ]
    },
    {
     "name": "stdout",
     "output_type": "stream",
     "text": [
      "https://www.thingiverse.com/thing:3583410 228\n"
     ]
    },
    {
     "name": "stdout",
     "output_type": "stream",
     "text": [
      "https://www.thingiverse.com/thing:3929193 229\n"
     ]
    },
    {
     "name": "stdout",
     "output_type": "stream",
     "text": [
      "https://www.thingiverse.com/thing:6303151 230\n"
     ]
    },
    {
     "name": "stdout",
     "output_type": "stream",
     "text": [
      "https://www.thingiverse.com/thing:1691704 231\n"
     ]
    },
    {
     "name": "stdout",
     "output_type": "stream",
     "text": [
      "https://www.thingiverse.com/thing:6217986 232\n"
     ]
    },
    {
     "name": "stdout",
     "output_type": "stream",
     "text": [
      "https://www.thingiverse.com/thing:6268962 233\n"
     ]
    },
    {
     "name": "stdout",
     "output_type": "stream",
     "text": [
      "https://www.thingiverse.com/thing:3929230 234\n"
     ]
    },
    {
     "name": "stdout",
     "output_type": "stream",
     "text": [
      "https://www.thingiverse.com/thing:3959612 235\n"
     ]
    },
    {
     "name": "stdout",
     "output_type": "stream",
     "text": [
      "https://www.thingiverse.com/thing:1095104 236\n"
     ]
    },
    {
     "name": "stdout",
     "output_type": "stream",
     "text": [
      "https://www.thingiverse.com/thing:6555782 237\n"
     ]
    },
    {
     "name": "stdout",
     "output_type": "stream",
     "text": [
      "https://www.thingiverse.com/thing:1315004 238\n"
     ]
    },
    {
     "name": "stdout",
     "output_type": "stream",
     "text": [
      "https://www.thingiverse.com/thing:3929439 239\n"
     ]
    },
    {
     "name": "stdout",
     "output_type": "stream",
     "text": [
      "https://www.thingiverse.com/thing:6801694 240\n"
     ]
    },
    {
     "name": "stdout",
     "output_type": "stream",
     "text": [
      "https://www.thingiverse.com/thing:6225887 241\n"
     ]
    },
    {
     "name": "stdout",
     "output_type": "stream",
     "text": [
      "https://www.thingiverse.com/thing:3183103 242\n"
     ]
    },
    {
     "name": "stdout",
     "output_type": "stream",
     "text": [
      "https://www.thingiverse.com/thing:1090096 243\n"
     ]
    },
    {
     "name": "stdout",
     "output_type": "stream",
     "text": [
      "https://www.thingiverse.com/thing:6225678 244\n"
     ]
    },
    {
     "name": "stdout",
     "output_type": "stream",
     "text": [
      "https://www.thingiverse.com/thing:1055109 245\n"
     ]
    },
    {
     "name": "stdout",
     "output_type": "stream",
     "text": [
      "https://www.thingiverse.com/thing:3086688 246\n"
     ]
    },
    {
     "name": "stdout",
     "output_type": "stream",
     "text": [
      "https://www.thingiverse.com/thing:6225899 247\n"
     ]
    },
    {
     "name": "stdout",
     "output_type": "stream",
     "text": [
      "https://www.thingiverse.com/thing:6237632 248\n"
     ]
    },
    {
     "name": "stdout",
     "output_type": "stream",
     "text": [
      "https://www.thingiverse.com/thing:6713662 249\n"
     ]
    },
    {
     "name": "stdout",
     "output_type": "stream",
     "text": [
      "https://www.thingiverse.com/thing:1315193 250\n"
     ]
    },
    {
     "name": "stdout",
     "output_type": "stream",
     "text": [
      "https://www.thingiverse.com/thing:6248225 251\n"
     ]
    },
    {
     "name": "stdout",
     "output_type": "stream",
     "text": [
      "https://www.thingiverse.com/thing:6841777 252\n"
     ]
    },
    {
     "name": "stdout",
     "output_type": "stream",
     "text": [
      "https://www.thingiverse.com/thing:3635621 253\n"
     ]
    },
    {
     "name": "stdout",
     "output_type": "stream",
     "text": [
      "https://www.thingiverse.com/thing:6736769 254\n"
     ]
    },
    {
     "name": "stdout",
     "output_type": "stream",
     "text": [
      "https://www.thingiverse.com/thing:3649410 255\n"
     ]
    },
    {
     "name": "stdout",
     "output_type": "stream",
     "text": [
      "https://www.thingiverse.com/thing:6841790 256\n"
     ]
    },
    {
     "name": "stdout",
     "output_type": "stream",
     "text": [
      "https://www.thingiverse.com/thing:3929385 257\n"
     ]
    },
    {
     "name": "stdout",
     "output_type": "stream",
     "text": [
      "https://www.thingiverse.com/thing:3929395 258\n"
     ]
    },
    {
     "name": "stdout",
     "output_type": "stream",
     "text": [
      "https://www.thingiverse.com/thing:811030 259\n"
     ]
    },
    {
     "name": "stdout",
     "output_type": "stream",
     "text": [
      "https://www.thingiverse.com/thing:6215045 260\n"
     ]
    },
    {
     "name": "stdout",
     "output_type": "stream",
     "text": [
      "https://www.thingiverse.com/thing:899126 261\n"
     ]
    },
    {
     "name": "stdout",
     "output_type": "stream",
     "text": [
      "https://www.thingiverse.com/thing:2774477 262\n"
     ]
    },
    {
     "name": "stdout",
     "output_type": "stream",
     "text": [
      "https://www.thingiverse.com/thing:6225926 263\n"
     ]
    },
    {
     "name": "stdout",
     "output_type": "stream",
     "text": [
      "https://www.thingiverse.com/thing:1427 264\n"
     ]
    },
    {
     "name": "stdout",
     "output_type": "stream",
     "text": [
      "https://www.thingiverse.com/thing:1737001 265\n"
     ]
    },
    {
     "name": "stdout",
     "output_type": "stream",
     "text": [
      "https://www.thingiverse.com/thing:1098780 266\n"
     ]
    },
    {
     "name": "stdout",
     "output_type": "stream",
     "text": [
      "https://www.thingiverse.com/thing:1294517 267\n"
     ]
    },
    {
     "name": "stdout",
     "output_type": "stream",
     "text": [
      "https://www.thingiverse.com/thing:1104573 268\n"
     ]
    },
    {
     "name": "stdout",
     "output_type": "stream",
     "text": [
      "https://www.thingiverse.com/thing:3109694 269\n"
     ]
    },
    {
     "name": "stdout",
     "output_type": "stream",
     "text": [
      "https://www.thingiverse.com/thing:6794716 270\n"
     ]
    },
    {
     "name": "stdout",
     "output_type": "stream",
     "text": [
      "https://www.thingiverse.com/thing:1090061 271\n"
     ]
    },
    {
     "name": "stdout",
     "output_type": "stream",
     "text": [
      "https://www.thingiverse.com/thing:3086591 272\n"
     ]
    },
    {
     "name": "stdout",
     "output_type": "stream",
     "text": [
      "https://www.thingiverse.com/thing:158843 273\n"
     ]
    },
    {
     "name": "stdout",
     "output_type": "stream",
     "text": [
      "https://www.thingiverse.com/thing:3158492 274\n"
     ]
    },
    {
     "name": "stdout",
     "output_type": "stream",
     "text": [
      "https://www.thingiverse.com/thing:302309 275\n"
     ]
    },
    {
     "name": "stdout",
     "output_type": "stream",
     "text": [
      "https://www.thingiverse.com/thing:1127976 276\n"
     ]
    },
    {
     "name": "stdout",
     "output_type": "stream",
     "text": [
      "https://www.thingiverse.com/thing:3044695 277\n"
     ]
    },
    {
     "name": "stdout",
     "output_type": "stream",
     "text": [
      "https://www.thingiverse.com/thing:3929595 278\n"
     ]
    },
    {
     "name": "stdout",
     "output_type": "stream",
     "text": [
      "https://www.thingiverse.com/thing:4852006 279\n"
     ]
    },
    {
     "name": "stdout",
     "output_type": "stream",
     "text": [
      "https://www.thingiverse.com/thing:6248023 280\n"
     ]
    },
    {
     "name": "stdout",
     "output_type": "stream",
     "text": [
      "https://www.thingiverse.com/thing:6224150 281\n"
     ]
    },
    {
     "name": "stdout",
     "output_type": "stream",
     "text": [
      "https://www.thingiverse.com/thing:6821370 282\n"
     ]
    },
    {
     "name": "stdout",
     "output_type": "stream",
     "text": [
      "https://www.thingiverse.com/thing:6790716 283\n"
     ]
    },
    {
     "name": "stdout",
     "output_type": "stream",
     "text": [
      "https://www.thingiverse.com/thing:1954875 284\n"
     ]
    },
    {
     "name": "stdout",
     "output_type": "stream",
     "text": [
      "https://www.thingiverse.com/thing:3713087 285\n"
     ]
    },
    {
     "name": "stdout",
     "output_type": "stream",
     "text": [
      "https://www.thingiverse.com/thing:2180151 286\n"
     ]
    },
    {
     "name": "stdout",
     "output_type": "stream",
     "text": [
      "https://www.thingiverse.com/thing:471755 287\n"
     ]
    },
    {
     "name": "stdout",
     "output_type": "stream",
     "text": [
      "https://www.thingiverse.com/thing:3588491 288\n"
     ]
    },
    {
     "name": "stdout",
     "output_type": "stream",
     "text": [
      "https://www.thingiverse.com/thing:6640383 289\n"
     ]
    },
    {
     "name": "stdout",
     "output_type": "stream",
     "text": [
      "https://www.thingiverse.com/thing:2566778 290\n"
     ]
    },
    {
     "name": "stdout",
     "output_type": "stream",
     "text": [
      "https://www.thingiverse.com/thing:1053181 291\n"
     ]
    },
    {
     "name": "stdout",
     "output_type": "stream",
     "text": [
      "https://www.thingiverse.com/thing:1607527 292\n"
     ]
    },
    {
     "name": "stdout",
     "output_type": "stream",
     "text": [
      "https://www.thingiverse.com/thing:2727176 293\n"
     ]
    },
    {
     "name": "stdout",
     "output_type": "stream",
     "text": [
      "https://www.thingiverse.com/thing:2023413 294\n"
     ]
    },
    {
     "name": "stdout",
     "output_type": "stream",
     "text": [
      "https://www.thingiverse.com/thing:90144 295\n"
     ]
    },
    {
     "name": "stdout",
     "output_type": "stream",
     "text": [
      "https://www.thingiverse.com/thing:686084 296\n"
     ]
    },
    {
     "name": "stdout",
     "output_type": "stream",
     "text": [
      "https://www.thingiverse.com/thing:3195198 297\n"
     ]
    },
    {
     "name": "stdout",
     "output_type": "stream",
     "text": [
      "https://www.thingiverse.com/thing:515259 298\n"
     ]
    },
    {
     "name": "stdout",
     "output_type": "stream",
     "text": [
      "https://www.thingiverse.com/thing:4873369 299\n"
     ]
    },
    {
     "name": "stdout",
     "output_type": "stream",
     "text": [
      "https://www.thingiverse.com/thing:3555374 300\n"
     ]
    },
    {
     "name": "stdout",
     "output_type": "stream",
     "text": [
      "https://www.thingiverse.com/thing:3783855 301\n"
     ]
    },
    {
     "name": "stdout",
     "output_type": "stream",
     "text": [
      "https://www.thingiverse.com/thing:3588828 302\n"
     ]
    },
    {
     "name": "stdout",
     "output_type": "stream",
     "text": [
      "https://www.thingiverse.com/thing:4978254 303\n"
     ]
    },
    {
     "name": "stdout",
     "output_type": "stream",
     "text": [
      "https://www.thingiverse.com/thing:6224294 304\n"
     ]
    },
    {
     "name": "stdout",
     "output_type": "stream",
     "text": [
      "https://www.thingiverse.com/thing:6555341 305\n"
     ]
    },
    {
     "name": "stdout",
     "output_type": "stream",
     "text": [
      "https://www.thingiverse.com/thing:6829522 306\n"
     ]
    },
    {
     "name": "stdout",
     "output_type": "stream",
     "text": [
      "https://www.thingiverse.com/thing:6805191 307\n"
     ]
    },
    {
     "name": "stdout",
     "output_type": "stream",
     "text": [
      "https://www.thingiverse.com/thing:930409 308\n"
     ]
    },
    {
     "name": "stdout",
     "output_type": "stream",
     "text": [
      "https://www.thingiverse.com/thing:2799080 309\n"
     ]
    },
    {
     "name": "stdout",
     "output_type": "stream",
     "text": [
      "https://www.thingiverse.com/thing:1081797 310\n"
     ]
    },
    {
     "name": "stdout",
     "output_type": "stream",
     "text": [
      "https://www.thingiverse.com/thing:1131463 311\n"
     ]
    },
    {
     "name": "stdout",
     "output_type": "stream",
     "text": [
      "https://www.thingiverse.com/thing:1532027 312\n"
     ]
    },
    {
     "name": "stdout",
     "output_type": "stream",
     "text": [
      "https://www.thingiverse.com/thing:640839 313\n"
     ]
    },
    {
     "name": "stdout",
     "output_type": "stream",
     "text": [
      "https://www.thingiverse.com/thing:5540330 314\n"
     ]
    },
    {
     "name": "stdout",
     "output_type": "stream",
     "text": [
      "https://www.thingiverse.com/thing:3596569 315\n"
     ]
    },
    {
     "name": "stdout",
     "output_type": "stream",
     "text": [
      "https://www.thingiverse.com/thing:1078904 316\n"
     ]
    },
    {
     "name": "stdout",
     "output_type": "stream",
     "text": [
      "https://www.thingiverse.com/thing:1049502 317\n"
     ]
    },
    {
     "name": "stdout",
     "output_type": "stream",
     "text": [
      "https://www.thingiverse.com/thing:1673376 318\n"
     ]
    },
    {
     "name": "stdout",
     "output_type": "stream",
     "text": [
      "https://www.thingiverse.com/thing:2841496 319\n"
     ]
    },
    {
     "name": "stdout",
     "output_type": "stream",
     "text": [
      "https://www.thingiverse.com/thing:6787576 320\n"
     ]
    },
    {
     "name": "stdout",
     "output_type": "stream",
     "text": [
      "https://www.thingiverse.com/thing:6378395 321\n"
     ]
    },
    {
     "name": "stdout",
     "output_type": "stream",
     "text": [
      "https://www.thingiverse.com/thing:1075334 322\n"
     ]
    },
    {
     "name": "stdout",
     "output_type": "stream",
     "text": [
      "https://www.thingiverse.com/thing:132807 323\n"
     ]
    },
    {
     "name": "stdout",
     "output_type": "stream",
     "text": [
      "https://www.thingiverse.com/thing:40731 324\n"
     ]
    },
    {
     "name": "stdout",
     "output_type": "stream",
     "text": [
      "https://www.thingiverse.com/thing:2409406 325\n"
     ]
    },
    {
     "name": "stdout",
     "output_type": "stream",
     "text": [
      "https://www.thingiverse.com/thing:6790907 326\n"
     ]
    },
    {
     "name": "stdout",
     "output_type": "stream",
     "text": [
      "https://www.thingiverse.com/thing:1049237 327\n"
     ]
    },
    {
     "name": "stdout",
     "output_type": "stream",
     "text": [
      "https://www.thingiverse.com/thing:359361 328\n"
     ]
    },
    {
     "name": "stdout",
     "output_type": "stream",
     "text": [
      "https://www.thingiverse.com/thing:2874072 329\n"
     ]
    },
    {
     "name": "stdout",
     "output_type": "stream",
     "text": [
      "https://www.thingiverse.com/thing:725 330\n"
     ]
    },
    {
     "name": "stdout",
     "output_type": "stream",
     "text": [
      "https://www.thingiverse.com/thing:2849952 331\n"
     ]
    },
    {
     "name": "stdout",
     "output_type": "stream",
     "text": [
      "https://www.thingiverse.com/thing:1079918 332\n"
     ]
    },
    {
     "name": "stdout",
     "output_type": "stream",
     "text": [
      "https://www.thingiverse.com/thing:2685127 333\n"
     ]
    },
    {
     "name": "stdout",
     "output_type": "stream",
     "text": [
      "https://www.thingiverse.com/thing:1191262 334\n"
     ]
    },
    {
     "name": "stdout",
     "output_type": "stream",
     "text": [
      "https://www.thingiverse.com/thing:4259927 335\n"
     ]
    },
    {
     "name": "stdout",
     "output_type": "stream",
     "text": [
      "https://www.thingiverse.com/thing:359355 336\n"
     ]
    },
    {
     "name": "stdout",
     "output_type": "stream",
     "text": [
      "https://www.thingiverse.com/thing:4570894 337\n"
     ]
    },
    {
     "name": "stdout",
     "output_type": "stream",
     "text": [
      "https://www.thingiverse.com/thing:3063851 338\n"
     ]
    },
    {
     "name": "stdout",
     "output_type": "stream",
     "text": [
      "https://www.thingiverse.com/thing:1094092 339\n"
     ]
    },
    {
     "name": "stdout",
     "output_type": "stream",
     "text": [
      "https://www.thingiverse.com/thing:1716073 340\n"
     ]
    },
    {
     "name": "stdout",
     "output_type": "stream",
     "text": [
      "https://www.thingiverse.com/thing:1716073 341\n"
     ]
    },
    {
     "name": "stdout",
     "output_type": "stream",
     "text": [
      "https://www.thingiverse.com/thing:2802074 342\n"
     ]
    },
    {
     "name": "stdout",
     "output_type": "stream",
     "text": [
      "https://www.thingiverse.com/thing:2802057 343\n"
     ]
    },
    {
     "name": "stdout",
     "output_type": "stream",
     "text": [
      "https://www.thingiverse.com/thing:2394134 344\n"
     ]
    },
    {
     "name": "stdout",
     "output_type": "stream",
     "text": [
      "https://www.thingiverse.com/thing:1079094 345\n"
     ]
    },
    {
     "name": "stdout",
     "output_type": "stream",
     "text": [
      "https://www.thingiverse.com/thing:1964079 346\n"
     ]
    },
    {
     "name": "stdout",
     "output_type": "stream",
     "text": [
      "https://www.thingiverse.com/thing:1712603 347\n"
     ]
    },
    {
     "name": "stdout",
     "output_type": "stream",
     "text": [
      "https://www.thingiverse.com/thing:1104680 348\n"
     ]
    },
    {
     "name": "stdout",
     "output_type": "stream",
     "text": [
      "https://www.thingiverse.com/thing:1097538 349\n"
     ]
    },
    {
     "name": "stdout",
     "output_type": "stream",
     "text": [
      "https://www.thingiverse.com/thing:1151612 350\n"
     ]
    },
    {
     "name": "stdout",
     "output_type": "stream",
     "text": [
      "https://www.thingiverse.com/thing:3230906 351\n"
     ]
    },
    {
     "name": "stdout",
     "output_type": "stream",
     "text": [
      "https://www.thingiverse.com/thing:2792191 352\n"
     ]
    },
    {
     "name": "stdout",
     "output_type": "stream",
     "text": [
      "https://www.thingiverse.com/thing:1291374 353\n"
     ]
    },
    {
     "name": "stdout",
     "output_type": "stream",
     "text": [
      "https://www.thingiverse.com/thing:277956 354\n"
     ]
    },
    {
     "name": "stdout",
     "output_type": "stream",
     "text": [
      "https://www.thingiverse.com/thing:3436542 355\n"
     ]
    },
    {
     "name": "stdout",
     "output_type": "stream",
     "text": [
      "https://www.thingiverse.com/thing:2132678 356\n"
     ]
    },
    {
     "name": "stdout",
     "output_type": "stream",
     "text": [
      "https://www.thingiverse.com/thing:3062522 357\n"
     ]
    },
    {
     "name": "stdout",
     "output_type": "stream",
     "text": [
      "https://www.thingiverse.com/thing:5078850 358\n"
     ]
    },
    {
     "name": "stdout",
     "output_type": "stream",
     "text": [
      "https://www.thingiverse.com/thing:2800937 359\n"
     ]
    },
    {
     "name": "stdout",
     "output_type": "stream",
     "text": [
      "https://www.thingiverse.com/thing:2564128 360\n"
     ]
    },
    {
     "name": "stdout",
     "output_type": "stream",
     "text": [
      "https://www.thingiverse.com/thing:3974744 361\n"
     ]
    },
    {
     "name": "stdout",
     "output_type": "stream",
     "text": [
      "https://www.thingiverse.com/thing:1523525 362\n"
     ]
    },
    {
     "name": "stdout",
     "output_type": "stream",
     "text": [
      "https://www.thingiverse.com/thing:1066499 363\n"
     ]
    },
    {
     "name": "stdout",
     "output_type": "stream",
     "text": [
      "https://www.thingiverse.com/thing:2586738 364\n"
     ]
    },
    {
     "name": "stdout",
     "output_type": "stream",
     "text": [
      "https://www.thingiverse.com/thing:683496 365\n"
     ]
    },
    {
     "name": "stdout",
     "output_type": "stream",
     "text": [
      "https://www.thingiverse.com/thing:856639 366\n"
     ]
    },
    {
     "name": "stdout",
     "output_type": "stream",
     "text": [
      "https://www.thingiverse.com/thing:2366390 367\n"
     ]
    },
    {
     "name": "stdout",
     "output_type": "stream",
     "text": [
      "https://www.thingiverse.com/thing:26077 368\n"
     ]
    },
    {
     "name": "stdout",
     "output_type": "stream",
     "text": [
      "https://www.thingiverse.com/thing:6068032 369\n"
     ]
    },
    {
     "name": "stdout",
     "output_type": "stream",
     "text": [
      "https://www.thingiverse.com/thing:2419155 370\n"
     ]
    },
    {
     "name": "stdout",
     "output_type": "stream",
     "text": [
      "https://www.thingiverse.com/thing:3294279 371\n"
     ]
    },
    {
     "name": "stdout",
     "output_type": "stream",
     "text": [
      "https://www.thingiverse.com/thing:5219828 372\n"
     ]
    },
    {
     "name": "stdout",
     "output_type": "stream",
     "text": [
      "https://www.thingiverse.com/thing:3192347 373\n"
     ]
    },
    {
     "name": "stdout",
     "output_type": "stream",
     "text": [
      "https://www.thingiverse.com/thing:1102273 374\n"
     ]
    },
    {
     "name": "stdout",
     "output_type": "stream",
     "text": [
      "https://www.thingiverse.com/thing:696316 375\n"
     ]
    },
    {
     "name": "stdout",
     "output_type": "stream",
     "text": [
      "https://www.thingiverse.com/thing:1104178 376\n"
     ]
    },
    {
     "name": "stdout",
     "output_type": "stream",
     "text": [
      "https://www.thingiverse.com/thing:2868839 377\n"
     ]
    },
    {
     "name": "stdout",
     "output_type": "stream",
     "text": [
      "https://www.thingiverse.com/thing:1069265 378\n"
     ]
    },
    {
     "name": "stdout",
     "output_type": "stream",
     "text": [
      "https://www.thingiverse.com/thing:642874 379\n"
     ]
    },
    {
     "name": "stdout",
     "output_type": "stream",
     "text": [
      "https://www.thingiverse.com/thing:2200674 380\n"
     ]
    },
    {
     "name": "stdout",
     "output_type": "stream",
     "text": [
      "https://www.thingiverse.com/thing:1964081 381\n"
     ]
    },
    {
     "name": "stdout",
     "output_type": "stream",
     "text": [
      "https://www.thingiverse.com/thing:5195661 382\n"
     ]
    },
    {
     "name": "stdout",
     "output_type": "stream",
     "text": [
      "https://www.thingiverse.com/thing:2629680 383\n"
     ]
    },
    {
     "name": "stdout",
     "output_type": "stream",
     "text": [
      "https://www.thingiverse.com/thing:950355 384\n"
     ]
    },
    {
     "name": "stdout",
     "output_type": "stream",
     "text": [
      "https://www.thingiverse.com/thing:3541114 385\n"
     ]
    },
    {
     "name": "stdout",
     "output_type": "stream",
     "text": [
      "https://www.thingiverse.com/thing:1936150 386\n"
     ]
    },
    {
     "name": "stdout",
     "output_type": "stream",
     "text": [
      "https://www.thingiverse.com/thing:1079916 387\n"
     ]
    },
    {
     "name": "stdout",
     "output_type": "stream",
     "text": [
      "https://www.thingiverse.com/thing:2246592 388\n"
     ]
    },
    {
     "name": "stdout",
     "output_type": "stream",
     "text": [
      "https://www.thingiverse.com/thing:1526315 389\n"
     ]
    },
    {
     "name": "stdout",
     "output_type": "stream",
     "text": [
      "https://www.thingiverse.com/thing:3631544 390\n"
     ]
    },
    {
     "name": "stdout",
     "output_type": "stream",
     "text": [
      "https://www.thingiverse.com/thing:948906 391\n"
     ]
    },
    {
     "name": "stdout",
     "output_type": "stream",
     "text": [
      "https://www.thingiverse.com/thing:3593250 392\n"
     ]
    },
    {
     "name": "stdout",
     "output_type": "stream",
     "text": [
      "https://www.thingiverse.com/thing:1947210 393\n"
     ]
    },
    {
     "name": "stdout",
     "output_type": "stream",
     "text": [
      "https://www.thingiverse.com/thing:3087098 394\n"
     ]
    },
    {
     "name": "stdout",
     "output_type": "stream",
     "text": [
      "https://www.thingiverse.com/thing:3777693 395\n"
     ]
    },
    {
     "name": "stdout",
     "output_type": "stream",
     "text": [
      "https://www.thingiverse.com/thing:2507266 396\n"
     ]
    },
    {
     "name": "stdout",
     "output_type": "stream",
     "text": [
      "https://www.thingiverse.com/thing:2793464 397\n"
     ]
    },
    {
     "name": "stdout",
     "output_type": "stream",
     "text": [
      "https://www.thingiverse.com/thing:36921 398\n"
     ]
    },
    {
     "name": "stdout",
     "output_type": "stream",
     "text": [
      "https://www.thingiverse.com/thing:1471760 399\n"
     ]
    },
    {
     "name": "stdout",
     "output_type": "stream",
     "text": [
      "https://www.thingiverse.com/thing:4270938 400\n"
     ]
    },
    {
     "name": "stdout",
     "output_type": "stream",
     "text": [
      "https://www.thingiverse.com/thing:4678779 401\n"
     ]
    },
    {
     "name": "stdout",
     "output_type": "stream",
     "text": [
      "https://www.thingiverse.com/thing:2799056 402\n"
     ]
    },
    {
     "name": "stdout",
     "output_type": "stream",
     "text": [
      "https://www.thingiverse.com/thing:2107926 403\n"
     ]
    },
    {
     "name": "stdout",
     "output_type": "stream",
     "text": [
      "https://www.thingiverse.com/thing:1079916 404\n"
     ]
    },
    {
     "name": "stdout",
     "output_type": "stream",
     "text": [
      "https://www.thingiverse.com/thing:3698050 405\n"
     ]
    },
    {
     "name": "stdout",
     "output_type": "stream",
     "text": [
      "https://www.thingiverse.com/thing:3698867 406\n"
     ]
    },
    {
     "name": "stdout",
     "output_type": "stream",
     "text": [
      "https://www.thingiverse.com/thing:1096831 407\n"
     ]
    },
    {
     "name": "stdout",
     "output_type": "stream",
     "text": [
      "https://www.thingiverse.com/thing:2841939 408\n"
     ]
    },
    {
     "name": "stdout",
     "output_type": "stream",
     "text": [
      "https://www.thingiverse.com/thing:2867010 409\n"
     ]
    },
    {
     "name": "stdout",
     "output_type": "stream",
     "text": [
      "https://www.thingiverse.com/thing:75893 410\n"
     ]
    },
    {
     "name": "stdout",
     "output_type": "stream",
     "text": [
      "https://www.thingiverse.com/thing:1761738 411\n"
     ]
    },
    {
     "name": "stdout",
     "output_type": "stream",
     "text": [
      "https://www.thingiverse.com/thing:4940298 412\n"
     ]
    },
    {
     "name": "stdout",
     "output_type": "stream",
     "text": [
      "https://www.thingiverse.com/thing:2596630 413\n"
     ]
    },
    {
     "name": "stdout",
     "output_type": "stream",
     "text": [
      "https://www.thingiverse.com/thing:2107834 414\n"
     ]
    },
    {
     "name": "stdout",
     "output_type": "stream",
     "text": [
      "https://www.thingiverse.com/thing:1105233 415\n"
     ]
    },
    {
     "name": "stdout",
     "output_type": "stream",
     "text": [
      "https://www.thingiverse.com/thing:2257846 416\n"
     ]
    },
    {
     "name": "stdout",
     "output_type": "stream",
     "text": [
      "https://www.thingiverse.com/thing:1046447 417\n"
     ]
    },
    {
     "name": "stdout",
     "output_type": "stream",
     "text": [
      "https://www.thingiverse.com/thing:1095439 418\n"
     ]
    },
    {
     "name": "stdout",
     "output_type": "stream",
     "text": [
      "https://www.thingiverse.com/thing:1152826 419\n"
     ]
    },
    {
     "name": "stdout",
     "output_type": "stream",
     "text": [
      "https://www.thingiverse.com/thing:2957270 420\n"
     ]
    },
    {
     "name": "stdout",
     "output_type": "stream",
     "text": [
      "https://www.thingiverse.com/thing:1098424 421\n"
     ]
    },
    {
     "name": "stdout",
     "output_type": "stream",
     "text": [
      "https://www.thingiverse.com/thing:1063215 422\n"
     ]
    },
    {
     "name": "stdout",
     "output_type": "stream",
     "text": [
      "https://www.thingiverse.com/thing:1702802 423\n"
     ]
    },
    {
     "name": "stdout",
     "output_type": "stream",
     "text": [
      "https://www.thingiverse.com/thing:2542267 424\n"
     ]
    },
    {
     "name": "stdout",
     "output_type": "stream",
     "text": [
      "https://www.thingiverse.com/thing:1726685 425\n"
     ]
    },
    {
     "name": "stdout",
     "output_type": "stream",
     "text": [
      "https://www.thingiverse.com/thing:3197633 426\n"
     ]
    },
    {
     "name": "stdout",
     "output_type": "stream",
     "text": [
      "https://www.thingiverse.com/thing:2811327 427\n"
     ]
    },
    {
     "name": "stdout",
     "output_type": "stream",
     "text": [
      "https://www.thingiverse.com/thing:2152147 428\n"
     ]
    },
    {
     "name": "stdout",
     "output_type": "stream",
     "text": [
      "https://www.thingiverse.com/thing:4126927 429\n"
     ]
    },
    {
     "name": "stdout",
     "output_type": "stream",
     "text": [
      "https://www.thingiverse.com/thing:3172905 430\n"
     ]
    },
    {
     "name": "stdout",
     "output_type": "stream",
     "text": [
      "https://www.thingiverse.com/thing:3172905 431\n"
     ]
    },
    {
     "name": "stdout",
     "output_type": "stream",
     "text": [
      "https://www.thingiverse.com/thing:967861 432\n"
     ]
    },
    {
     "name": "stdout",
     "output_type": "stream",
     "text": [
      "https://www.thingiverse.com/thing:1204700 433\n"
     ]
    },
    {
     "name": "stdout",
     "output_type": "stream",
     "text": [
      "https://www.thingiverse.com/thing:979590 434\n"
     ]
    },
    {
     "name": "stdout",
     "output_type": "stream",
     "text": [
      "https://www.thingiverse.com/thing:542775 435\n"
     ]
    },
    {
     "name": "stdout",
     "output_type": "stream",
     "text": [
      "https://www.thingiverse.com/thing:5149509 436\n"
     ]
    },
    {
     "name": "stdout",
     "output_type": "stream",
     "text": [
      "https://www.thingiverse.com/thing:5678844 437\n"
     ]
    },
    {
     "name": "stdout",
     "output_type": "stream",
     "text": [
      "https://www.thingiverse.com/thing:6193619 438\n"
     ]
    },
    {
     "name": "stdout",
     "output_type": "stream",
     "text": [
      "https://www.thingiverse.com/thing:6193637 439\n"
     ]
    },
    {
     "name": "stdout",
     "output_type": "stream",
     "text": [
      "https://www.thingiverse.com/thing:6193728 440\n"
     ]
    },
    {
     "name": "stdout",
     "output_type": "stream",
     "text": [
      "https://www.thingiverse.com/thing:6997474 441\n"
     ]
    },
    {
     "name": "stdout",
     "output_type": "stream",
     "text": [
      "https://www.thingiverse.com/thing:3060014 442\n"
     ]
    },
    {
     "name": "stdout",
     "output_type": "stream",
     "text": [
      "https://www.thingiverse.com/thing:3633082 443\n"
     ]
    },
    {
     "name": "stdout",
     "output_type": "stream",
     "text": [
      "https://www.thingiverse.com/thing:3361905 444\n"
     ]
    },
    {
     "name": "stdout",
     "output_type": "stream",
     "text": [
      "https://www.thingiverse.com/thing:908022 445\n"
     ]
    },
    {
     "name": "stdout",
     "output_type": "stream",
     "text": [
      "https://www.thingiverse.com/thing:1100259 446\n"
     ]
    },
    {
     "name": "stdout",
     "output_type": "stream",
     "text": [
      "https://www.thingiverse.com/thing:987588 447\n"
     ]
    },
    {
     "name": "stdout",
     "output_type": "stream",
     "text": [
      "https://www.thingiverse.com/thing:2848297 448\n"
     ]
    },
    {
     "name": "stdout",
     "output_type": "stream",
     "text": [
      "https://www.thingiverse.com/thing:5160930 449\n"
     ]
    },
    {
     "name": "stdout",
     "output_type": "stream",
     "text": [
      "https://www.thingiverse.com/thing:2705488 450\n"
     ]
    },
    {
     "name": "stdout",
     "output_type": "stream",
     "text": [
      "https://www.thingiverse.com/thing:1096856 451\n"
     ]
    },
    {
     "name": "stdout",
     "output_type": "stream",
     "text": [
      "https://www.thingiverse.com/thing:2841296 452\n"
     ]
    },
    {
     "name": "stdout",
     "output_type": "stream",
     "text": [
      "https://www.thingiverse.com/thing:2353621 453\n"
     ]
    },
    {
     "name": "stdout",
     "output_type": "stream",
     "text": [
      "https://www.thingiverse.com/thing:2257949 454\n"
     ]
    },
    {
     "name": "stdout",
     "output_type": "stream",
     "text": [
      "https://www.thingiverse.com/thing:2455561 455\n"
     ]
    },
    {
     "name": "stdout",
     "output_type": "stream",
     "text": [
      "https://www.thingiverse.com/thing:1104933 456\n"
     ]
    },
    {
     "name": "stdout",
     "output_type": "stream",
     "text": [
      "https://www.thingiverse.com/thing:2801934 457\n"
     ]
    },
    {
     "name": "stdout",
     "output_type": "stream",
     "text": [
      "https://www.thingiverse.com/thing:2440223 458\n"
     ]
    },
    {
     "name": "stdout",
     "output_type": "stream",
     "text": [
      "https://www.thingiverse.com/thing:1499148 459\n"
     ]
    },
    {
     "name": "stdout",
     "output_type": "stream",
     "text": [
      "https://www.thingiverse.com/thing:1908866 460\n"
     ]
    }
   ],
   "source": [
    "    for j, (i, row) in enumerate(results.dropna(subset=\"id\").iterrows()):\n",
    "        time.sleep(random.random()*2)\n",
    "        thing_session.get(row.url, params=params)\n",
    "        print(i, j)"
   ]
  },
  {
   "cell_type": "code",
   "execution_count": 6,
   "id": "455b490a-b094-4231-9929-3de4da42f9b7",
   "metadata": {
    "execution": {
     "iopub.execute_input": "2025-04-03T20:19:29.138176Z",
     "iopub.status.busy": "2025-04-03T20:19:29.137794Z",
     "iopub.status.idle": "2025-04-03T20:19:29.284742Z",
     "shell.execute_reply": "2025-04-03T20:19:29.284519Z"
    }
   },
   "outputs": [
    {
     "data": {
      "text/html": [
       "<div>\n",
       "<style scoped>\n",
       "    .dataframe tbody tr th:only-of-type {\n",
       "        vertical-align: middle;\n",
       "    }\n",
       "\n",
       "    .dataframe tbody tr th {\n",
       "        vertical-align: top;\n",
       "    }\n",
       "\n",
       "    .dataframe thead th {\n",
       "        text-align: right;\n",
       "    }\n",
       "</style>\n",
       "<table border=\"1\" class=\"dataframe\">\n",
       "  <thead>\n",
       "    <tr style=\"text-align: right;\">\n",
       "      <th></th>\n",
       "      <th>id</th>\n",
       "      <th>name</th>\n",
       "      <th>thumbnail</th>\n",
       "      <th>url</th>\n",
       "      <th>public_url</th>\n",
       "      <th>creator</th>\n",
       "      <th>added</th>\n",
       "      <th>modified</th>\n",
       "      <th>is_published</th>\n",
       "      <th>is_wip</th>\n",
       "      <th>...</th>\n",
       "      <th>is_derivative</th>\n",
       "      <th>ancestors</th>\n",
       "      <th>type_name</th>\n",
       "      <th>is_banned</th>\n",
       "      <th>is_comments_disabled</th>\n",
       "      <th>needs_moderation</th>\n",
       "      <th>is_decoy</th>\n",
       "      <th>zip_data</th>\n",
       "      <th>winner_name</th>\n",
       "      <th>winner_link</th>\n",
       "    </tr>\n",
       "  </thead>\n",
       "  <tbody>\n",
       "    <tr>\n",
       "      <th>00fdfcd14237dd21</th>\n",
       "      <td>1098836</td>\n",
       "      <td>e-NABLE Phone Home Prototype 3</td>\n",
       "      <td>https://cdn.thingiverse.com/renders/00/a0/a6/2...</td>\n",
       "      <td>https://api.thingiverse.com/things/1098836</td>\n",
       "      <td>https://www.thingiverse.com/thing:1098836</td>\n",
       "      <td>{'id': 173593, 'name': 'deltamodulator', 'firs...</td>\n",
       "      <td>2015-10-29T06:48:49+00:00</td>\n",
       "      <td>2015-10-29T06:48:49+00:00</td>\n",
       "      <td>1</td>\n",
       "      <td>1</td>\n",
       "      <td>...</td>\n",
       "      <td>True</td>\n",
       "      <td>[{'id': 596966, 'name': 'Raptor Reloaded by e-...</td>\n",
       "      <td>Thing</td>\n",
       "      <td>False</td>\n",
       "      <td>False</td>\n",
       "      <td>0</td>\n",
       "      <td>0</td>\n",
       "      <td>{'files': [{'name': 'e-NABLE_Phone_Home_10.ino...</td>\n",
       "      <td>NaN</td>\n",
       "      <td>NaN</td>\n",
       "    </tr>\n",
       "    <tr>\n",
       "      <th>017ac16bf4936a98</th>\n",
       "      <td>2881400</td>\n",
       "      <td>3D Printed Arm Socket</td>\n",
       "      <td>https://cdn.thingiverse.com/renders/73/6e/58/d...</td>\n",
       "      <td>https://api.thingiverse.com/things/2881400</td>\n",
       "      <td>https://www.thingiverse.com/thing:2881400</td>\n",
       "      <td>{'id': 184877, 'name': 'sujana', 'first_name':...</td>\n",
       "      <td>2018-04-27T04:06:29+00:00</td>\n",
       "      <td>2018-04-27T04:06:29+00:00</td>\n",
       "      <td>1</td>\n",
       "      <td>0</td>\n",
       "      <td>...</td>\n",
       "      <td>False</td>\n",
       "      <td>[]</td>\n",
       "      <td>Thing</td>\n",
       "      <td>False</td>\n",
       "      <td>False</td>\n",
       "      <td>0</td>\n",
       "      <td>0</td>\n",
       "      <td>{'files': [{'name': 'Arm_Socket_C_27042018.stl...</td>\n",
       "      <td>NaN</td>\n",
       "      <td>NaN</td>\n",
       "    </tr>\n",
       "    <tr>\n",
       "      <th>0182e0eb0261935c</th>\n",
       "      <td>2061214</td>\n",
       "      <td>VESA Mount for Overhead Camera (IPevo HD Plus)</td>\n",
       "      <td>https://cdn.thingiverse.com/renders/e2/9b/89/2...</td>\n",
       "      <td>https://api.thingiverse.com/things/2061214</td>\n",
       "      <td>https://www.thingiverse.com/thing:2061214</td>\n",
       "      <td>{'id': 1276407, 'name': 'atmakers', 'first_nam...</td>\n",
       "      <td>2017-01-25T05:09:19+00:00</td>\n",
       "      <td>2017-01-25T05:09:19+00:00</td>\n",
       "      <td>1</td>\n",
       "      <td>0</td>\n",
       "      <td>...</td>\n",
       "      <td>False</td>\n",
       "      <td>[]</td>\n",
       "      <td>Thing</td>\n",
       "      <td>False</td>\n",
       "      <td>False</td>\n",
       "      <td>0</td>\n",
       "      <td>0</td>\n",
       "      <td>{'files': [{'name': 'VESA_Mount_Overhead_Camer...</td>\n",
       "      <td>NaN</td>\n",
       "      <td>NaN</td>\n",
       "    </tr>\n",
       "    <tr>\n",
       "      <th>01de48b8131edf9c</th>\n",
       "      <td>3710570</td>\n",
       "      <td>Interatomic Bonds Tactile Model</td>\n",
       "      <td>https://cdn.thingiverse.com/renders/df/ba/57/9...</td>\n",
       "      <td>https://api.thingiverse.com/things/3710570</td>\n",
       "      <td>https://www.thingiverse.com/thing:3710570</td>\n",
       "      <td>{'id': 2652477, 'name': 'ntaufscar', 'first_na...</td>\n",
       "      <td>2019-06-24T12:12:19+00:00</td>\n",
       "      <td>2019-06-24T12:12:19+00:00</td>\n",
       "      <td>1</td>\n",
       "      <td>1</td>\n",
       "      <td>...</td>\n",
       "      <td>False</td>\n",
       "      <td>[]</td>\n",
       "      <td>Thing</td>\n",
       "      <td>False</td>\n",
       "      <td>False</td>\n",
       "      <td>0</td>\n",
       "      <td>0</td>\n",
       "      <td>{'files': [{'name': 'ElectronExchange.stl', 'u...</td>\n",
       "      <td>NaN</td>\n",
       "      <td>NaN</td>\n",
       "    </tr>\n",
       "    <tr>\n",
       "      <th>0261cb5c628ba03f</th>\n",
       "      <td>6586072</td>\n",
       "      <td>Dolphin Flexi Fidget Toy - print in place</td>\n",
       "      <td>https://cdn.thingiverse.com/assets/43/bb/e6/78...</td>\n",
       "      <td>https://api.thingiverse.com/things/6586072</td>\n",
       "      <td>https://www.thingiverse.com/thing:6586072</td>\n",
       "      <td>{'id': 5595608, 'name': 'timmytombstone1', 'fi...</td>\n",
       "      <td>2024-04-19T17:30:42+00:00</td>\n",
       "      <td>2024-04-19T17:30:42+00:00</td>\n",
       "      <td>1</td>\n",
       "      <td>0</td>\n",
       "      <td>...</td>\n",
       "      <td>False</td>\n",
       "      <td>[]</td>\n",
       "      <td>Thing</td>\n",
       "      <td>False</td>\n",
       "      <td>False</td>\n",
       "      <td>0</td>\n",
       "      <td>0</td>\n",
       "      <td>{'files': [{'name': 'dolphin.stl', 'url': 'htt...</td>\n",
       "      <td>NaN</td>\n",
       "      <td>NaN</td>\n",
       "    </tr>\n",
       "    <tr>\n",
       "      <th>...</th>\n",
       "      <td>...</td>\n",
       "      <td>...</td>\n",
       "      <td>...</td>\n",
       "      <td>...</td>\n",
       "      <td>...</td>\n",
       "      <td>...</td>\n",
       "      <td>...</td>\n",
       "      <td>...</td>\n",
       "      <td>...</td>\n",
       "      <td>...</td>\n",
       "      <td>...</td>\n",
       "      <td>...</td>\n",
       "      <td>...</td>\n",
       "      <td>...</td>\n",
       "      <td>...</td>\n",
       "      <td>...</td>\n",
       "      <td>...</td>\n",
       "      <td>...</td>\n",
       "      <td>...</td>\n",
       "      <td>...</td>\n",
       "      <td>...</td>\n",
       "    </tr>\n",
       "    <tr>\n",
       "      <th>fc2f5a3939200c69</th>\n",
       "      <td>3486198</td>\n",
       "      <td>Assistive Walker, Kaye walker.</td>\n",
       "      <td>https://cdn.thingiverse.com/renders/71/31/69/f...</td>\n",
       "      <td>https://api.thingiverse.com/things/3486198</td>\n",
       "      <td>https://www.thingiverse.com/thing:3486198</td>\n",
       "      <td>{'id': 163526, 'name': 'hagridden', 'first_nam...</td>\n",
       "      <td>2019-03-12T04:17:20+00:00</td>\n",
       "      <td>2019-03-12T04:17:20+00:00</td>\n",
       "      <td>1</td>\n",
       "      <td>0</td>\n",
       "      <td>...</td>\n",
       "      <td>False</td>\n",
       "      <td>[]</td>\n",
       "      <td>Thing</td>\n",
       "      <td>False</td>\n",
       "      <td>False</td>\n",
       "      <td>0</td>\n",
       "      <td>0</td>\n",
       "      <td>{'files': [{'name': 'Walker_v1.stl', 'url': 'h...</td>\n",
       "      <td>NaN</td>\n",
       "      <td>NaN</td>\n",
       "    </tr>\n",
       "    <tr>\n",
       "      <th>fc434d2e733bd132</th>\n",
       "      <td>683496</td>\n",
       "      <td>Modified RIT Arm Parts</td>\n",
       "      <td>https://cdn.thingiverse.com/renders/33/44/e5/f...</td>\n",
       "      <td>https://api.thingiverse.com/things/683496</td>\n",
       "      <td>https://www.thingiverse.com/thing:683496</td>\n",
       "      <td>{'id': 248357, 'name': 'masnart39', 'first_nam...</td>\n",
       "      <td>2015-02-15T13:01:20+00:00</td>\n",
       "      <td>2015-02-15T13:01:20+00:00</td>\n",
       "      <td>1</td>\n",
       "      <td>1</td>\n",
       "      <td>...</td>\n",
       "      <td>True</td>\n",
       "      <td>[{'id': 604380, 'name': 'Modified RIT Arm Part...</td>\n",
       "      <td>Thing</td>\n",
       "      <td>False</td>\n",
       "      <td>False</td>\n",
       "      <td>0</td>\n",
       "      <td>0</td>\n",
       "      <td>{'files': [{'name': 'forearm-cup-modified.STL'...</td>\n",
       "      <td>NaN</td>\n",
       "      <td>NaN</td>\n",
       "    </tr>\n",
       "    <tr>\n",
       "      <th>fc7f60b1f323f996</th>\n",
       "      <td>2513492</td>\n",
       "      <td>I8-module_open°lights</td>\n",
       "      <td>https://cdn.thingiverse.com/renders/ac/5a/41/7...</td>\n",
       "      <td>https://api.thingiverse.com/things/2513492</td>\n",
       "      <td>https://www.thingiverse.com/thing:2513492</td>\n",
       "      <td>{'id': 126601, 'name': 'FabLab-Berlin', 'first...</td>\n",
       "      <td>2017-09-02T17:33:01+00:00</td>\n",
       "      <td>2017-09-02T17:33:01+00:00</td>\n",
       "      <td>1</td>\n",
       "      <td>0</td>\n",
       "      <td>...</td>\n",
       "      <td>False</td>\n",
       "      <td>[]</td>\n",
       "      <td>Thing</td>\n",
       "      <td>False</td>\n",
       "      <td>False</td>\n",
       "      <td>0</td>\n",
       "      <td>0</td>\n",
       "      <td>{'files': [{'name': 'Circuit_Diagram_Module_I....</td>\n",
       "      <td>NaN</td>\n",
       "      <td>NaN</td>\n",
       "    </tr>\n",
       "    <tr>\n",
       "      <th>fe780a7515816dee</th>\n",
       "      <td>2246592</td>\n",
       "      <td>Thumb Prosthesis</td>\n",
       "      <td>https://cdn.thingiverse.com/renders/14/7d/29/c...</td>\n",
       "      <td>https://api.thingiverse.com/things/2246592</td>\n",
       "      <td>https://www.thingiverse.com/thing:2246592</td>\n",
       "      <td>{'id': 765168, 'name': 'GabrielaB', 'first_nam...</td>\n",
       "      <td>2017-04-13T14:25:48+00:00</td>\n",
       "      <td>2017-04-13T14:25:48+00:00</td>\n",
       "      <td>1</td>\n",
       "      <td>0</td>\n",
       "      <td>...</td>\n",
       "      <td>True</td>\n",
       "      <td>[{'id': 261462, 'name': 'Cyborg Beast ', 'url'...</td>\n",
       "      <td>Thing</td>\n",
       "      <td>False</td>\n",
       "      <td>False</td>\n",
       "      <td>0</td>\n",
       "      <td>0</td>\n",
       "      <td>{'files': [{'name': 'axis.STL', 'url': 'https:...</td>\n",
       "      <td>NaN</td>\n",
       "      <td>NaN</td>\n",
       "    </tr>\n",
       "    <tr>\n",
       "      <th>feb74ee20d8ded24</th>\n",
       "      <td>6713662</td>\n",
       "      <td>Wheelchair Magnetic Mount for Reacher</td>\n",
       "      <td>https://cdn.thingiverse.com/assets/dc/a1/73/4e...</td>\n",
       "      <td>https://api.thingiverse.com/things/6713662</td>\n",
       "      <td>https://www.thingiverse.com/thing:6713662</td>\n",
       "      <td>{'id': 7259113, 'name': 'CourageKenny', 'first...</td>\n",
       "      <td>2024-07-29T19:38:27+00:00</td>\n",
       "      <td>2024-07-29T19:38:27+00:00</td>\n",
       "      <td>1</td>\n",
       "      <td>0</td>\n",
       "      <td>...</td>\n",
       "      <td>False</td>\n",
       "      <td>[]</td>\n",
       "      <td>Thing</td>\n",
       "      <td>False</td>\n",
       "      <td>False</td>\n",
       "      <td>0</td>\n",
       "      <td>0</td>\n",
       "      <td>{'files': [{'name': 'DOUBLE1.STL', 'url': 'htt...</td>\n",
       "      <td>NaN</td>\n",
       "      <td>NaN</td>\n",
       "    </tr>\n",
       "  </tbody>\n",
       "</table>\n",
       "<p>456 rows × 63 columns</p>\n",
       "</div>"
      ],
      "text/plain": [
       "                       id                                            name  \\\n",
       "00fdfcd14237dd21  1098836                  e-NABLE Phone Home Prototype 3   \n",
       "017ac16bf4936a98  2881400                           3D Printed Arm Socket   \n",
       "0182e0eb0261935c  2061214  VESA Mount for Overhead Camera (IPevo HD Plus)   \n",
       "01de48b8131edf9c  3710570                 Interatomic Bonds Tactile Model   \n",
       "0261cb5c628ba03f  6586072       Dolphin Flexi Fidget Toy - print in place   \n",
       "...                   ...                                             ...   \n",
       "fc2f5a3939200c69  3486198                  Assistive Walker, Kaye walker.   \n",
       "fc434d2e733bd132   683496                          Modified RIT Arm Parts   \n",
       "fc7f60b1f323f996  2513492                           I8-module_open°lights   \n",
       "fe780a7515816dee  2246592                                Thumb Prosthesis   \n",
       "feb74ee20d8ded24  6713662           Wheelchair Magnetic Mount for Reacher   \n",
       "\n",
       "                                                          thumbnail  \\\n",
       "00fdfcd14237dd21  https://cdn.thingiverse.com/renders/00/a0/a6/2...   \n",
       "017ac16bf4936a98  https://cdn.thingiverse.com/renders/73/6e/58/d...   \n",
       "0182e0eb0261935c  https://cdn.thingiverse.com/renders/e2/9b/89/2...   \n",
       "01de48b8131edf9c  https://cdn.thingiverse.com/renders/df/ba/57/9...   \n",
       "0261cb5c628ba03f  https://cdn.thingiverse.com/assets/43/bb/e6/78...   \n",
       "...                                                             ...   \n",
       "fc2f5a3939200c69  https://cdn.thingiverse.com/renders/71/31/69/f...   \n",
       "fc434d2e733bd132  https://cdn.thingiverse.com/renders/33/44/e5/f...   \n",
       "fc7f60b1f323f996  https://cdn.thingiverse.com/renders/ac/5a/41/7...   \n",
       "fe780a7515816dee  https://cdn.thingiverse.com/renders/14/7d/29/c...   \n",
       "feb74ee20d8ded24  https://cdn.thingiverse.com/assets/dc/a1/73/4e...   \n",
       "\n",
       "                                                         url  \\\n",
       "00fdfcd14237dd21  https://api.thingiverse.com/things/1098836   \n",
       "017ac16bf4936a98  https://api.thingiverse.com/things/2881400   \n",
       "0182e0eb0261935c  https://api.thingiverse.com/things/2061214   \n",
       "01de48b8131edf9c  https://api.thingiverse.com/things/3710570   \n",
       "0261cb5c628ba03f  https://api.thingiverse.com/things/6586072   \n",
       "...                                                      ...   \n",
       "fc2f5a3939200c69  https://api.thingiverse.com/things/3486198   \n",
       "fc434d2e733bd132   https://api.thingiverse.com/things/683496   \n",
       "fc7f60b1f323f996  https://api.thingiverse.com/things/2513492   \n",
       "fe780a7515816dee  https://api.thingiverse.com/things/2246592   \n",
       "feb74ee20d8ded24  https://api.thingiverse.com/things/6713662   \n",
       "\n",
       "                                                 public_url  \\\n",
       "00fdfcd14237dd21  https://www.thingiverse.com/thing:1098836   \n",
       "017ac16bf4936a98  https://www.thingiverse.com/thing:2881400   \n",
       "0182e0eb0261935c  https://www.thingiverse.com/thing:2061214   \n",
       "01de48b8131edf9c  https://www.thingiverse.com/thing:3710570   \n",
       "0261cb5c628ba03f  https://www.thingiverse.com/thing:6586072   \n",
       "...                                                     ...   \n",
       "fc2f5a3939200c69  https://www.thingiverse.com/thing:3486198   \n",
       "fc434d2e733bd132   https://www.thingiverse.com/thing:683496   \n",
       "fc7f60b1f323f996  https://www.thingiverse.com/thing:2513492   \n",
       "fe780a7515816dee  https://www.thingiverse.com/thing:2246592   \n",
       "feb74ee20d8ded24  https://www.thingiverse.com/thing:6713662   \n",
       "\n",
       "                                                            creator  \\\n",
       "00fdfcd14237dd21  {'id': 173593, 'name': 'deltamodulator', 'firs...   \n",
       "017ac16bf4936a98  {'id': 184877, 'name': 'sujana', 'first_name':...   \n",
       "0182e0eb0261935c  {'id': 1276407, 'name': 'atmakers', 'first_nam...   \n",
       "01de48b8131edf9c  {'id': 2652477, 'name': 'ntaufscar', 'first_na...   \n",
       "0261cb5c628ba03f  {'id': 5595608, 'name': 'timmytombstone1', 'fi...   \n",
       "...                                                             ...   \n",
       "fc2f5a3939200c69  {'id': 163526, 'name': 'hagridden', 'first_nam...   \n",
       "fc434d2e733bd132  {'id': 248357, 'name': 'masnart39', 'first_nam...   \n",
       "fc7f60b1f323f996  {'id': 126601, 'name': 'FabLab-Berlin', 'first...   \n",
       "fe780a7515816dee  {'id': 765168, 'name': 'GabrielaB', 'first_nam...   \n",
       "feb74ee20d8ded24  {'id': 7259113, 'name': 'CourageKenny', 'first...   \n",
       "\n",
       "                                      added                   modified  \\\n",
       "00fdfcd14237dd21  2015-10-29T06:48:49+00:00  2015-10-29T06:48:49+00:00   \n",
       "017ac16bf4936a98  2018-04-27T04:06:29+00:00  2018-04-27T04:06:29+00:00   \n",
       "0182e0eb0261935c  2017-01-25T05:09:19+00:00  2017-01-25T05:09:19+00:00   \n",
       "01de48b8131edf9c  2019-06-24T12:12:19+00:00  2019-06-24T12:12:19+00:00   \n",
       "0261cb5c628ba03f  2024-04-19T17:30:42+00:00  2024-04-19T17:30:42+00:00   \n",
       "...                                     ...                        ...   \n",
       "fc2f5a3939200c69  2019-03-12T04:17:20+00:00  2019-03-12T04:17:20+00:00   \n",
       "fc434d2e733bd132  2015-02-15T13:01:20+00:00  2015-02-15T13:01:20+00:00   \n",
       "fc7f60b1f323f996  2017-09-02T17:33:01+00:00  2017-09-02T17:33:01+00:00   \n",
       "fe780a7515816dee  2017-04-13T14:25:48+00:00  2017-04-13T14:25:48+00:00   \n",
       "feb74ee20d8ded24  2024-07-29T19:38:27+00:00  2024-07-29T19:38:27+00:00   \n",
       "\n",
       "                  is_published  is_wip  ...  is_derivative  \\\n",
       "00fdfcd14237dd21             1       1  ...           True   \n",
       "017ac16bf4936a98             1       0  ...          False   \n",
       "0182e0eb0261935c             1       0  ...          False   \n",
       "01de48b8131edf9c             1       1  ...          False   \n",
       "0261cb5c628ba03f             1       0  ...          False   \n",
       "...                        ...     ...  ...            ...   \n",
       "fc2f5a3939200c69             1       0  ...          False   \n",
       "fc434d2e733bd132             1       1  ...           True   \n",
       "fc7f60b1f323f996             1       0  ...          False   \n",
       "fe780a7515816dee             1       0  ...           True   \n",
       "feb74ee20d8ded24             1       0  ...          False   \n",
       "\n",
       "                                                          ancestors  \\\n",
       "00fdfcd14237dd21  [{'id': 596966, 'name': 'Raptor Reloaded by e-...   \n",
       "017ac16bf4936a98                                                 []   \n",
       "0182e0eb0261935c                                                 []   \n",
       "01de48b8131edf9c                                                 []   \n",
       "0261cb5c628ba03f                                                 []   \n",
       "...                                                             ...   \n",
       "fc2f5a3939200c69                                                 []   \n",
       "fc434d2e733bd132  [{'id': 604380, 'name': 'Modified RIT Arm Part...   \n",
       "fc7f60b1f323f996                                                 []   \n",
       "fe780a7515816dee  [{'id': 261462, 'name': 'Cyborg Beast ', 'url'...   \n",
       "feb74ee20d8ded24                                                 []   \n",
       "\n",
       "                  type_name  is_banned  is_comments_disabled  \\\n",
       "00fdfcd14237dd21      Thing      False                 False   \n",
       "017ac16bf4936a98      Thing      False                 False   \n",
       "0182e0eb0261935c      Thing      False                 False   \n",
       "01de48b8131edf9c      Thing      False                 False   \n",
       "0261cb5c628ba03f      Thing      False                 False   \n",
       "...                     ...        ...                   ...   \n",
       "fc2f5a3939200c69      Thing      False                 False   \n",
       "fc434d2e733bd132      Thing      False                 False   \n",
       "fc7f60b1f323f996      Thing      False                 False   \n",
       "fe780a7515816dee      Thing      False                 False   \n",
       "feb74ee20d8ded24      Thing      False                 False   \n",
       "\n",
       "                  needs_moderation  is_decoy  \\\n",
       "00fdfcd14237dd21                 0         0   \n",
       "017ac16bf4936a98                 0         0   \n",
       "0182e0eb0261935c                 0         0   \n",
       "01de48b8131edf9c                 0         0   \n",
       "0261cb5c628ba03f                 0         0   \n",
       "...                            ...       ...   \n",
       "fc2f5a3939200c69                 0         0   \n",
       "fc434d2e733bd132                 0         0   \n",
       "fc7f60b1f323f996                 0         0   \n",
       "fe780a7515816dee                 0         0   \n",
       "feb74ee20d8ded24                 0         0   \n",
       "\n",
       "                                                           zip_data  \\\n",
       "00fdfcd14237dd21  {'files': [{'name': 'e-NABLE_Phone_Home_10.ino...   \n",
       "017ac16bf4936a98  {'files': [{'name': 'Arm_Socket_C_27042018.stl...   \n",
       "0182e0eb0261935c  {'files': [{'name': 'VESA_Mount_Overhead_Camer...   \n",
       "01de48b8131edf9c  {'files': [{'name': 'ElectronExchange.stl', 'u...   \n",
       "0261cb5c628ba03f  {'files': [{'name': 'dolphin.stl', 'url': 'htt...   \n",
       "...                                                             ...   \n",
       "fc2f5a3939200c69  {'files': [{'name': 'Walker_v1.stl', 'url': 'h...   \n",
       "fc434d2e733bd132  {'files': [{'name': 'forearm-cup-modified.STL'...   \n",
       "fc7f60b1f323f996  {'files': [{'name': 'Circuit_Diagram_Module_I....   \n",
       "fe780a7515816dee  {'files': [{'name': 'axis.STL', 'url': 'https:...   \n",
       "feb74ee20d8ded24  {'files': [{'name': 'DOUBLE1.STL', 'url': 'htt...   \n",
       "\n",
       "                  winner_name  winner_link  \n",
       "00fdfcd14237dd21          NaN          NaN  \n",
       "017ac16bf4936a98          NaN          NaN  \n",
       "0182e0eb0261935c          NaN          NaN  \n",
       "01de48b8131edf9c          NaN          NaN  \n",
       "0261cb5c628ba03f          NaN          NaN  \n",
       "...                       ...          ...  \n",
       "fc2f5a3939200c69          NaN          NaN  \n",
       "fc434d2e733bd132          NaN          NaN  \n",
       "fc7f60b1f323f996          NaN          NaN  \n",
       "fe780a7515816dee          NaN          NaN  \n",
       "feb74ee20d8ded24          NaN          NaN  \n",
       "\n",
       "[456 rows x 63 columns]"
      ]
     },
     "execution_count": 6,
     "metadata": {},
     "output_type": "execute_result"
    }
   ],
   "source": [
    "(\n",
    "    Series(thing_session.cache.responses)\n",
    "    .apply(operator.methodcaller(\"json\"))\n",
    "    .apply(Series)\n",
    ")"
   ]
  }
 ],
 "metadata": {
  "kernelspec": {
   "display_name": "Python 3 (ipykernel)",
   "language": "python",
   "name": "python3"
  },
  "language_info": {
   "codemirror_mode": {
    "name": "ipython",
    "version": 3
   },
   "file_extension": ".py",
   "mimetype": "text/x-python",
   "name": "python",
   "nbconvert_exporter": "python",
   "pygments_lexer": "ipython3",
   "version": "3.13.0"
  },
  "widgets": {
   "application/vnd.jupyter.widget-state+json": {
    "state": {},
    "version_major": 2,
    "version_minor": 0
   }
  }
 },
 "nbformat": 4,
 "nbformat_minor": 5
}
