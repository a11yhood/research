{
 "cells": [
  {
   "cell_type": "markdown",
   "id": "2b91035d-429e-4ba9-8e24-8ccac62bed5a",
   "metadata": {},
   "source": [
    "# building individual a11yhood pages from scraped items\n",
    "\n",
    "use dataframe techniques to create static site contents"
   ]
  },
  {
   "cell_type": "code",
   "execution_count": 143,
   "id": "ba31331a-d9b2-48db-b022-ab5454d622cd",
   "metadata": {},
   "outputs": [],
   "source": [
    "from tonyfast.tonyfast.xxiv.schema_frame import tag, klass\n",
    "import bs4, ipywidgets, uuid"
   ]
  },
  {
   "cell_type": "markdown",
   "id": "54d9c50c-70fc-4944-9a59-fbb9476b947a",
   "metadata": {},
   "source": [
    "load the a11yhood dataset"
   ]
  },
  {
   "cell_type": "code",
   "execution_count": 145,
   "id": "21fe57bd-0a8d-4b25-9e2a-0af95c56b1f6",
   "metadata": {},
   "outputs": [],
   "source": [
    "df = read_json(\"research/at.json.gz\")"
   ]
  },
  {
   "cell_type": "markdown",
   "id": "bf25350a-004f-4616-9d93-bf6669f9a067",
   "metadata": {},
   "source": [
    "compose the components that we'll use for our site content."
   ]
  },
  {
   "cell_type": "code",
   "execution_count": 176,
   "id": "2437516d-2bfb-485b-ac00-b0327b8f3b2e",
   "metadata": {},
   "outputs": [],
   "source": [
    "header = tag.header(tag.a(tag.img(src=\"https://a11yhood.org/images/ahood-200.jpg\"), **klass[\"brand\"]))"
   ]
  },
  {
   "cell_type": "code",
   "execution_count": 188,
   "id": "7c91adc5-2ed6-4600-a29c-bddcfe047437",
   "metadata": {},
   "outputs": [],
   "source": [
    "sections = (\n",
    "    df[[\"name\"]].html.tag(\"h1\").join(\n",
    "        df.tags.dropna().apply(Series).html.tag(\"li\").html.group(\"ul\", **klass[\"tags\"]).rename(\"tags\")\n",
    "    )\n",
    "    # .join(df.assign(text=\"visit source\").text.html.tag(\"a\", href=df.index.to_series()))\n",
    "    .join(\n",
    "        df.assign(h2=\"description\").h2.html.tag(\"h2\")\n",
    "    ).join(\n",
    "        df.description[df.description.fillna(\"\").astype(bool)].apply(\n",
    "            compose_left(shell.tangle.parser.parser.render, partial(bs4.BeautifulSoup, features=\"lxml\"))\n",
    "        ).html.tag(\"p\")\n",
    "    ).join(\n",
    "        df[[\"license\"]].dropna().assign(h2=\"license\").h2.html.tag(\"h2\").to_frame(\"license_title\").join(\n",
    "            df.dropna().license.html.tag(\"p\")\n",
    "        )\n",
    "    ).join(\n",
    "        df.assign(style=\"\"\"ul.tags {\n",
    "            display: flex; flex-direction: row; list-style: none; li {margin: 10px;}\n",
    "        }\"\"\")[\"style\"].html.tag(\"style\")\n",
    "    ).html.group(\"section\")\n",
    ")"
   ]
  },
  {
   "cell_type": "code",
   "execution_count": 214,
   "id": "84d4eae9-40bf-4c5a-ab87-7a4174b8b475",
   "metadata": {},
   "outputs": [],
   "source": [
    "pages = df.assign(\n",
    "    header=[bs4.BeautifulSoup(str(header), features=\"lxml\").header for _ in range(len(df))]\n",
    ")[[\"header\"]].join(sections.rename('section')).html.group(\"section\")"
   ]
  },
  {
   "cell_type": "markdown",
   "id": "e49ba47b-5a48-409e-aeb0-733c48cc0853",
   "metadata": {},
   "source": [
    "view intermediate html representations"
   ]
  },
  {
   "cell_type": "code",
   "execution_count": 215,
   "id": "2da1fc10-8328-4dde-8bc2-1792ecfb42e7",
   "metadata": {},
   "outputs": [
    {
     "data": {
      "application/vnd.jupyter.widget-view+json": {
       "model_id": "6f29f1b6101347adab0f7ee6ccfa596b",
       "version_major": 2,
       "version_minor": 0
      },
      "text/plain": [
       "interactive(children=(IntSlider(value=602, description='i', max=1204), Output()), _dom_classes=('widget-intera…"
      ]
     },
     "metadata": {},
     "output_type": "display_data"
    }
   ],
   "source": [
    "@ipywidgets.interact\n",
    "def show_pages(i = (0, len(pages))):\n",
    "    return pipe(pages.iloc[i], HTML)"
   ]
  },
  {
   "cell_type": "markdown",
   "id": "99d8301d-32bc-4439-92c3-fca214c49c3c",
   "metadata": {},
   "source": [
    "## export the results"
   ]
  },
  {
   "cell_type": "code",
   "execution_count": 216,
   "id": "5f25d792-9349-4437-a5db-46f728b5ea5e",
   "metadata": {},
   "outputs": [],
   "source": [
    "import nbformat, nbconvert\n",
    "exporter = nbconvert.get_exporter(\"html\")()"
   ]
  },
  {
   "cell_type": "code",
   "execution_count": 217,
   "id": "fa43d559-132b-4a19-a29b-11d39395e8cd",
   "metadata": {},
   "outputs": [
    {
     "data": {
      "text/html": [
       "<div>\n",
       "<style scoped>\n",
       "    .dataframe tbody tr th:only-of-type {\n",
       "        vertical-align: middle;\n",
       "    }\n",
       "\n",
       "    .dataframe tbody tr th {\n",
       "        vertical-align: top;\n",
       "    }\n",
       "\n",
       "    .dataframe thead th {\n",
       "        text-align: right;\n",
       "    }\n",
       "</style>\n",
       "<table border=\"1\" class=\"dataframe\">\n",
       "  <thead>\n",
       "    <tr style=\"text-align: right;\">\n",
       "      <th></th>\n",
       "      <th>data</th>\n",
       "      <th>html</th>\n",
       "    </tr>\n",
       "    <tr>\n",
       "      <th>target</th>\n",
       "      <th></th>\n",
       "      <th></th>\n",
       "    </tr>\n",
       "  </thead>\n",
       "  <tbody>\n",
       "    <tr>\n",
       "      <th>ai-collection</th>\n",
       "      <td>{'nbformat': 4, 'nbformat_minor': 5, 'metadata...</td>\n",
       "      <td>&lt;!DOCTYPE html&gt;\\n\\n&lt;html lang=\"en\"&gt;\\n&lt;head&gt;&lt;me...</td>\n",
       "    </tr>\n",
       "    <tr>\n",
       "      <th>OptiKey</th>\n",
       "      <td>{'nbformat': 4, 'nbformat_minor': 5, 'metadata...</td>\n",
       "      <td>&lt;!DOCTYPE html&gt;\\n\\n&lt;html lang=\"en\"&gt;\\n&lt;head&gt;&lt;me...</td>\n",
       "    </tr>\n",
       "    <tr>\n",
       "      <th>awesome-a11y</th>\n",
       "      <td>{'nbformat': 4, 'nbformat_minor': 5, 'metadata...</td>\n",
       "      <td>&lt;!DOCTYPE html&gt;\\n\\n&lt;html lang=\"en\"&gt;\\n&lt;head&gt;&lt;me...</td>\n",
       "    </tr>\n",
       "    <tr>\n",
       "      <th>dicio-android</th>\n",
       "      <td>{'nbformat': 4, 'nbformat_minor': 5, 'metadata...</td>\n",
       "      <td>&lt;!DOCTYPE html&gt;\\n\\n&lt;html lang=\"en\"&gt;\\n&lt;head&gt;&lt;me...</td>\n",
       "    </tr>\n",
       "    <tr>\n",
       "      <th>cboard</th>\n",
       "      <td>{'nbformat': 4, 'nbformat_minor': 5, 'metadata...</td>\n",
       "      <td>&lt;!DOCTYPE html&gt;\\n\\n&lt;html lang=\"en\"&gt;\\n&lt;head&gt;&lt;me...</td>\n",
       "    </tr>\n",
       "    <tr>\n",
       "      <th>whisper_dictation</th>\n",
       "      <td>{'nbformat': 4, 'nbformat_minor': 5, 'metadata...</td>\n",
       "      <td>&lt;!DOCTYPE html&gt;\\n\\n&lt;html lang=\"en\"&gt;\\n&lt;head&gt;&lt;me...</td>\n",
       "    </tr>\n",
       "    <tr>\n",
       "      <th>voqal</th>\n",
       "      <td>{'nbformat': 4, 'nbformat_minor': 5, 'metadata...</td>\n",
       "      <td>&lt;!DOCTYPE html&gt;\\n\\n&lt;html lang=\"en\"&gt;\\n&lt;head&gt;&lt;me...</td>\n",
       "    </tr>\n",
       "    <tr>\n",
       "      <th>DReyeVR</th>\n",
       "      <td>{'nbformat': 4, 'nbformat_minor': 5, 'metadata...</td>\n",
       "      <td>&lt;!DOCTYPE html&gt;\\n\\n&lt;html lang=\"en\"&gt;\\n&lt;head&gt;&lt;me...</td>\n",
       "    </tr>\n",
       "    <tr>\n",
       "      <th>righthand</th>\n",
       "      <td>{'nbformat': 4, 'nbformat_minor': 5, 'metadata...</td>\n",
       "      <td>&lt;!DOCTYPE html&gt;\\n\\n&lt;html lang=\"en\"&gt;\\n&lt;head&gt;&lt;me...</td>\n",
       "    </tr>\n",
       "    <tr>\n",
       "      <th>speech-to-code</th>\n",
       "      <td>{'nbformat': 4, 'nbformat_minor': 5, 'metadata...</td>\n",
       "      <td>&lt;!DOCTYPE html&gt;\\n\\n&lt;html lang=\"en\"&gt;\\n&lt;head&gt;&lt;me...</td>\n",
       "    </tr>\n",
       "    <tr>\n",
       "      <th>MathCAT</th>\n",
       "      <td>{'nbformat': 4, 'nbformat_minor': 5, 'metadata...</td>\n",
       "      <td>&lt;!DOCTYPE html&gt;\\n\\n&lt;html lang=\"en\"&gt;\\n&lt;head&gt;&lt;me...</td>\n",
       "    </tr>\n",
       "    <tr>\n",
       "      <th>AsTeRICS-Grid</th>\n",
       "      <td>{'nbformat': 4, 'nbformat_minor': 5, 'metadata...</td>\n",
       "      <td>&lt;!DOCTYPE html&gt;\\n\\n&lt;html lang=\"en\"&gt;\\n&lt;head&gt;&lt;me...</td>\n",
       "    </tr>\n",
       "    <tr>\n",
       "      <th>silviux</th>\n",
       "      <td>{'nbformat': 4, 'nbformat_minor': 5, 'metadata...</td>\n",
       "      <td>&lt;!DOCTYPE html&gt;\\n\\n&lt;html lang=\"en\"&gt;\\n&lt;head&gt;&lt;me...</td>\n",
       "    </tr>\n",
       "    <tr>\n",
       "      <th>AsTeRICS</th>\n",
       "      <td>{'nbformat': 4, 'nbformat_minor': 5, 'metadata...</td>\n",
       "      <td>&lt;!DOCTYPE html&gt;\\n\\n&lt;html lang=\"en\"&gt;\\n&lt;head&gt;&lt;me...</td>\n",
       "    </tr>\n",
       "    <tr>\n",
       "      <th>EyeCommander</th>\n",
       "      <td>{'nbformat': 4, 'nbformat_minor': 5, 'metadata...</td>\n",
       "      <td>&lt;!DOCTYPE html&gt;\\n\\n&lt;html lang=\"en\"&gt;\\n&lt;head&gt;&lt;me...</td>\n",
       "    </tr>\n",
       "    <tr>\n",
       "      <th>dasher-web</th>\n",
       "      <td>{'nbformat': 4, 'nbformat_minor': 5, 'metadata...</td>\n",
       "      <td>&lt;!DOCTYPE html&gt;\\n\\n&lt;html lang=\"en\"&gt;\\n&lt;head&gt;&lt;me...</td>\n",
       "    </tr>\n",
       "    <tr>\n",
       "      <th>mozolm</th>\n",
       "      <td>{'nbformat': 4, 'nbformat_minor': 5, 'metadata...</td>\n",
       "      <td>&lt;!DOCTYPE html&gt;\\n\\n&lt;html lang=\"en\"&gt;\\n&lt;head&gt;&lt;me...</td>\n",
       "    </tr>\n",
       "    <tr>\n",
       "      <th>homerplayer</th>\n",
       "      <td>{'nbformat': 4, 'nbformat_minor': 5, 'metadata...</td>\n",
       "      <td>&lt;!DOCTYPE html&gt;\\n\\n&lt;html lang=\"en\"&gt;\\n&lt;head&gt;&lt;me...</td>\n",
       "    </tr>\n",
       "    <tr>\n",
       "      <th>FLipMouse</th>\n",
       "      <td>{'nbformat': 4, 'nbformat_minor': 5, 'metadata...</td>\n",
       "      <td>&lt;!DOCTYPE html&gt;\\n\\n&lt;html lang=\"en\"&gt;\\n&lt;head&gt;&lt;me...</td>\n",
       "    </tr>\n",
       "    <tr>\n",
       "      <th>LipSync-Classic</th>\n",
       "      <td>{'nbformat': 4, 'nbformat_minor': 5, 'metadata...</td>\n",
       "      <td>&lt;!DOCTYPE html&gt;\\n\\n&lt;html lang=\"en\"&gt;\\n&lt;head&gt;&lt;me...</td>\n",
       "    </tr>\n",
       "  </tbody>\n",
       "</table>\n",
       "</div>"
      ],
      "text/plain": [
       "                                                                data  \\\n",
       "target                                                                 \n",
       "ai-collection      {'nbformat': 4, 'nbformat_minor': 5, 'metadata...   \n",
       "OptiKey            {'nbformat': 4, 'nbformat_minor': 5, 'metadata...   \n",
       "awesome-a11y       {'nbformat': 4, 'nbformat_minor': 5, 'metadata...   \n",
       "dicio-android      {'nbformat': 4, 'nbformat_minor': 5, 'metadata...   \n",
       "cboard             {'nbformat': 4, 'nbformat_minor': 5, 'metadata...   \n",
       "whisper_dictation  {'nbformat': 4, 'nbformat_minor': 5, 'metadata...   \n",
       "voqal              {'nbformat': 4, 'nbformat_minor': 5, 'metadata...   \n",
       "DReyeVR            {'nbformat': 4, 'nbformat_minor': 5, 'metadata...   \n",
       "righthand          {'nbformat': 4, 'nbformat_minor': 5, 'metadata...   \n",
       "speech-to-code     {'nbformat': 4, 'nbformat_minor': 5, 'metadata...   \n",
       "MathCAT            {'nbformat': 4, 'nbformat_minor': 5, 'metadata...   \n",
       "AsTeRICS-Grid      {'nbformat': 4, 'nbformat_minor': 5, 'metadata...   \n",
       "silviux            {'nbformat': 4, 'nbformat_minor': 5, 'metadata...   \n",
       "AsTeRICS           {'nbformat': 4, 'nbformat_minor': 5, 'metadata...   \n",
       "EyeCommander       {'nbformat': 4, 'nbformat_minor': 5, 'metadata...   \n",
       "dasher-web         {'nbformat': 4, 'nbformat_minor': 5, 'metadata...   \n",
       "mozolm             {'nbformat': 4, 'nbformat_minor': 5, 'metadata...   \n",
       "homerplayer        {'nbformat': 4, 'nbformat_minor': 5, 'metadata...   \n",
       "FLipMouse          {'nbformat': 4, 'nbformat_minor': 5, 'metadata...   \n",
       "LipSync-Classic    {'nbformat': 4, 'nbformat_minor': 5, 'metadata...   \n",
       "\n",
       "                                                                html  \n",
       "target                                                                \n",
       "ai-collection      <!DOCTYPE html>\\n\\n<html lang=\"en\">\\n<head><me...  \n",
       "OptiKey            <!DOCTYPE html>\\n\\n<html lang=\"en\">\\n<head><me...  \n",
       "awesome-a11y       <!DOCTYPE html>\\n\\n<html lang=\"en\">\\n<head><me...  \n",
       "dicio-android      <!DOCTYPE html>\\n\\n<html lang=\"en\">\\n<head><me...  \n",
       "cboard             <!DOCTYPE html>\\n\\n<html lang=\"en\">\\n<head><me...  \n",
       "whisper_dictation  <!DOCTYPE html>\\n\\n<html lang=\"en\">\\n<head><me...  \n",
       "voqal              <!DOCTYPE html>\\n\\n<html lang=\"en\">\\n<head><me...  \n",
       "DReyeVR            <!DOCTYPE html>\\n\\n<html lang=\"en\">\\n<head><me...  \n",
       "righthand          <!DOCTYPE html>\\n\\n<html lang=\"en\">\\n<head><me...  \n",
       "speech-to-code     <!DOCTYPE html>\\n\\n<html lang=\"en\">\\n<head><me...  \n",
       "MathCAT            <!DOCTYPE html>\\n\\n<html lang=\"en\">\\n<head><me...  \n",
       "AsTeRICS-Grid      <!DOCTYPE html>\\n\\n<html lang=\"en\">\\n<head><me...  \n",
       "silviux            <!DOCTYPE html>\\n\\n<html lang=\"en\">\\n<head><me...  \n",
       "AsTeRICS           <!DOCTYPE html>\\n\\n<html lang=\"en\">\\n<head><me...  \n",
       "EyeCommander       <!DOCTYPE html>\\n\\n<html lang=\"en\">\\n<head><me...  \n",
       "dasher-web         <!DOCTYPE html>\\n\\n<html lang=\"en\">\\n<head><me...  \n",
       "mozolm             <!DOCTYPE html>\\n\\n<html lang=\"en\">\\n<head><me...  \n",
       "homerplayer        <!DOCTYPE html>\\n\\n<html lang=\"en\">\\n<head><me...  \n",
       "FLipMouse          <!DOCTYPE html>\\n\\n<html lang=\"en\">\\n<head><me...  \n",
       "LipSync-Classic    <!DOCTYPE html>\\n\\n<html lang=\"en\">\\n<head><me...  "
      ]
     },
     "execution_count": 217,
     "metadata": {},
     "output_type": "execute_result"
    }
   ],
   "source": [
    "targets = pages.head(20).apply(\n",
    "    lambda x: nbformat.v4.new_notebook(cells=[\n",
    "        nbformat.v4.new_markdown_cell(str(x))\n",
    "    ])\n",
    ")\n",
    "\n",
    "targets = targets.to_frame(\"data\").combine_first(\n",
    "    targets.apply(compose_left(\n",
    "        nbformat.from_dict, exporter.from_notebook_node, first\n",
    "    )).to_frame(\"html\")\n",
    ")\n",
    "\n",
    "targets = targets.join(df.index.to_series().str.rpartition(\"/\")[2].rename(\"target\"))\n",
    "targets = targets.set_index(\"target\")\n",
    "targets "
   ]
  },
  {
   "cell_type": "code",
   "execution_count": 220,
   "id": "d93636d0-88a6-417d-9ba5-c2c313fa74fc",
   "metadata": {},
   "outputs": [],
   "source": [
    "target = Path(\"site\", \"a11yhood\", \"items\")\n",
    "\n",
    "for path, row in targets.iterrows():\n",
    "    target.mkdir(exist_ok=True, parents=True)\n",
    "    (target / path).with_suffix(\".html\").write_text(str(row[\"html\"]))"
   ]
  },
  {
   "cell_type": "code",
   "execution_count": 221,
   "id": "6d6d87af-9dba-409f-83b4-57fe59b19fdc",
   "metadata": {},
   "outputs": [],
   "source": [
    "targeted = Index(target.glob(\"*.html\")).rename(\"static\").to_frame()[[]]"
   ]
  },
  {
   "cell_type": "code",
   "execution_count": 222,
   "id": "08578f78-7769-485e-98b8-5696d7cd1e56",
   "metadata": {},
   "outputs": [
    {
     "data": {
      "application/vnd.jupyter.widget-view+json": {
       "model_id": "f00f1eda930841d38102c4aefa3fe8af",
       "version_major": 2,
       "version_minor": 0
      },
      "text/plain": [
       "interactive(children=(IntSlider(value=10, description='i', max=20), Output()), _dom_classes=('widget-interact'…"
      ]
     },
     "metadata": {},
     "output_type": "display_data"
    }
   ],
   "source": [
    "@ipywidgets.interact\n",
    "def show_iframes(i: (0, len(targeted))):\n",
    "    return IFrame(targeted.index[i], \"100%\", 600)"
   ]
  }
 ],
 "metadata": {
  "kernelspec": {
   "display_name": "allYourBase",
   "language": "python",
   "name": "based"
  },
  "language_info": {
   "codemirror_mode": {
    "name": "ipython",
    "version": 3
   },
   "file_extension": ".py",
   "mimetype": "text/x-python",
   "name": "python",
   "nbconvert_exporter": "python",
   "pygments_lexer": "ipython3",
   "version": "3.13.3"
  }
 },
 "nbformat": 4,
 "nbformat_minor": 5
}
